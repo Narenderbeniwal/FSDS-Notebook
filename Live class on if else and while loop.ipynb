{
 "cells": [
  {
   "cell_type": "raw",
   "id": "4ca317cb",
   "metadata": {},
   "source": [
    "'spam'+'spamspam'"
   ]
  },
  {
   "cell_type": "code",
   "execution_count": 1,
   "id": "0dbfcc5d",
   "metadata": {},
   "outputs": [
    {
     "data": {
      "text/plain": [
       "'spamspamspam'"
      ]
     },
     "execution_count": 1,
     "metadata": {},
     "output_type": "execute_result"
    }
   ],
   "source": [
    "'spam'+'spamspam'"
   ]
  },
  {
   "cell_type": "markdown",
   "id": "7185bec9",
   "metadata": {},
   "source": [
    "## Control flow and loops"
   ]
  },
  {
   "cell_type": "raw",
   "id": "ac9349c9",
   "metadata": {},
   "source": [
    "Conditionals:  Boolean values and operators, conditional (if), alternative (if-else), chained conditional (if-elif-else); Iteration: while, for, break, continue"
   ]
  },
  {
   "cell_type": "code",
   "execution_count": 4,
   "id": "e4aafc83",
   "metadata": {},
   "outputs": [
    {
     "data": {
      "text/plain": [
       "True"
      ]
     },
     "execution_count": 4,
     "metadata": {},
     "output_type": "execute_result"
    }
   ],
   "source": [
    "5!=7"
   ]
  },
  {
   "cell_type": "code",
   "execution_count": 5,
   "id": "1e7449a3",
   "metadata": {},
   "outputs": [
    {
     "data": {
      "text/plain": [
       "False"
      ]
     },
     "execution_count": 5,
     "metadata": {},
     "output_type": "execute_result"
    }
   ],
   "source": [
    "5==7"
   ]
  },
  {
   "cell_type": "markdown",
   "id": "4609f6f5",
   "metadata": {},
   "source": [
    "the if statment contaions logical expression using which data is compared and a decision is made based on the result of the comparison. "
   ]
  },
  {
   "cell_type": "code",
   "execution_count": 11,
   "id": "e531543a",
   "metadata": {},
   "outputs": [
    {
     "name": "stdout",
     "output_type": "stream",
     "text": [
      "this is correct\n"
     ]
    }
   ],
   "source": [
    "a= 5\n",
    "if a ==5:\n",
    "    print(\"this is correct\")\n",
    "else:\n",
    "    print(\" this is not corrrect\")"
   ]
  },
  {
   "cell_type": "markdown",
   "id": "905fc90b",
   "metadata": {},
   "source": [
    "Alternative if (If-Else): \n",
    "An else statement can be combined with an if statement. An else statement contains the block of code (false block) that executes if the conditional expression in the if statement resolves to 0 or a FALSE value. \n",
    "The else statement is an optional statement and there could be at most only one else Statement following if."
   ]
  },
  {
   "cell_type": "code",
   "execution_count": 14,
   "id": "36c88af1",
   "metadata": {},
   "outputs": [
    {
     "name": "stdout",
     "output_type": "stream",
     "text": [
      "Enter a number :34234\n",
      " please write a number between 1 to 10\n"
     ]
    }
   ],
   "source": [
    "a = int(input(\"Enter a number :\"))\n",
    "if a<10:\n",
    "    print(\" we are good to go\")\n",
    "else:\n",
    "    print(\" please write a number between 1 to 10\")"
   ]
  },
  {
   "cell_type": "code",
   "execution_count": 16,
   "id": "9dcb3fe9",
   "metadata": {},
   "outputs": [
    {
     "name": "stdout",
     "output_type": "stream",
     "text": [
      " correct number\n"
     ]
    }
   ],
   "source": [
    "a = 10\n",
    "b = 5\n",
    "if a>b:\n",
    "    print(\" correct number\")\n",
    "else: \n",
    "    print(\"please try again\")"
   ]
  },
  {
   "cell_type": "markdown",
   "id": "3796ef6b",
   "metadata": {},
   "source": [
    "## Canined  Conditional: (If-elif-else): "
   ]
  },
  {
   "cell_type": "code",
   "execution_count": 26,
   "id": "10fada0e",
   "metadata": {},
   "outputs": [
    {
     "name": "stdout",
     "output_type": "stream",
     "text": [
      "enter the 1st number13123\n",
      "enter the 2st number231\n",
      "enter the 3st number213\n"
     ]
    }
   ],
   "source": [
    "a = int(input(\"enter the 1st number\"))\n",
    "b = int(input(\"enter the 2st number\"))\n",
    "c = int(input(\"enter the 3st number\"))\n",
    "if a>b:\n",
    "    pass\n",
    "elif b>c:\n",
    "    print(\"b us grater\")\n",
    "else:\n",
    "    print('C is the gretatest numner')"
   ]
  },
  {
   "cell_type": "code",
   "execution_count": 23,
   "id": "c0f7c3e7",
   "metadata": {},
   "outputs": [
    {
     "name": "stdout",
     "output_type": "stream",
     "text": [
      "enter a number23\n"
     ]
    }
   ],
   "source": [
    "a = int(input(\"enter a number\"))\n",
    "if a <34:\n",
    "    \n",
    "        pass"
   ]
  },
  {
   "cell_type": "code",
   "execution_count": 27,
   "id": "8a03265f",
   "metadata": {},
   "outputs": [],
   "source": [
    "## A company decided to give bonus of 5% to employee if his/her year of service is more than 5 years.\n",
    "#Ask user for their salary and year of service and print the net bonus amount.\n"
   ]
  },
  {
   "cell_type": "code",
   "execution_count": 31,
   "id": "814e0ef2",
   "metadata": {},
   "outputs": [
    {
     "name": "stdout",
     "output_type": "stream",
     "text": [
      " enter salary\n",
      "32432\n",
      " year of serveice you have in this \n",
      "10\n",
      "bonus is 1621.6000000000001\n"
     ]
    }
   ],
   "source": [
    "print(\" enter salary\")\n",
    "salary = int(input())\n",
    "print(\" year of serveice you have in this \")\n",
    "yos = int(input())\n",
    "if yos>5:\n",
    "    print(\"bonus is\", .05*salary)\n",
    "else:\n",
    "    print(\"no boubs\")"
   ]
  },
  {
   "cell_type": "code",
   "execution_count": 32,
   "id": "b9a6a024",
   "metadata": {},
   "outputs": [],
   "source": [
    "## Q2, we have to check if the person is elegibale for the voting or not"
   ]
  },
  {
   "cell_type": "code",
   "execution_count": 35,
   "id": "019d90dd",
   "metadata": {},
   "outputs": [
    {
     "name": "stdout",
     "output_type": "stream",
     "text": [
      "enter your age3434\n",
      " elegible for voting\n"
     ]
    }
   ],
   "source": [
    "age = int(input(\"enter your age\"))\n",
    "if age>18:\n",
    "    print(\" elegible for voting\")\n",
    "else:\n",
    "    print(\"no elegible\")"
   ]
  },
  {
   "cell_type": "code",
   "execution_count": 36,
   "id": "da3d10f7",
   "metadata": {},
   "outputs": [],
   "source": [
    "## write a program to check if the number is div by 7 or not"
   ]
  },
  {
   "cell_type": "code",
   "execution_count": 38,
   "id": "ac24f923",
   "metadata": {},
   "outputs": [
    {
     "name": "stdout",
     "output_type": "stream",
     "text": [
      "enter the number youb want to check if this is div by 7 or not14\n",
      "Number is div by 7\n"
     ]
    }
   ],
   "source": [
    "num = int(input(\"enter the number youb want to check if this is div by 7 or not\"))\n",
    "if num%7==0:\n",
    "    print(\"Number is div by 7\")\n",
    "else:\n",
    "    print(\"tyr again\")"
   ]
  },
  {
   "cell_type": "raw",
   "id": "883490a3",
   "metadata": {},
   "source": [
    " Write a program to calculate the electricity bill (accept number of unit from user) according to the following criteria :\n",
    "             Unit                                                     Price  \n",
    "First 100 units                                               no charge\n",
    "Next 100 units                                              Rs 5 per unit\n",
    "After 200 units                                             Rs 10 per unit\n",
    "(For example if input unit is 350 than total bill amount is Rs2000) '''"
   ]
  },
  {
   "cell_type": "code",
   "execution_count": 44,
   "id": "8908ff67",
   "metadata": {},
   "outputs": [
    {
     "name": "stdout",
     "output_type": "stream",
     "text": [
      "enter your number of units250\n",
      "Amount to pay: 1000\n"
     ]
    }
   ],
   "source": [
    "amt=0 \n",
    "nu = int(input(\"enter your number of units\"))\n",
    "if nu<=100:\n",
    "    amt=0\n",
    "if nu>100 and nu <=200: \n",
    "    amt = (nu-100)*5\n",
    "if  nu>200:\n",
    "    amt =500+ (nu-200)*10\n",
    "print(\"Amount to pay:\", amt)"
   ]
  },
  {
   "cell_type": "code",
   "execution_count": null,
   "id": "458e693c",
   "metadata": {},
   "outputs": [],
   "source": []
  }
 ],
 "metadata": {
  "kernelspec": {
   "display_name": "Python 3",
   "language": "python",
   "name": "python3"
  },
  "language_info": {
   "codemirror_mode": {
    "name": "ipython",
    "version": 3
   },
   "file_extension": ".py",
   "mimetype": "text/x-python",
   "name": "python",
   "nbconvert_exporter": "python",
   "pygments_lexer": "ipython3",
   "version": "3.8.8"
  }
 },
 "nbformat": 4,
 "nbformat_minor": 5
}
