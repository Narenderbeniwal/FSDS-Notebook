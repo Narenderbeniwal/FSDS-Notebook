{
 "cells": [
  {
   "cell_type": "raw",
   "id": "6244c064",
   "metadata": {},
   "source": [
    "\n",
    "# 1. What does one mean by the term \"machine learning\"?\n",
    "2.Can you think of 4 distinct types of issues where it shines?\n",
    "3.What is a labeled training set, and how does it work?\n",
    "4.What are the two most important tasks that are supervised?\n",
    "5.Can you think of four examples of unsupervised tasks?\n",
    "6.State the machine learning model that would be best to make a robot walk through various unfamiliar terrains?\n",
    "7.Which algorithm will you use to divide your customers into different groups?\n",
    "8.Will you consider the problem of spam detection to be a supervised or unsupervised learning problem?"
   ]
  },
  {
   "cell_type": "raw",
   "id": "948f0ac9",
   "metadata": {},
   "source": [
    "1. What does one mean by the term \"machine learning\"?\n",
    "2.Can you think of 4 distinct types of issues where it shines?\n",
    "3.What is a labeled training set, and how does it work?\n",
    "4.What are the two most important tasks that are supervised?\n",
    "5.Can you think of four examples of unsupervised tasks?\n",
    "6.State the machine learning model that would be best to make a robot walk through various unfamiliar terrains?\n",
    "7.Which algorithm will you use to divide your customers into different groups?\n",
    "8.Will you consider the problem of spam detection to be a supervised or unsupervised learning problem?\n",
    "9.What is the concept of an online learning system?\n",
    "10.What is out-of-core learning, and how does it differ from core learning?\n",
    "11.What kind of learning algorithm makes predictions using a similarity measure?\n",
    "12.What's the difference between a model parameter and a hyperparameter in a learning algorithm?\n",
    "13.What are the criteria that model-based learning algorithms look for? What is the most popular method they use to achieve success? What method do they use to make predictions?\n",
    "14.Can you name four of the most important Machine Learning challenges?\n",
    "15.What happens if the model performs well on the training data but fails to generalize the results to new situations? Can you think of three different options?\n",
    "16.What exactly is a test set, and why would you need one?\n",
    "17.What is a validation set's purpose?\n",
    "18.What precisely is the train-dev kit, when will you need it, how do you put it to use?\n",
    "19.What could go wrong if you use the test set to tune hyperparameters?"
   ]
  },
  {
   "cell_type": "raw",
   "id": "fec91ba7",
   "metadata": {},
   "source": [
    "1. What does one mean by the term \"machine learning\"?\n",
    "Sol:Machine learning (ML) is a type of artificial intelligence (AI) that allows software applications to become more accurate at predicting outcomes without being explicitly programmed to do so. Machine learning algorithms use historical data as input to predict new output values.\n",
    "\n",
    "\n",
    "\n",
    "Machine learning is a branch of artificial intelligence (AI) and computer science which focuses on the use of data and algorithms to imitate the way that humans learn, gradually improving its accuracy"
   ]
  },
  {
   "cell_type": "raw",
   "id": "3a9847c4",
   "metadata": {},
   "source": [
    "2.Can you think of 4 distinct types of issues where it shines?\n",
    "Sol: Netflix recomendation, siri,, google speach to text, uber,old"
   ]
  },
  {
   "cell_type": "code",
   "execution_count": null,
   "id": "d2c5004e",
   "metadata": {},
   "outputs": [],
   "source": [
    "3.What is a labeled training set, and how does it work?\n"
   ]
  }
 ],
 "metadata": {
  "kernelspec": {
   "display_name": "Python 3",
   "language": "python",
   "name": "python3"
  },
  "language_info": {
   "codemirror_mode": {
    "name": "ipython",
    "version": 3
   },
   "file_extension": ".py",
   "mimetype": "text/x-python",
   "name": "python",
   "nbconvert_exporter": "python",
   "pygments_lexer": "ipython3",
   "version": "3.8.8"
  }
 },
 "nbformat": 4,
 "nbformat_minor": 5
}
