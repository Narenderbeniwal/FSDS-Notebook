{
 "cells": [
  {
   "cell_type": "markdown",
   "id": "1a41a1fe",
   "metadata": {},
   "source": [
    "# AEXP ASSIGNMENT\n",
    "\n",
    "* Hi! This is a pre interview assignment to test your **programming** and **statistical** skills. \n",
    "* You have an hour to complete the test. \n",
    "* Time your test properly- **question 4 is a mandatory question and it has 4 parts all of them are mandatory**."
   ]
  },
  {
   "cell_type": "code",
   "execution_count": 2,
   "id": "fa3a78a6",
   "metadata": {},
   "outputs": [],
   "source": [
    "from sklearn.datasets import load_diabetes"
   ]
  },
  {
   "cell_type": "code",
   "execution_count": 11,
   "id": "1d38dd9c",
   "metadata": {},
   "outputs": [],
   "source": [
    "import pandas as pd\n",
    "dataset = load_diabetes()\n",
    "X = dataset.data\n",
    "y = dataset.target\n",
    "df = pd.DataFrame(data=dataset.data, columns=['age', 'sex', 'bmi', 'bp', 's1', 's2', 's3', 's4', 's5', 's6'])\n",
    "df[\"target\"] = dataset.target\n",
    "df.head(5)\n",
    "from sklearn.model_selection import train_test_split\n",
    "\n"
   ]
  },
  {
   "cell_type": "markdown",
   "id": "92afcb15",
   "metadata": {},
   "source": [
    "# Question 1\n",
    "\n",
    "### Create a new column in the dataframe which is the product of BMI and BP name it as prd_feat_1\n",
    "### Create another column target_percentile which takes prd_feat_1 as input and returns any one of the following\n",
    "\n",
    "* if value<=25th percentile then value=1 \n",
    "* if value>25th percentile and value<=50th percentile then value=2\n",
    "* if value>50th percentile and value<=75th percentile then value=3\n",
    "* if value>75th percentile then value=4\n"
   ]
  },
  {
   "cell_type": "code",
   "execution_count": 8,
   "id": "6f4f25bc",
   "metadata": {},
   "outputs": [
    {
     "ename": "NameError",
     "evalue": "name 'prd_feat_1' is not defined",
     "output_type": "error",
     "traceback": [
      "\u001b[1;31m---------------------------------------------------------------------------\u001b[0m",
      "\u001b[1;31mNameError\u001b[0m                                 Traceback (most recent call last)",
      "\u001b[1;32m<ipython-input-8-478a00d2bd34>\u001b[0m in \u001b[0;36m<module>\u001b[1;34m\u001b[0m\n\u001b[1;32m----> 1\u001b[1;33m \u001b[0mdf\u001b[0m\u001b[1;33m.\u001b[0m \u001b[0minsert\u001b[0m\u001b[1;33m(\u001b[0m\u001b[0mX\u001b[0m\u001b[1;33m,\u001b[0m \u001b[0mprd_feat_1\u001b[0m\u001b[1;33m,\u001b[0m \u001b[0maxis\u001b[0m\u001b[1;33m=\u001b[0m\u001b[1;36m1\u001b[0m\u001b[1;33m)\u001b[0m\u001b[1;33m\u001b[0m\u001b[1;33m\u001b[0m\u001b[0m\n\u001b[0m",
      "\u001b[1;31mNameError\u001b[0m: name 'prd_feat_1' is not defined"
     ]
    }
   ],
   "source": [
    "df. insert(X, prd_feat_1, axis=1)"
   ]
  },
  {
   "cell_type": "code",
   "execution_count": null,
   "id": "924f64e6",
   "metadata": {},
   "outputs": [],
   "source": []
  },
  {
   "cell_type": "markdown",
   "id": "eea5d675",
   "metadata": {},
   "source": [
    "# Question 2\n",
    "\n",
    "### Split the data into test and train dataset keeping the distribution of the target_percentile similar for both of them\n"
   ]
  },
  {
   "cell_type": "code",
   "execution_count": 12,
   "id": "5e3ec149",
   "metadata": {},
   "outputs": [],
   "source": [
    "X_train,y_train,X_test,y_test = train_test_split(X,y,test_size= .30, random_state=30)"
   ]
  },
  {
   "cell_type": "code",
   "execution_count": null,
   "id": "b75cdd95",
   "metadata": {},
   "outputs": [],
   "source": []
  },
  {
   "cell_type": "markdown",
   "id": "4bb10d3f",
   "metadata": {},
   "source": [
    "# Question 3\n",
    "\n",
    "### We have to design a deep learning system to identify brain tumor through CT scan images\n",
    "\n",
    "#### What do you think might be the most appropriate evaluation metric and why: Accuracy, Precision, Recall, F1 score."
   ]
  },
  {
   "cell_type": "code",
   "execution_count": null,
   "id": "819a88f7",
   "metadata": {},
   "outputs": [],
   "source": []
  },
  {
   "cell_type": "markdown",
   "id": "97497088",
   "metadata": {},
   "source": [
    "# Question 4\n"
   ]
  },
  {
   "cell_type": "code",
   "execution_count": null,
   "id": "2871ac9e",
   "metadata": {},
   "outputs": [],
   "source": [
    "*** DO NOT CHANGE THIS PART ***\n",
    "\n",
    "string_1 = '''Hist’’^ory also includes [6] the academic discipline which uses narrative to describe, examine, question, and analyze past events, and investigate their patterns [6] of cause and effect.[6][7] Historians often debate which narrati[10]ve best explains an event, as well as the signific’’^ance of[6] different causes and effects. Histo’’^rians also debate the [6]nature of history as an end in itself, as well as its usefulness to give perspective on the problems of the present.[6][8][9][10]'''\n",
    "string_2 = '''Stories common to a particular cultu’’^re, but not supported by external sources (such as the tales surrounding King Arthur), are usually classified as cultural herit’’^age or legends.[11][12] History differs from myth in that it is supported by evidence. However, ancient cultural influences have helped spawn variant interpretations of the nature of History which have evo’’^lved over the [11] [11] [11] centuries and continue to change today. The modern study of history is wide-ranging, and includes the study of specific regions and the study of certain topical or thematic elements of historical investigation. History is often taught as [11][ part of primary and secondary education, and the academic study of history is a major discipline in university studies.'''\n",
    "string_3  = '''Stories common to a particular culture, but not supported by external sources (such as the tales surrounding King Arthur), are usually classified as cultural heritage or legends.[11][12] History differs from myth in that it is supported by evidence. However, ancient cultural influences have helped spawn variant interpretations of the nature of history which have evolved over [14][15]  [14][15]  the centuries and continue to change today. The modern study of history is wide-ranging, and includes the study of specific regions and the study of certain topical or thematic elements of historical investigation. Herodotus, a 5th-century BC Greek historian, is often considered the \"father of history\" in the Western tradition,[13] although he has also been criticized as the \"father of lies\".[14][15] Along with his contemporary Thucydides, he helped form the foundations for the modern study of past events and societies. Their works continue to be read today, and the gap between the culture-focused Herodotus and the military-focused Thucydides remains a point of contention or approach in modern historical writing.'''"
   ]
  },
  {
   "cell_type": "markdown",
   "id": "d7ea76b2",
   "metadata": {},
   "source": [
    "### Part 1 remove punctuations and special characters  from the 3 strings and create a list"
   ]
  },
  {
   "cell_type": "code",
   "execution_count": null,
   "id": "3238a7f4",
   "metadata": {},
   "outputs": [],
   "source": []
  },
  {
   "cell_type": "markdown",
   "id": "5d281f16",
   "metadata": {},
   "source": [
    "### Part 2 make everything lowercase within the list from above"
   ]
  },
  {
   "cell_type": "code",
   "execution_count": 19,
   "id": "8ffa2339",
   "metadata": {},
   "outputs": [
    {
     "ename": "NameError",
     "evalue": "name 'string_1' is not defined",
     "output_type": "error",
     "traceback": [
      "\u001b[1;31m---------------------------------------------------------------------------\u001b[0m",
      "\u001b[1;31mNameError\u001b[0m                                 Traceback (most recent call last)",
      "\u001b[1;32m<ipython-input-19-f0ef2c82c1c1>\u001b[0m in \u001b[0;36m<module>\u001b[1;34m\u001b[0m\n\u001b[1;32m----> 1\u001b[1;33m \u001b[0mdf1\u001b[0m \u001b[1;33m=\u001b[0m \u001b[1;33m(\u001b[0m\u001b[0mstring_1\u001b[0m\u001b[1;33m+\u001b[0m\u001b[0mstring_2\u001b[0m\u001b[1;33m+\u001b[0m\u001b[0mstring_3\u001b[0m\u001b[1;33m)\u001b[0m\u001b[1;33m\u001b[0m\u001b[1;33m\u001b[0m\u001b[0m\n\u001b[0m\u001b[0;32m      2\u001b[0m \u001b[1;33m\u001b[0m\u001b[0m\n\u001b[0;32m      3\u001b[0m \u001b[1;33m\u001b[0m\u001b[0m\n\u001b[0;32m      4\u001b[0m \u001b[0mdf1\u001b[0m\u001b[1;33m.\u001b[0m\u001b[0mlower\u001b[0m\u001b[1;33m\u001b[0m\u001b[1;33m\u001b[0m\u001b[0m\n",
      "\u001b[1;31mNameError\u001b[0m: name 'string_1' is not defined"
     ]
    }
   ],
   "source": [
    "df1 = (string_1+string_2+string_3)\n",
    "\n",
    "\n",
    "df1.lower"
   ]
  },
  {
   "cell_type": "code",
   "execution_count": 17,
   "id": "9993c1e7",
   "metadata": {},
   "outputs": [
    {
     "name": "stdout",
     "output_type": "stream",
     "text": [
      "df1\n"
     ]
    }
   ],
   "source": [
    "print(df1)"
   ]
  },
  {
   "cell_type": "markdown",
   "id": "173b7b98",
   "metadata": {},
   "source": [
    "### Part 3 remove prepositions from the strings from above list"
   ]
  },
  {
   "cell_type": "code",
   "execution_count": null,
   "id": "32c2d214",
   "metadata": {},
   "outputs": [],
   "source": []
  },
  {
   "cell_type": "markdown",
   "id": "5398c50e",
   "metadata": {},
   "source": [
    " ###  Part 4 From the list you created above count the number of occurances following phrase for each string\n",
    " \n",
    " #### **\"history evolved centuries\"** \n",
    " \n",
    " ### The above phrase can occur more than once in the above strings in the same sequence given there can be upto **4 words** between each of the them.\n",
    "\n",
    "**ex-**  \n",
    "* <start>.... history **w1** **w2** evolved **w1** **w2** **w3** **w4** centuries .... <end>\n",
    "    \n",
    "* <start>.... history **w1** evolved centuries .... <end>\n",
    "    \n",
    "* <start>.... history evolved centuries ....<end>\n",
    "\n",
    "* <start>.... history **w1 w2**  evolved **w1** centuries ....<end>\n"
   ]
  },
  {
   "cell_type": "code",
   "execution_count": null,
   "id": "8a3a6ff0",
   "metadata": {},
   "outputs": [],
   "source": []
  },
  {
   "cell_type": "code",
   "execution_count": null,
   "id": "b165e1e1",
   "metadata": {},
   "outputs": [],
   "source": []
  },
  {
   "cell_type": "markdown",
   "id": "2201e1a7",
   "metadata": {},
   "source": [
    "# Question 5"
   ]
  },
  {
   "cell_type": "markdown",
   "id": "9fc18b98",
   "metadata": {},
   "source": [
    "#### *  What is the time complexity of your algo?"
   ]
  },
  {
   "cell_type": "code",
   "execution_count": null,
   "id": "078b46e5",
   "metadata": {},
   "outputs": [],
   "source": []
  },
  {
   "cell_type": "markdown",
   "id": "85908e2d",
   "metadata": {},
   "source": [
    "#### *  Can you design it in linear time?"
   ]
  },
  {
   "cell_type": "code",
   "execution_count": null,
   "id": "54aa5384",
   "metadata": {},
   "outputs": [],
   "source": []
  },
  {
   "cell_type": "markdown",
   "id": "9a2d2eda",
   "metadata": {},
   "source": [
    "# Question 6"
   ]
  },
  {
   "cell_type": "markdown",
   "id": "addf7745",
   "metadata": {},
   "source": [
    "### P1 and P2 are two persons: \n",
    "    \n",
    "#### P1 thinks even numbers are lucky for him and randomly rolls a dice once and cuts a square from a sheet of paper with side value = value on dice only when there is an even number\n",
    "\n",
    "#### P2 who doesn't believe in luck however rolls the dice twice and cuts a rectangle with length as first roll value and breadth as second roll value\n",
    "\n",
    "* On an average, what is the size of area end up cutting by each person?\n",
    "* Are they equal? \n",
    "* If not then who cuts the larger area and why?\n",
    "(Hint: structure the problem algorithmically)"
   ]
  },
  {
   "cell_type": "code",
   "execution_count": null,
   "id": "d3ffbb5b",
   "metadata": {},
   "outputs": [],
   "source": []
  },
  {
   "cell_type": "code",
   "execution_count": null,
   "id": "7cb2472f",
   "metadata": {},
   "outputs": [],
   "source": []
  }
 ],
 "metadata": {
  "kernelspec": {
   "display_name": "Python 3",
   "language": "python",
   "name": "python3"
  },
  "language_info": {
   "codemirror_mode": {
    "name": "ipython",
    "version": 3
   },
   "file_extension": ".py",
   "mimetype": "text/x-python",
   "name": "python",
   "nbconvert_exporter": "python",
   "pygments_lexer": "ipython3",
   "version": "3.8.8"
  }
 },
 "nbformat": 4,
 "nbformat_minor": 5
}
