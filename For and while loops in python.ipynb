{
 "cells": [
  {
   "cell_type": "code",
   "execution_count": 1,
   "id": "23a871e5",
   "metadata": {},
   "outputs": [
    {
     "ename": "SyntaxError",
     "evalue": "invalid syntax (<ipython-input-1-72966b203f9f>, line 1)",
     "output_type": "error",
     "traceback": [
      "\u001b[1;36m  File \u001b[1;32m\"<ipython-input-1-72966b203f9f>\"\u001b[1;36m, line \u001b[1;32m1\u001b[0m\n\u001b[1;33m    +\u001b[0m\n\u001b[1;37m      ^\u001b[0m\n\u001b[1;31mSyntaxError\u001b[0m\u001b[1;31m:\u001b[0m invalid syntax\n"
     ]
    }
   ],
   "source": [
    "+ \n",
    "+ + \n",
    "+ + + \n",
    "+ + + + \n",
    "+ + + + + \n",
    "+ + + + + + \n",
    "+ + + + + + + \n",
    "​\n"
   ]
  },
  {
   "cell_type": "code",
   "execution_count": 2,
   "id": "ba95d151",
   "metadata": {},
   "outputs": [
    {
     "ename": "SyntaxError",
     "evalue": "invalid syntax (<ipython-input-2-3262c2670bb8>, line 1)",
     "output_type": "error",
     "traceback": [
      "\u001b[1;36m  File \u001b[1;32m\"<ipython-input-2-3262c2670bb8>\"\u001b[1;36m, line \u001b[1;32m1\u001b[0m\n\u001b[1;33m    ***********************\u001b[0m\n\u001b[1;37m    ^\u001b[0m\n\u001b[1;31mSyntaxError\u001b[0m\u001b[1;31m:\u001b[0m invalid syntax\n"
     ]
    }
   ],
   "source": [
    "***********************\n",
    "********\n",
    "***"
   ]
  },
  {
   "cell_type": "code",
   "execution_count": 8,
   "id": "8d43058b",
   "metadata": {
    "scrolled": true
   },
   "outputs": [
    {
     "name": "stdout",
     "output_type": "stream",
     "text": [
      "+\r\n",
      "++\r\n",
      "+++\r\n",
      "++++\r\n",
      "+++++\r\n",
      "++++++\r\n",
      "+++++++\r\n"
     ]
    }
   ],
   "source": [
    "n=7\n",
    "for i in range(0,n): ##0,7 ,0,1,2,3,4,5,6,7\n",
    "    for j in range(0, i +1):#1,2,3 ()\n",
    "        print(\"+\", end=\"\")\n",
    "    print(\"\\r\")"
   ]
  },
  {
   "cell_type": "code",
   "execution_count": 4,
   "id": "bb7f3eb1",
   "metadata": {},
   "outputs": [
    {
     "name": "stdout",
     "output_type": "stream",
     "text": [
      "Object `Python` not found.\n"
     ]
    }
   ],
   "source": [
    "What does end =\"\" do in Python?"
   ]
  },
  {
   "cell_type": "code",
   "execution_count": null,
   "id": "593c6ee3",
   "metadata": {},
   "outputs": [],
   "source": [
    "What does end =’ do in Python"
   ]
  },
  {
   "cell_type": "code",
   "execution_count": 11,
   "id": "d0c0bd84",
   "metadata": {},
   "outputs": [
    {
     "name": "stdout",
     "output_type": "stream",
     "text": [
      "7\n",
      "6\n",
      "5\n",
      "4\n",
      "3\n",
      "2\n",
      "1\n"
     ]
    }
   ],
   "source": [
    "for i in range(7,0,-1):\n",
    "    print(i)"
   ]
  },
  {
   "cell_type": "code",
   "execution_count": 13,
   "id": "9a37dbfe",
   "metadata": {},
   "outputs": [
    {
     "name": "stdout",
     "output_type": "stream",
     "text": [
      "0\n",
      "1\n",
      "2\n",
      "3\n",
      "4\n",
      "5\n",
      "6\n",
      "7\n",
      "8\n"
     ]
    }
   ],
   "source": [
    "for i in range(0,9):\n",
    "    print(i)"
   ]
  },
  {
   "cell_type": "code",
   "execution_count": 14,
   "id": "17fdeece",
   "metadata": {},
   "outputs": [],
   "source": [
    "for i in range(0,9,-1):\n",
    "    print(i)"
   ]
  },
  {
   "cell_type": "code",
   "execution_count": 17,
   "id": "192dea15",
   "metadata": {},
   "outputs": [
    {
     "name": "stdout",
     "output_type": "stream",
     "text": [
      "9\n",
      "8\n",
      "7\n",
      "6\n",
      "5\n",
      "4\n",
      "3\n",
      "2\n",
      "1\n"
     ]
    }
   ],
   "source": [
    "for i in range(9,0,-1):\n",
    "    print(i)"
   ]
  },
  {
   "cell_type": "code",
   "execution_count": 18,
   "id": "942e1b9d",
   "metadata": {},
   "outputs": [
    {
     "name": "stdout",
     "output_type": "stream",
     "text": [
      "++++++++\r\n",
      "+++++++\r\n",
      "++++++\r\n",
      "+++++\r\n",
      "++++\r\n",
      "+++\r\n",
      "++\r\n"
     ]
    }
   ],
   "source": [
    "n=7\n",
    "for i in range(n,0,-1): ##0,7 ,0,1,2,3,4,5,6,7\n",
    "    for j in range(0, i +1):#1,2,3 ()\n",
    "        print(\"+\", end=\"\")\n",
    "    print(\"\\r\")"
   ]
  },
  {
   "cell_type": "code",
   "execution_count": 22,
   "id": "086960e5",
   "metadata": {},
   "outputs": [
    {
     "name": "stdout",
     "output_type": "stream",
     "text": [
      "0\n",
      "3\n",
      "6\n",
      "9\n",
      "12\n",
      "15\n"
     ]
    }
   ],
   "source": [
    "for i in range(0,18,3):\n",
    "    print(i)"
   ]
  },
  {
   "cell_type": "raw",
   "id": "495573a3",
   "metadata": {},
   "source": [
    "1\n",
    "2 2\n",
    "3 3 3\n",
    "4 4 4 4\n",
    "5 5 5 5 5 "
   ]
  },
  {
   "cell_type": "code",
   "execution_count": 35,
   "id": "49799d44",
   "metadata": {},
   "outputs": [
    {
     "name": "stdout",
     "output_type": "stream",
     "text": [
      " \n",
      "1  \n",
      "2 2  \n",
      "3 3 3  \n",
      "4 4 4 4  \n",
      "5 5 5 5 5  \n"
     ]
    }
   ],
   "source": [
    "depth = 6\n",
    "for num1 in range(depth): ### (0,1,2,3,4,5)\n",
    "    for i in range(num1):\n",
    "        print(num1, end=\" \")\n",
    "    print(\" \")"
   ]
  },
  {
   "cell_type": "raw",
   "id": "5e105018",
   "metadata": {},
   "source": [
    "1\n",
    "1 2\n",
    "1 2 3\n",
    "1 2 3 4\n",
    "1 2 3 4 5 "
   ]
  },
  {
   "cell_type": "code",
   "execution_count": 38,
   "id": "ba1581b1",
   "metadata": {},
   "outputs": [
    {
     "name": "stdout",
     "output_type": "stream",
     "text": [
      "1  \n",
      "1 2  \n",
      "1 2 3  \n",
      "1 2 3 4  \n",
      "1 2 3 4 5  \n",
      "1 2 3 4 5 6  \n",
      "1 2 3 4 5 6 7  \n",
      "1 2 3 4 5 6 7 8  \n"
     ]
    }
   ],
   "source": [
    "depth = 9\n",
    "for number in range(1,depth): ## 1,2,3,4,5\n",
    "    for i in range(1, number+1):\n",
    "        \n",
    "        print(i, end=\" \")\n",
    "    print(\" \")\n"
   ]
  },
  {
   "cell_type": "raw",
   "id": "bc788929",
   "metadata": {},
   "source": [
    "1 1 1 1 1 1 \n",
    "2 2 2 2\n",
    "3 3 3\n",
    "2 2\n",
    "1"
   ]
  },
  {
   "cell_type": "code",
   "execution_count": 42,
   "id": "2a8a612a",
   "metadata": {},
   "outputs": [
    {
     "name": "stdout",
     "output_type": "stream",
     "text": [
      "1 1 1 1 1 \r\n",
      "2 2 2 2 \r\n",
      "3 3 3 \r\n",
      "4 4 \r\n",
      "5 \r\n"
     ]
    }
   ],
   "source": [
    "row = 5\n",
    "a = 0\n",
    "for i in range(row,0,-1): ## 5,4,3,2,1\n",
    "    a+=1\n",
    "    for j in range(1, i+1): ## rowor i = 5\n",
    "        print(a,end=' ')\n",
    "    print('\\r')"
   ]
  },
  {
   "cell_type": "code",
   "execution_count": 41,
   "id": "7a9fbd50",
   "metadata": {},
   "outputs": [
    {
     "name": "stdout",
     "output_type": "stream",
     "text": [
      "5\n",
      "4\n",
      "3\n",
      "2\n",
      "1\n"
     ]
    }
   ],
   "source": [
    "for i in range(row,0,-1):\n",
    "    print(i)"
   ]
  },
  {
   "cell_type": "code",
   "execution_count": 46,
   "id": "78f595f5",
   "metadata": {},
   "outputs": [
    {
     "name": "stdout",
     "output_type": "stream",
     "text": [
      "1\n",
      "2\n",
      "3\n",
      "4\n"
     ]
    }
   ],
   "source": [
    "for j in range(1, 4+1):\n",
    "    print(j)"
   ]
  },
  {
   "cell_type": "code",
   "execution_count": 52,
   "id": "ffc372ed",
   "metadata": {},
   "outputs": [
    {
     "name": "stdout",
     "output_type": "stream",
     "text": [
      "enter a number:6788\n",
      "enter a number:4342\n",
      "enter a number:52543\n",
      "enter a number:23545\n",
      "enter a number:45325\n",
      "enter a number:235432\n",
      "enter a number:454453\n",
      "enter a number:4365464\n",
      "enter a number:64\n",
      "enter a number:654655\n",
      "average is 584261.1\n"
     ]
    }
   ],
   "source": [
    "## Take 10 integers from keyboard using loop and print their average value on the screen.\n",
    "\n",
    "sum = 0\n",
    "\n",
    "i = 10\n",
    "while i>0:\n",
    "  num=int(input(\"enter a number:\"))\n",
    "  sum = sum + num\n",
    "  i = i-1\n",
    "print (\"average is\",sum/10.0)"
   ]
  },
  {
   "cell_type": "raw",
   "id": "a5d9c45b",
   "metadata": {},
   "source": [
    "Write a program to find the sum of all even numbers that falls between two numbers (exclusive both numbers) entered from the user using while loop### 2,10"
   ]
  },
  {
   "cell_type": "code",
   "execution_count": 56,
   "id": "6f3a094f",
   "metadata": {},
   "outputs": [
    {
     "name": "stdout",
     "output_type": "stream",
     "text": [
      " Enter the 1st number: 30\n",
      "Enter the 2st number:90\n",
      "30\n",
      "33\n",
      "36\n",
      "39\n",
      "42\n",
      "45\n",
      "48\n",
      "51\n",
      "54\n",
      "57\n",
      "60\n",
      "63\n",
      "66\n",
      "69\n",
      "72\n",
      "75\n",
      "78\n",
      "81\n",
      "84\n",
      "87\n"
     ]
    }
   ],
   "source": [
    "num1 = int(input(\" Enter the 1st number: \"))\n",
    "num2 = int(input(\"Enter the 2st number:\"))\n",
    "if num1>num2:\n",
    "    while(num1>num2):\n",
    "        if num2%3==0:\n",
    "            \n",
    "            print(num2)\n",
    "        num2 = num2 + 1\n",
    "else:\n",
    "    while(num1<num2):\n",
    "        if num1%3==0:\n",
    "            print(num1)\n",
    "        num1 = num1+1"
   ]
  },
  {
   "cell_type": "code",
   "execution_count": 57,
   "id": "7f385006",
   "metadata": {},
   "outputs": [
    {
     "name": "stdout",
     "output_type": "stream",
     "text": [
      "Current Letter : g\n",
      "Current Letter : k\n",
      "Current Letter : f\n",
      "Current Letter : o\n",
      "Current Letter : r\n",
      "Current Letter : g\n",
      "Current Letter : k\n"
     ]
    }
   ],
   "source": [
    "# Prints all letters except 'e' and 's'\n",
    "for letter in 'geeksforgeeks':\n",
    "    if letter == 'e' or letter == 's':\n",
    "         continue\n",
    "    print('Current Letter :', letter)\n",
    "    var = 10"
   ]
  },
  {
   "cell_type": "code",
   "execution_count": null,
   "id": "0551d705",
   "metadata": {},
   "outputs": [],
   "source": [
    "The for loop is used to print various patterns in python. Various patterns use multiple for loops using the following concept:\n",
    "\n",
    "outer loop: prints the number or rows\n",
    "inner loop: prints the number of columns and inner nested loops\n",
    "variable: to print whitespaces according to the requirement of the code.\n",
    "    \n",
    "    "
   ]
  }
 ],
 "metadata": {
  "kernelspec": {
   "display_name": "Python 3",
   "language": "python",
   "name": "python3"
  },
  "language_info": {
   "codemirror_mode": {
    "name": "ipython",
    "version": 3
   },
   "file_extension": ".py",
   "mimetype": "text/x-python",
   "name": "python",
   "nbconvert_exporter": "python",
   "pygments_lexer": "ipython3",
   "version": "3.8.8"
  }
 },
 "nbformat": 4,
 "nbformat_minor": 5
}
