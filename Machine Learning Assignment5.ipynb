{
 "cells": [
  {
   "cell_type": "raw",
   "id": "cf79cacb",
   "metadata": {},
   "source": [
    "1. What are the key tasks that machine learning entails? What does data pre-processing imply?\n",
    "2. Describe quantitative and qualitative data in depth. Make a distinction between the two.\n",
    "3. Create a basic data collection that includes some sample records. Have at least one attribute from each of the machine learning data types.\n",
    "\n",
    "4. What are the various causes of machine learning data issues? What are the ramifications?\n",
    "\n",
    "5. Demonstrate various approaches to categorical data exploration with appropriate examples.\n",
    "\n",
    "6. How would the learning activity be affected if certain variables have missing values? Having said that, what can be done about it?\n",
    "\n",
    "7. Describe the various methods for dealing with missing data values in depth.\n",
    "\n",
    "8. What are the various data pre-processing techniques? Explain dimensionality reduction and function selection in a few words.\n",
    "\n",
    "9.\n",
    "\n",
    "                i. What is the IQR? What criteria are used to assess it?\n",
    "\n",
    "                 ii. Describe the various components of a box plot in detail? When will the lower whisker    surpass the upper whisker in length? How can box plots be used to identify outliers?\n",
    "\n",
    "10. Make brief notes on any two of the following:\n",
    "\n",
    "              1. Data collected at regular intervals\n",
    "\n",
    "               2. The gap between the quartiles\n",
    "\n",
    "               3. Use a cross-tab\n",
    "\n",
    "1. Make a comparison between:\n",
    "\n",
    "1. Data with nominal and ordinal values\n",
    "\n",
    "2. Histogram and box plot\n",
    "\n",
    "3. The average and median\n"
   ]
  },
  {
   "cell_type": "raw",
   "id": "2f105a9b",
   "metadata": {},
   "source": [
    "Q. 1. What are the key tasks that machine learning entails? What does data pre-processing imply?\n",
    "Sol: Data gathering.\n",
    "Data preprocessing.\n",
    "Exploratory data analysis (EDA)\n",
    "Feature engineering.\n",
    "Training machine learning models of the following kinds: Regression. Classification. Clustering.\n",
    "Multivariate querying.\n",
    "Density estimation.\n",
    "Dimensionality reduction.\n",
    "\n",
    "Data preprocessing is a data mining technique that involves transforming raw data into an understandable format. Real-world data is often incomplete, inconsistent, and/or lacking in certain behaviors or trends, and is likely to contain many errors. Data preprocessing is a proven method of resolving such issues."
   ]
  },
  {
   "cell_type": "raw",
   "id": "41277c41",
   "metadata": {},
   "source": [
    "Q.2. Describe quantitative and qualitative data in depth. Make a distinction between the two.\n",
    "\n",
    "Sol: Quantitative data is anything that can be counted or measured; it refers to numerical data. Qualitative data is descriptive, referring to things that can be observed but not measured—such as colors or emotions.\n",
    "\n",
    "When it comes to conducting research and data analysis, you’ll work with two types of data: quantitative and qualitative. Each requires different collection and analysis methods, so it’s important to understand the difference between the two.\n",
    "\n",
    "What is quantitative data?\n",
    "Quantitative data refers to any information that can be quantified. If it can be counted or measured, and given a numerical value, it’s quantitative data. Quantitative data can tell you “how many,” “how much,” or “how often”—for example, how many people attended last week’s webinar? How much revenue did the company make in 2019? How often does a certain customer group use online banking?\n",
    "\n",
    "To analyze and make sense of quantitative data, you’ll conduct statistical analyses.\n",
    "\n",
    "What is qualitative data?\n",
    "Unlike quantitative data, qualitative data cannot be measured or counted. It’s descriptive, expressed in terms of language rather than numerical values.\n",
    "\n",
    "Researchers will often turn to qualitative data to answer “Why?” or “How?” questions. For example, if your quantitative data tells you that a certain website visitor abandoned their shopping cart three times in one week, you’d probably want to investigate why—and this might involve collecting some form of qualitative data from the user. Perhaps you want to know how a user feels about a particular product; again, qualitative data can provide such insights. In this case, you’re not just looking at numbers; you’re asking the user to tell you, using language, why they did something or how they feel.\n",
    "\n",
    "Qualitative data also refers to the words or labels used to describe certain characteristics or traits—for example, describing the sky as blue or labeling a particular ice cream flavor as vanilla.\n",
    "\n",
    "What are the main differences between quantitative and qualitative data?\n",
    "The main differences between quantitative and qualitative data lie in what they tell us, how they are collected, and how they are analyzed. Let’s summarize the key differences before exploring each aspect in more detail:\n",
    "\n",
    "Quantitative data is countable or measurable, relating to numbers. Qualitative data is descriptive, relating to language.\n",
    "Quantitative data tells us how many, how much, or how often (e.g. “20 people signed up to our email newsletter last week”). Qualitative data can help us to understand the “why” or “how” behind certain behaviors, or it can simply describe a certain attribute—for example, “The postbox is red” or “I signed up to the email newsletter because I’m really interested in hearing about local events.”\n",
    "Quantitative data is fixed and “universal,” while qualitative data is subjective and dynamic. For example, if something weighs 20 kilograms, that can be considered an objective fact. However, two people may have very different qualitative accounts of how they experience a particular event.\n",
    "Quantitative data is gathered by measuring and counting. Qualitative data is collected by interviewing and observing.\n",
    "Quantitative data is analyzed using statistical analysis, while qualitative data is analyzed by grouping it in terms of meaningful categories or themes.\n"
   ]
  }
 ],
 "metadata": {
  "kernelspec": {
   "display_name": "Python 3",
   "language": "python",
   "name": "python3"
  },
  "language_info": {
   "codemirror_mode": {
    "name": "ipython",
    "version": 3
   },
   "file_extension": ".py",
   "mimetype": "text/x-python",
   "name": "python",
   "nbconvert_exporter": "python",
   "pygments_lexer": "ipython3",
   "version": "3.8.8"
  }
 },
 "nbformat": 4,
 "nbformat_minor": 5
}
