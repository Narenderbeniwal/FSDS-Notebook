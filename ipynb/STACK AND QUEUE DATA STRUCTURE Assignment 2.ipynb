{
 "cells": [
  {
   "cell_type": "raw",
   "metadata": {},
   "source": [
    "1. What is the divide and conquer strategy?\n",
    "2. What is binary search and how does it work?\n",
    "3. Explain the distinction between a list and a tuple.\n",
    "4. Can you explain how Python manages memory?\n",
    "5. What is the difference between pickling and unpickling?\n",
    "6. What are the different types of search algorithms?"
   ]
  },
  {
   "cell_type": "raw",
   "metadata": {},
   "source": [
    "Q. 1. What is the divide and conquer strategy?\n",
    "Sol:\n",
    "\n",
    "In divide and conquer approach, the problem in hand, is divided into smaller sub-problems and then each problem is solved independently. When we keep on dividing the subproblems into even smaller sub-problems, we may eventually reach a stage where no more division is possible. Those \"atomic\" smallest possible sub-problem (fractions) are solved. The solution of all sub-problems is finally merged in order to obtain the solution of an original problem.\n",
    "\n",
    "Broadly, we can understand divide-and-conquer approach in a three-step process.\n",
    "\n",
    "Divide/Break\n",
    "This step involves breaking the problem into smaller sub-problems. Sub-problems should represent a part of the original problem. This step generally takes a recursive approach to divide the problem until no sub-problem is further divisible. At this stage, sub-problems become atomic in nature but still represent some part of the actual problem.\n",
    "\n",
    "Conquer/Solve\n",
    "This step receives a lot of smaller sub-problems to be solved. Generally, at this level, the problems are considered 'solved' on their own.\n",
    "\n",
    "Merge/Combine\n",
    "When the smaller sub-problems are solved, this stage recursively combines them until they formulate a solution of the original problem. This algorithmic approach works recursively and conquer & merge steps works so close that they appear as one.\n",
    "\n",
    "\n",
    "    "
   ]
  },
  {
   "cell_type": "raw",
   "metadata": {},
   "source": [
    "Q. 2. What is binary search and how does it work?\n",
    "Sol: \n",
    "    Binary search is an efficient algorithm for finding an item from a sorted list of items. \n",
    "It works by repeatedly dividing in half the portion of the list that could contain the item, \n",
    "until you've narrowed down the possible locations to just one.\n",
    "suppose we have a list of sorted elements, this algorithm first divide this list from middle then\n",
    "it searchs that the element is less than this middle elemnt or greater than this element. then in\n",
    "the basis of that it diveds again by the middle.\n"
   ]
  },
  {
   "cell_type": "raw",
   "metadata": {},
   "source": [
    "Q. 3. Explain the distinction between a list and a tuple.\n",
    "Sol:\n",
    "1.\tList is mutable.\tTuples are immutable\n",
    "2.\tList iteration is slower and time-consuming.\tTuples iteration is faster.\n",
    "3.\tList is performed well in insertion and deletion operations.\tTuples are performed well in accessing elements operations.\n",
    "4.\tList takes more memory\tTuples take less memory.\n",
    "5.\tLists are many built-in methods\tTuples are less in-built methods.\n",
    "6.\tIn List Error is more likely to happen.\tIn Tuples Error hardly takes place.\n",
    "7. \tLists can be used to store homogeneous and heterogeneous elements.\tTuples are used to store only heterogeneous elements."
   ]
  },
  {
   "cell_type": "raw",
   "metadata": {},
   "source": [
    "Q. 4. Can you explain how Python manages memory?\n",
    "Sol: \n",
    "    Memory management in python is managed by Python private heap space. All Python objects and data structures are located in a private heap. The programmer does not have access to this private heap. The python interpreter takes care of this instead.\n",
    "\n",
    "The allocation of heap space for Python objects is done by Python’s memory manager.\n",
    "\n",
    "Python also has an inbuilt garbage collector, which recycles all the unused memory and so that it can be made available to the heap space.\n",
    "\n"
   ]
  },
  {
   "cell_type": "raw",
   "metadata": {},
   "source": [
    "Q. 5. What is the difference between pickling and unpickling?\n",
    "Sol :“Pickling” is the process whereby a Python object hierarchy is converted into a byte stream, \n",
    "and “unpickling” is the inverse operation, whereby a byte stream (from a binary file or bytes-like\n",
    "object) is converted back into an object hierarchy."
   ]
  },
  {
   "cell_type": "raw",
   "metadata": {},
   "source": [
    "Q. 6. What are the different types of search algorithms?\n",
    "Sol :\n",
    "  Different types of search algorithms  are as below:\n",
    "Linear Search.\n",
    "Binary Search.\n",
    "Jump Search.\n",
    "Interpolation Search.\n",
    "Exponential Search.\n",
    "Sublist Search (Search a linked list in another list)\n",
    "Fibonacci Search.\n"
   ]
  },
  {
   "cell_type": "code",
   "execution_count": null,
   "metadata": {},
   "outputs": [],
   "source": []
  }
 ],
 "metadata": {
  "kernelspec": {
   "display_name": "Python 3",
   "language": "python",
   "name": "python3"
  },
  "language_info": {
   "codemirror_mode": {
    "name": "ipython",
    "version": 3
   },
   "file_extension": ".py",
   "mimetype": "text/x-python",
   "name": "python",
   "nbconvert_exporter": "python",
   "pygments_lexer": "ipython3",
   "version": "3.8.5"
  }
 },
 "nbformat": 4,
 "nbformat_minor": 4
}
