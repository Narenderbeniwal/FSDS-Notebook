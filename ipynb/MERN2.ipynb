{
 "cells": [
  {
   "cell_type": "raw",
   "metadata": {},
   "source": [
    "1. Apart from MERN Stack, what other stacks are you familiar with?\n",
    "2. In ExpressJs, what do you mean by middleware?\n",
    "3. What exactly do you mean when you say \"sharding\"?\n",
    "4. Describe a few examples Where can the MERN Stack be used?\n",
    "5. What do you mean when you say \"threads\"?"
   ]
  },
  {
   "cell_type": "raw",
   "metadata": {},
   "source": [
    "Q. 1. Apart from MERN Stack, what other stacks are you familiar with?\n",
    "Sol:\n",
    "Apart from MERN Stack, these\n",
    "are stacks I’m familiar with:\n",
    "1. MEAN (MongoDB, Express.js, AngularJS, Node.js)\n",
    "2. MEVN (MongoDB, Express.js, Vue, Node.js)\n",
    "3. LAMP (Linux, Apache, MySQL, PHP)\n",
    "4. The Lightweight Stack (Java + Spring)"
   ]
  },
  {
   "cell_type": "raw",
   "metadata": {},
   "source": [
    "Q. 2. In ExpressJs, what do you mean by middleware?\n",
    "Sol:\n",
    "    Middleware literally means anything you put in the middle of one layer of the software and another. Express middleware are functions that execute during the lifecycle of a request to the Express server. Each middleware has access to the HTTP request and response for each route (or path) it's attached to."
   ]
  },
  {
   "cell_type": "raw",
   "metadata": {},
   "source": [
    "Q. 3. What exactly do you mean when you say \"sharding\"?\n",
    "Sol:\n",
    "    The word “shard” means “a small part of a whole”. Therefore, sharding means dividing a larger part into smaller parts. Sharding helps the\n",
    "system to keep data into different resources according to the sharding process. Sharding makes the database smaller, faster, easily\n",
    "manageable and it also reduces the transaction cost of the database."
   ]
  },
  {
   "cell_type": "raw",
   "metadata": {},
   "source": [
    "Q. 4. Describe a few examples Where can the MERN Stack be used?\n",
    "Sol: Few examples Where can the MERN Stack be used are as below:\n",
    "        Calendars and To-do Apps\n",
    "A calendar or a to-do app is a rudimentary project that can tell you a lot about the mechanics of the MERN stack. You can design the frontend, i.e., the interface of the calendar or to-do app using ReactJS. The data to be stored, accessed, modified, shown in the to-do app is made possible using MongoDB.\n",
    "\n",
    "Interactive Forums\n",
    "Another suitable use case for MERN is an interactive forum, which can be a social media platform or a website that allows users to share messages and communicate. The topic of the interactive forum may or may not be predefined.\n",
    "\n",
    "Social Media Product\n",
    "An interactive forum is just one use of the MERN stack for social media. These include ads, posts, a mini web app embedded in the social media page, etc.\n",
    "\n"
   ]
  },
  {
   "cell_type": "raw",
   "metadata": {},
   "source": [
    "Q. 5. What do you mean when you say \"threads\"?\n",
    "Sol: A thread of execution is simply called as a thread. Thread is nothing but a set of instructions to be executed by the CPU. A thread is a\n",
    "component of a process. Every process has one or more threads."
   ]
  },
  {
   "cell_type": "code",
   "execution_count": null,
   "metadata": {},
   "outputs": [],
   "source": []
  }
 ],
 "metadata": {
  "kernelspec": {
   "display_name": "Python 3",
   "language": "python",
   "name": "python3"
  },
  "language_info": {
   "codemirror_mode": {
    "name": "ipython",
    "version": 3
   },
   "file_extension": ".py",
   "mimetype": "text/x-python",
   "name": "python",
   "nbconvert_exporter": "python",
   "pygments_lexer": "ipython3",
   "version": "3.8.5"
  }
 },
 "nbformat": 4,
 "nbformat_minor": 4
}
