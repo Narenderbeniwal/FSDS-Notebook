{
 "cells": [
  {
   "cell_type": "raw",
   "metadata": {},
   "source": [
    "1. What is MongoDB replication?\n",
    "2. What are some of NodeJs' features?\n",
    "\n",
    "3. What is MongoDB's database type?\n",
    "4. How does Node prevent code from being blocked?\n",
    "5. What exactly do you mean when you say \"pure components\"?"
   ]
  },
  {
   "cell_type": "raw",
   "metadata": {},
   "source": [
    "Q. 1 What is MongoDB replication?\n",
    "Sool: \n",
    "    Replication is nothing but the method of duplication of the data across\n",
    "multiple servers. The process of creating a copy of the same data set in\n",
    "more than one MongoDB server is called as MongoDB replication.\n",
    "MongoDB achieves replication using replica set. A replica set is a group\n",
    "of MongoDB instances that host the same data set."
   ]
  },
  {
   "cell_type": "raw",
   "metadata": {},
   "source": [
    "Q. 2. What are some of NodeJs' features?\n",
    "Sol: \n",
    "    The following are some of the features of NodeJS:\n",
    "1.Cross-platform compatibility\n",
    "2.Object oriented\n",
    "3.Convenience of using one coding language (JavaScript).\n",
    "4.Scalable\n",
    "5.Very fast in code execution\n",
    "6.Asynchronous and event driven\n",
    "7.Vast set of open-source NodeJS packages\n",
    "8.Active open-source community"
   ]
  },
  {
   "cell_type": "raw",
   "metadata": {},
   "source": [
    "Q. 3. What is MongoDB's database type?\n",
    "\n",
    "Sol:\n",
    "    MongoDB is an open source NoSQL database management program. NoSQL is used as an alternative to traditional relational databases. NoSQL databases are quite useful for working with large sets of distributed data."
   ]
  },
  {
   "cell_type": "raw",
   "metadata": {},
   "source": [
    "Q. 4.How does Node prevent code from being blocked?\n",
    "Sol:\n",
    "    Code blocking refers to operations that blocks further execution until that\n",
    "operation finishes. Node uses a single thread. It means one task can be\n",
    "executed at a time. This is done by using stack.\n",
    "\n",
    "\n",
    "This can be prevented by using the callback function. Each time when\n",
    "we encounter such a situation, the process causing the delay is\n",
    "offloaded from the stack and the execution of that process continues\n",
    "parallel to further execution of main code. Thus, callback for that function\n",
    "is pushed into a task queue and the code continues to execute\n",
    "asynchronously. When the process completes its execution, the callback\n",
    "function returns the desired output from that process and resumes\n",
    "normal execution"
   ]
  },
  {
   "cell_type": "raw",
   "metadata": {},
   "source": [
    "Q. 5. What exactly do you mean when you say \"pure components\"?\n",
    "\n",
    "Sol:Pure components are the components which do not re-renders when the\n",
    "value of state and props has been updated with the same values"
   ]
  },
  {
   "cell_type": "code",
   "execution_count": null,
   "metadata": {},
   "outputs": [],
   "source": []
  }
 ],
 "metadata": {
  "kernelspec": {
   "display_name": "Python 3",
   "language": "python",
   "name": "python3"
  },
  "language_info": {
   "codemirror_mode": {
    "name": "ipython",
    "version": 3
   },
   "file_extension": ".py",
   "mimetype": "text/x-python",
   "name": "python",
   "nbconvert_exporter": "python",
   "pygments_lexer": "ipython3",
   "version": "3.8.5"
  }
 },
 "nbformat": 4,
 "nbformat_minor": 4
}
