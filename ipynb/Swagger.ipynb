{
 "cells": [
  {
   "cell_type": "raw",
   "metadata": {},
   "source": [
    "1. What features does Swagger offer?\n",
    "2. How does API testing benefit you?\n",
    "3. How do we include an API in Swagger?\n",
    "4. In Swagger UI, how can we submit custom headers with requests?\n",
    "5. How should we use Swagger to produce static docs?"
   ]
  },
  {
   "cell_type": "raw",
   "metadata": {},
   "source": [
    "Q. 1. What features does Swagger offer?\n",
    "\n",
    "Sol: \n",
    "    Swagger is a set of open-source tools built around the OpenAPI Specification that can help you design, build, document and consume REST APIs. The major Swagger tools include: Swagger Editor – browser-based editor where you can write OpenAPI specs. Swagger UI – renders OpenAPI specs as interactive API documentation.\n",
    "    \n",
    "    The major Swagger tools include:\n",
    "1.Swagger Editor: - It is a browser-based editor where we can write\n",
    "Open API specifications.\n",
    "2.Swagger UI: - It renders Open API specifications as interactive API\n",
    "documentation.\n",
    "3.Swagger Codegen: - It generates server stubs and client libraries from\n",
    "an Open API specification."
   ]
  },
  {
   "cell_type": "raw",
   "metadata": {},
   "source": [
    "Q. 2. How does API testing benefit you?\n",
    "Sol: \n",
    "    API testing helps uncover potential defects in the interfaces, servers, and databases, improving the overall software quality and contributing to better user experiences."
   ]
  },
  {
   "cell_type": "raw",
   "metadata": {},
   "source": [
    "Q. 3. How do we include an API in Swagger?\n",
    "Sol :\n",
    "    To include an API in Swagger:\n",
    "First, we have to create a YAML file in which we will write the code like:\n",
    "paths:\n",
    "/:\n",
    "get:\n",
    "summary:\n",
    "description:\n",
    "responses:\n",
    "here ‘/’ is the endpoint and ‘get’ is the method. We can change these\n",
    "things as per the requirement. Summary and description are used to tell\n",
    "what type of API it was. Responses are nothing but the things which will\n",
    "appear in swagger when we click on execute in swagger."
   ]
  },
  {
   "cell_type": "raw",
   "metadata": {},
   "source": [
    " Q. 4. In Swagger UI, how can we submit custom headers with requests?\n",
    "We can submit custom headers with requests by writing code which\n",
    "includes parameters and required is set to true.\n",
    "Here is an example which shows how to add custom header parameter\n",
    "to the requests:\n",
    "paths:\n",
    "/user/{id}:\n",
    "  get:\n",
    "    summary:\n",
    "     description:\n",
    "        parameters:\n",
    "                name: id\n",
    "                in: path\n",
    "                required: true\n",
    "                schema:\n",
    "                     type: integer\n",
    "                     ormat: int64\n",
    "                     responses:\n",
    "                              200:\n",
    "                          description:"
   ]
  },
  {
   "cell_type": "raw",
   "metadata": {},
   "source": [
    "Q. 5. How should we use Swagger to produce static docs?'\n",
    "\n",
    "Sol:\n",
    "    To produce static documents like HTML documents, first go to the\n",
    "swagger editor. Then click on the File option in the top menu bar and\n",
    "then select import file option. After importing the file click on Generate\n",
    "client in the top menu bar and then select HTML to generate static\n",
    "HTML documentation. Swagger tools take the hard work out of\n",
    "generating and maintaining API static docs, ensuring documentation\n",
    "stays up to date as API evolves'"
   ]
  }
 ],
 "metadata": {
  "kernelspec": {
   "display_name": "Python 3",
   "language": "python",
   "name": "python3"
  },
  "language_info": {
   "codemirror_mode": {
    "name": "ipython",
    "version": 3
   },
   "file_extension": ".py",
   "mimetype": "text/x-python",
   "name": "python",
   "nbconvert_exporter": "python",
   "pygments_lexer": "ipython3",
   "version": "3.8.5"
  }
 },
 "nbformat": 4,
 "nbformat_minor": 4
}
