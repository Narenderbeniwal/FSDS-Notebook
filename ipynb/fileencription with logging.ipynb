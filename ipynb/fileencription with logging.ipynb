{
 "cells": [
  {
   "cell_type": "code",
   "execution_count": 1,
   "metadata": {},
   "outputs": [],
   "source": [
    "import logging"
   ]
  },
  {
   "cell_type": "code",
   "execution_count": 9,
   "metadata": {},
   "outputs": [],
   "source": [
    "logging.basicConfig(filename='encrpition.log', level=logging.INFO,format='%(asctime)s - %(message)s')\n"
   ]
  },
  {
   "cell_type": "code",
   "execution_count": 10,
   "metadata": {},
   "outputs": [],
   "source": [
    "def test(a,b):\n",
    "    logging.info(\"this is a start of a function\")\n",
    "    return a+b"
   ]
  },
  {
   "cell_type": "code",
   "execution_count": 11,
   "metadata": {},
   "outputs": [
    {
     "data": {
      "text/plain": [
       "9"
      ]
     },
     "execution_count": 11,
     "metadata": {},
     "output_type": "execute_result"
    }
   ],
   "source": [
    "test(4,5)"
   ]
  },
  {
   "cell_type": "code",
   "execution_count": 12,
   "metadata": {},
   "outputs": [
    {
     "data": {
      "text/plain": [
       "'/Users/ekcs011'"
      ]
     },
     "execution_count": 12,
     "metadata": {},
     "output_type": "execute_result"
    }
   ],
   "source": [
    "pwd"
   ]
  },
  {
   "cell_type": "code",
   "execution_count": 1,
   "metadata": {},
   "outputs": [
    {
     "name": "stderr",
     "output_type": "stream",
     "text": [
      "root - 2022-03-14 16:10:44,679 - INFO - main log\n",
      "user1 - 2022-03-14 16:10:44,682 - INFO - this is from user1 info\n",
      "user2 - 2022-03-14 16:10:44,683 - DEBUG - This is from user2 debug\n"
     ]
    }
   ],
   "source": [
    "# logging_example.py\n",
    "\n",
    "import logging\n",
    "\n",
    "logging.basicConfig(filename='spark.log',level=logging.DEBUG,format = '%(name)s - %(asctime)s - %(levelname)s - %(message)s')\n",
    "\n",
    "# Create handlers\n",
    "console_log = logging.StreamHandler()\n",
    "console_log.setLevel(logging.DEBUG)\n",
    "format = logging.Formatter('%(name)s - %(asctime)s - %(levelname)s - %(message)s')\n",
    "console_log.setFormatter(format)\n",
    "# Create a custom logger\n",
    "logging.getLogger('').addHandler(console_log)\n",
    "logging.info('main log')\n",
    "logger1 = logging.getLogger('user1')\n",
    "logger2 = logging.getLogger('user2')\n",
    "logger1.info('this is from user1 info')\n",
    "logger2.debug('This is from user2 debug')"
   ]
  },
  {
   "cell_type": "code",
   "execution_count": 2,
   "metadata": {},
   "outputs": [],
   "source": [
    "def mul(a,b,c):\n",
    "    logging.info(\"this is a multiplecation function\")\n",
    "    return a*b*c"
   ]
  },
  {
   "cell_type": "code",
   "execution_count": 3,
   "metadata": {},
   "outputs": [
    {
     "name": "stderr",
     "output_type": "stream",
     "text": [
      "root - 2022-03-14 16:10:47,777 - INFO - this is a multiplecation function\n"
     ]
    },
    {
     "data": {
      "text/plain": [
       "60"
      ]
     },
     "execution_count": 3,
     "metadata": {},
     "output_type": "execute_result"
    }
   ],
   "source": [
    "mul(3,4,5)"
   ]
  },
  {
   "cell_type": "code",
   "execution_count": 4,
   "metadata": {},
   "outputs": [],
   "source": [
    "logging.basicConfig(filename='spark.log',level=logging.DEBUG,format = '%(name)s - %(asctime)s - %(levelname)s - %(message)s')\n"
   ]
  },
  {
   "cell_type": "code",
   "execution_count": 5,
   "metadata": {},
   "outputs": [],
   "source": [
    "def mul(a,b,c):\n",
    "    logging.info(\"this is a addition function\")\n",
    "    return a+b+c"
   ]
  },
  {
   "cell_type": "code",
   "execution_count": 6,
   "metadata": {},
   "outputs": [
    {
     "name": "stderr",
     "output_type": "stream",
     "text": [
      "root - 2022-03-14 16:10:58,840 - INFO - this is a addition function\n"
     ]
    },
    {
     "data": {
      "text/plain": [
       "9"
      ]
     },
     "execution_count": 6,
     "metadata": {},
     "output_type": "execute_result"
    }
   ],
   "source": [
    "mul(2,3,4)"
   ]
  },
  {
   "cell_type": "code",
   "execution_count": 7,
   "metadata": {},
   "outputs": [
    {
     "name": "stdout",
     "output_type": "stream",
     "text": [
      "Enter name of file you want to encrypt :result\n",
      "Enter the extension : ( For eg :- .mp4, .csv, .txt, .png etc ).txt\n",
      "You want to create new File after encryption or not ( y or n ) : y\n",
      "Enter the name of new File :result1\n"
     ]
    },
    {
     "name": "stderr",
     "output_type": "stream",
     "text": [
      "root - 2022-03-14 16:11:36,671 - INFO - Key created\n",
      "root - 2022-03-14 16:11:36,674 - INFO - writing the key Name\n",
      "root - 2022-03-14 16:11:36,677 - INFO - loading the key\n",
      "root - 2022-03-14 16:11:36,774 - INFO - file is encrypted \n"
     ]
    },
    {
     "name": "stdout",
     "output_type": "stream",
     "text": [
      "File Encrypted !\n",
      "Enter name of file you want to decrypt :result1\n",
      "Enter the extension : ( For eg :- .mp4, .csv, .txt, .png etc ).txt\n",
      "You want to create new File after decryption or not ( y or n ) : y\n",
      "Enter the name of new File :result2\n"
     ]
    },
    {
     "name": "stderr",
     "output_type": "stream",
     "text": [
      "root - 2022-03-14 16:12:00,743 - INFO - this is the start of the function\n",
      "root - 2022-03-14 16:12:00,748 - INFO - loading the key\n",
      "root - 2022-03-14 16:12:00,750 - INFO - now file is decrypted\n"
     ]
    },
    {
     "name": "stdout",
     "output_type": "stream",
     "text": [
      "File Decrypted !\n"
     ]
    }
   ],
   "source": [
    "import logging\n",
    "logging.basicConfig(filename='decription.log',level=logging.DEBUG,format = '%(name)s - %(asctime)s - %(levelname)s - %(message)s')\n",
    "\n",
    "from cryptography.fernet import Fernet\n",
    "### Creating class to define all methods\n",
    "class File_Encryption():\n",
    "\n",
    "    def key_create(self):\n",
    "        logging.info(\"Key created\")\n",
    "        key = Fernet.generate_key()\n",
    "        return key\n",
    "\n",
    "    def key_write(self, key, key_name):\n",
    "        logging.info(\"writing the key Name\")\n",
    "        with open(key_name, 'wb') as mykey:\n",
    "            mykey.write(key)\n",
    "\n",
    "    def key_load(self, key_name):\n",
    "        logging.info(\"loading the key\")\n",
    "        with open(key_name, 'rb') as mykey:\n",
    "            key = mykey.read()\n",
    "        return key\n",
    "\n",
    "    def file_encrypt(self, key, original_file, encrypted_file):\n",
    "        f = Fernet(key)\n",
    "        logging.info(\"file is encrypted \")\n",
    "        with open(original_file, 'rb') as file:\n",
    "            original = file.read()\n",
    "        encrypted = f.encrypt(original)\n",
    "        with open(encrypted_file, 'wb') as file:\n",
    "            file.write(encrypted)\n",
    "\n",
    "    def file_decrypt(self, key, encrypted_file, decrypted_file):\n",
    "        f = Fernet(key)\n",
    "        logging.info(\"now file is decrypted\")\n",
    "        with open(encrypted_file, 'rb') as file:\n",
    "            encrypted = file.read()\n",
    "        decrypted = f.decrypt(encrypted)\n",
    "        with open(decrypted_file, 'wb') as file:\n",
    "            file.write(decrypted)\n",
    "\n",
    "## Encrypt the file by running below commands\n",
    "fName = input(\"Enter name of file you want to encrypt :\")\n",
    "ext = input(\"Enter the extension : ( For eg :- .mp4, .csv, .txt, .png etc )\")\n",
    "ch = input(\"You want to create new File after encryption or not ( y or n ) : \")\n",
    "file_Name = fName+ext\n",
    "\n",
    "if(ch=='y'):\n",
    "    new_File=input(\"Enter the name of new File :\")\n",
    "    new_Fname = new_File+ext\n",
    "elif(ch=='n'):\n",
    "    new_Fname = file_Name\n",
    "\n",
    "encr=File_Encryption()\n",
    "mykey=encr.key_create()\n",
    "encr.key_write(mykey, 'secret.key')\n",
    "loaded_key=encr.key_load('secret.key')\n",
    "encr.file_encrypt(loaded_key, file_Name, new_Fname)\n",
    "print(\"File Encrypted !\")\n",
    "\n",
    "# If the secret key is not present or filename is incorrect, then Exception will occur\n",
    "\n",
    "try:\n",
    "    fName = input(\"Enter name of file you want to decrypt :\")\n",
    "    ext = input(\"Enter the extension : ( For eg :- .mp4, .csv, .txt, .png etc )\")\n",
    "    ch = input(\"You want to create new File after decryption or not ( y or n ) : \")\n",
    "    file_Name = fName + ext\n",
    "    if (ch == 'y'):\n",
    "\n",
    "        new_File = input(\"Enter the name of new File :\")\n",
    "        logging.info(\"this is the start of the function\")\n",
    "        new_Fname = new_File + ext\n",
    "    elif (ch == 'n'):\n",
    "        new_Fname = file_Name\n",
    "\n",
    "    decr = File_Encryption()\n",
    "    loaded_key = decr.key_load('secret.key')\n",
    "    decr.file_decrypt(loaded_key, file_Name, new_Fname)\n",
    "    print(\"File Decrypted !\")\n",
    "\n",
    "except Exception as e:\n",
    "    print(\"Error Occured :\", e)"
   ]
  },
  {
   "cell_type": "code",
   "execution_count": null,
   "metadata": {},
   "outputs": [],
   "source": []
  }
 ],
 "metadata": {
  "kernelspec": {
   "display_name": "Python 3",
   "language": "python",
   "name": "python3"
  },
  "language_info": {
   "codemirror_mode": {
    "name": "ipython",
    "version": 3
   },
   "file_extension": ".py",
   "mimetype": "text/x-python",
   "name": "python",
   "nbconvert_exporter": "python",
   "pygments_lexer": "ipython3",
   "version": "3.8.5"
  }
 },
 "nbformat": 4,
 "nbformat_minor": 4
}
