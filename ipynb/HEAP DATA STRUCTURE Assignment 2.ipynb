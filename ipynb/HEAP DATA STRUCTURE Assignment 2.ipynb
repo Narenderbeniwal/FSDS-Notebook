{
 "cells": [
  {
   "cell_type": "raw",
   "metadata": {},
   "source": [
    "1. What exactly is an application tree?\n",
    "2. What is pre-order tree traversal and how does it work?\n",
    "3. What is the problem with the Hanoi Tower?\n",
    "4. Can you explain the distinction between linear and nonlinear data\n",
    "structures?\n",
    "\n",
    "5. What is the distinction between a list and an array?"
   ]
  },
  {
   "cell_type": "raw",
   "metadata": {},
   "source": [
    "Q. 1. What exactly is an application tree?\n",
    "Sol :\n",
    "K-D Tree: A space partitioning tree used to organize points in K dimensional space. \n",
    "Trie : Used to implement dictionaries with prefix lookup. \n",
    "Suffix Tree : For quick pattern searching in a fixed text. \n",
    "Spanning Trees and shortest path trees are used in routers and bridges respectively in computer \n",
    "networks.\n"
   ]
  },
  {
   "cell_type": "raw",
   "metadata": {},
   "source": [
    "Q. 2. What is pre-order tree traversal and how does it work?\n",
    "Sol :\n",
    "    \n",
    "    A preorder traversal is a traversal technique that follows the policy, i.e., Root Left Right.\n",
    "\n",
    "In this method it is the root node which is visited first and then the left sub-tree is traversed and finally at the end the right sub-tree.\n",
    "\n",
    "The algorithm for preorder traversal is -\n",
    "\n",
    "Algorithm Preorder(tree)\n",
    "\n",
    "Visit the root.\n",
    "Traverse the left subtree, i.e., call Preorder(left-subtree)\n",
    "Traverse the right subtree, i.e., call Preorder(right-subtree)\n"
   ]
  },
  {
   "cell_type": "raw",
   "metadata": {},
   "source": [
    "Q. 3. What is the problem with the Hanoi Tower?\n",
    "Sol:\n",
    "    Tower of Hanoi is a mathematical problem (puzzle) that consists of 3 poles and ‘n’ number of discs, each disc having different diameters.\n",
    "\n",
    "The objective of this problem is to transfer all the ‘n’ discs from source pole to the destination pole in such a way that we get the same arrangement of discs as before. But this goal must be achieved by sticking to the rules, which are -\n",
    "\n",
    "1.Only one disc can be moved at a time.\n",
    "2. Only the top-most disc can be removed\n",
    "3. The larger disc cannot be placed on top of the smaller disc.\n"
   ]
  },
  {
   "cell_type": "raw",
   "metadata": {},
   "source": [
    "Q. 4. Can you explain the distinction between linear and nonlinear data\n",
    "structures?\n",
    "Sol: In linear data structure, data elements are sequentially connected and each element is traversable\n",
    "through a single run. In non-linear data structure, data elements are hierarchically connected and\n",
    "are present at various levels.\n"
   ]
  },
  {
   "cell_type": "raw",
   "metadata": {},
   "source": [
    "Q. 5. What is the distinction between a list and an array?\n",
    "Sol:\n",
    " 1. List is an in-build data structure of python language hence no module is to be imported before using it. But array is not an in-build data structure, so, we need to import the “array” module before creating and using arrays.\n",
    "\n",
    "2. A python list is faster than a python array as python array are based on a python list itself.\n",
    "3. The list cannot handle the direct arithmetic operations whereas Arrays can directly handle arithmetic operations.\n",
    "4. Array stores homogeneous data values, and the list can store heterogeneous data values."
   ]
  },
  {
   "cell_type": "code",
   "execution_count": null,
   "metadata": {},
   "outputs": [],
   "source": []
  }
 ],
 "metadata": {
  "kernelspec": {
   "display_name": "Python 3",
   "language": "python",
   "name": "python3"
  },
  "language_info": {
   "codemirror_mode": {
    "name": "ipython",
    "version": 3
   },
   "file_extension": ".py",
   "mimetype": "text/x-python",
   "name": "python",
   "nbconvert_exporter": "python",
   "pygments_lexer": "ipython3",
   "version": "3.8.5"
  }
 },
 "nbformat": 4,
 "nbformat_minor": 4
}
