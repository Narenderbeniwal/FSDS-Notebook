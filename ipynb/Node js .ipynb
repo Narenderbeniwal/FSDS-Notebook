{
 "cells": [
  {
   "cell_type": "raw",
   "metadata": {},
   "source": [
    "1. What exactly do you mean when you say \"prop drilling,\" and how do you\n",
    "avoid it?\n",
    "2. In React JS, how do you add validation to props?\n",
    "3. Is it possible to use classes in NodeJS?\n",
    "4. What is the purpose of super(props)?\n",
    "5. Why are the Express app and server separated?"
   ]
  },
  {
   "cell_type": "raw",
   "metadata": {},
   "source": [
    "Q. 1. What exactly do you mean when you say \"prop drilling,\" and how do you\n",
    "avoid it?\n",
    "\n",
    "Sol:\n",
    "    Prop Drilling is the process by which you pass data from one part of the React Component tree to another by going through other parts that do not need the data but only help in passing it around. Imagine someone living in Lagos, Nigeria placing an order on Amazon for a package.\n",
    "    \n",
    "    We can avoid prop drilling by creating a data store in which props are\n",
    "stored and we can connect any component to the data store irrespective\n",
    "of the component position in the component position tree. All the\n",
    "components have access to the data store.\n",
    "\n",
    "We can also avoid it by creating the global data store using the concept\n",
    "of context in react and the components in context will have access to it."
   ]
  },
  {
   "cell_type": "raw",
   "metadata": {},
   "source": [
    "Q. 2. In React JS, how do you add validation to props?\n",
    "Sol:\n",
    "     To validate props React JS has an inbuilt component. This feature\n",
    "validate props to make sure that the values passed through props are\n",
    "valid or not.\n",
    "The Syntax for validation of props in React JS:\n",
    "class Component extends React.Component {\n",
    "render() {}\n",
    "}\n",
    "component.propTypes = {/*………..*/}"
   ]
  },
  {
   "cell_type": "raw",
   "metadata": {},
   "source": [
    "Q. 3. Is it possible to use classes in NodeJS?\n",
    "Sol:Yes, it is possible to use classes in Node JS.\n"
   ]
  },
  {
   "cell_type": "raw",
   "metadata": {},
   "source": [
    "Q. 4. What is the purpose of super(props)?\n",
    "Sol:\n",
    "    To initialise the state object we define the constructor() function . We\n",
    "have to use super() to implement constructor() function in React\n",
    "component. We call super(props) to make sure that the react component\n",
    "constructor function is getting called or not. super(props) is just a\n",
    "reference to the parent constructor function"
   ]
  },
  {
   "cell_type": "raw",
   "metadata": {},
   "source": [
    "Q. 5. Why are the Express app and server separated?\n",
    "\n",
    "Sol: \n",
    "    Applying a similar concept to the project structuring of Express, the separation of the application logic from the server allows the code to be modular and follow a MVC (Model-View-Controller) model. The separation is essential to reduce coupling and to encapsulate and abstract the inside logic of applicatio"
   ]
  }
 ],
 "metadata": {
  "kernelspec": {
   "display_name": "Python 3",
   "language": "python",
   "name": "python3"
  },
  "language_info": {
   "codemirror_mode": {
    "name": "ipython",
    "version": 3
   },
   "file_extension": ".py",
   "mimetype": "text/x-python",
   "name": "python",
   "nbconvert_exporter": "python",
   "pygments_lexer": "ipython3",
   "version": "3.8.5"
  }
 },
 "nbformat": 4,
 "nbformat_minor": 4
}
