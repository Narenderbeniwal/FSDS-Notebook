{
 "cells": [
  {
   "cell_type": "raw",
   "metadata": {},
   "source": [
    "1. What exactly is a MERN stack, and what does it imply?\n",
    "2. What exactly is REACT JS, and how does it work?\n",
    "3. How does REACT JS help you?\n",
    "4. What are MongoDB's most important features?\n",
    "5. What is the difference between REACT JS and Angular JS?"
   ]
  },
  {
   "cell_type": "raw",
   "metadata": {},
   "source": [
    "Q. 1. What exactly is a MERN stack, and what does it imply?\n",
    "Sol :\n",
    "MERN stack is a web development framework. It is a JavaScript stack\n",
    "that is used for easier and faster deployment of full-stack web\n",
    "applications.\n",
    "MERN stands for\n",
    "M - MongoDB - document database\n",
    "E – ExpressJS – NodeJS web framework\n",
    "R – ReactJS – a client-side framework\n",
    "N – NodeJS – JavaScript web server\n",
    "The MERN architecture allows you to easily construct a three-tier\n",
    "architecture i.e., frontend, backend and database entirely using\n",
    "JavaScript and JSON."
   ]
  },
  {
   "cell_type": "raw",
   "metadata": {},
   "source": [
    "Q. 2. What exactly is REACT JS, and how does it work?\n",
    "Sol: \n",
    "    React JS is a JavaScript based UI development library. It creates user\n",
    "interfaces in a predictable and efficient way using declarative code.\n",
    "React JS is efficient and flexible. React JS maintains a tree structure at\n",
    "its core level, this tree can do efficient different computations on the\n",
    "nodes. For example, browser treats HTML code or DOM as a tree.\n",
    "React allows to efficiently reconstruct the DOM in JavaScript and push\n",
    "only those changes to the DOM which have occurred."
   ]
  },
  {
   "cell_type": "raw",
   "metadata": {},
   "source": [
    "Q. 3. How does REACT JS help you?\n",
    "Sol:\n",
    "    React. js is an open-source JavaScript library that is used for building user interfaces specifically for single-page applications. It's used for handling the view layer for web and mobile apps. React also allows us to create reusable UI components.\n",
    "    \n",
    "    React JS saves developers time and improves code quality. It helps websites and apps load faster by using Virtual DOM to allow dynamic elements of the UI to change without requiring the user to reload the page. Thus, it increases speed and agility. "
   ]
  },
  {
   "cell_type": "raw",
   "metadata": {},
   "source": [
    "Q. 4. What are MongoDB's most important features?\n",
    "Sol: \n",
    "    The following are the most important features of MongoDB:\n",
    "1. MongoDB supports ad hoc queries.\n",
    "2. Indexing- we can index any field in a document.\n",
    "3. MongoDB supports Master Slave replication.\n",
    "4. Duplication of the data.\n",
    "5. Load balancing.\n",
    "6. Supports map reduce and aggregation tools.\n",
    "7. Uses JavaScript instead of procedures.\n",
    "8. MongoDB provides high performance.\n",
    "9. It is a schema-less database written in C++."
   ]
  },
  {
   "cell_type": "raw",
   "metadata": {},
   "source": [
    "Q. 5. What is the difference between REACT JS and Angular JS?\n",
    "\n",
    "Sol:\n",
    "    The following are the differences between ReactJS and Angular JS:\n",
    "1. React JS is a JavaScript library whereas Angular is a framework.\n",
    "2. React JS updates only the Virtual DOM and data flow is always in\n",
    "a single direction whereas Angular JS updates the Real DOM and\n",
    "data flow is ensured in the architecture in both directions.\n",
    "3. React JS follows MVC model whereas Angular follows MVVM\n",
    "model\n",
    "4. Angular is a mere subset of HTML whereas React JS is purely\n",
    "JavaScript based.\n",
    "5. Angular is written in Microsoft’s TypeScript language which is a\n",
    "superset of ES6 whereas React is written in JavaScript."
   ]
  },
  {
   "cell_type": "code",
   "execution_count": null,
   "metadata": {},
   "outputs": [],
   "source": []
  }
 ],
 "metadata": {
  "kernelspec": {
   "display_name": "Python 3",
   "language": "python",
   "name": "python3"
  },
  "language_info": {
   "codemirror_mode": {
    "name": "ipython",
    "version": 3
   },
   "file_extension": ".py",
   "mimetype": "text/x-python",
   "name": "python",
   "nbconvert_exporter": "python",
   "pygments_lexer": "ipython3",
   "version": "3.8.5"
  }
 },
 "nbformat": 4,
 "nbformat_minor": 4
}
