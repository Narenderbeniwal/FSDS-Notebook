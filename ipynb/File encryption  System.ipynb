{
 "cells": [
  {
   "cell_type": "code",
   "execution_count": 1,
   "metadata": {},
   "outputs": [
    {
     "name": "stdout",
     "output_type": "stream",
     "text": [
      "Requirement already satisfied: cryptography in ./opt/anaconda3/lib/python3.8/site-packages (3.1.1)\n",
      "Requirement already satisfied: six>=1.4.1 in ./opt/anaconda3/lib/python3.8/site-packages (from cryptography) (1.15.0)\n",
      "Requirement already satisfied: cffi!=1.11.3,>=1.8 in ./opt/anaconda3/lib/python3.8/site-packages (from cryptography) (1.14.3)\n",
      "Requirement already satisfied: pycparser in ./opt/anaconda3/lib/python3.8/site-packages (from cffi!=1.11.3,>=1.8->cryptography) (2.20)\n",
      "Note: you may need to restart the kernel to use updated packages.\n"
     ]
    }
   ],
   "source": [
    "pip install cryptography"
   ]
  },
  {
   "cell_type": "code",
   "execution_count": 2,
   "metadata": {},
   "outputs": [],
   "source": [
    "from cryptography.fernet import Fernet"
   ]
  },
  {
   "cell_type": "markdown",
   "metadata": {},
   "source": [
    "## Creating class to define all methods\n"
   ]
  },
  {
   "cell_type": "code",
   "execution_count": 2,
   "metadata": {},
   "outputs": [],
   "source": [
    "# Creating the class for the file Encryption\n",
    "class File_Encryption():\n",
    "\n",
    "    def key_create(self):\n",
    "        key = Fernet.generate_key()\n",
    "        return key\n",
    "\n",
    "    def key_write(self, key, key_name):\n",
    "        with open(key_name, 'wb') as mykey:\n",
    "            mykey.write(key)\n",
    "            \n",
    "    def key_load(self, key_name):\n",
    "        with open(key_name, 'rb') as mykey:\n",
    "            key = mykey.read()\n",
    "        return key\n",
    "\n",
    "    def file_encrypt(self, key, original_file, encrypted_file):\n",
    "        f = Fernet(key)\n",
    "        with open(original_file, 'rb') as file:\n",
    "            original = file.read()\n",
    "        encrypted = f.encrypt(original)\n",
    "        with open (encrypted_file, 'wb') as file:\n",
    "            file.write(encrypted)\n",
    "\n",
    "    def file_decrypt(self, key, encrypted_file, decrypted_file):\n",
    "        f = Fernet(key)\n",
    "        with open(encrypted_file, 'rb') as file:\n",
    "            encrypted = file.read()\n",
    "        decrypted = f.decrypt(encrypted)\n",
    "        with open(decrypted_file, 'wb') as file:\n",
    "            file.write(decrypted)\n"
   ]
  },
  {
   "cell_type": "markdown",
   "metadata": {},
   "source": [
    "## Encrypt the file by running below commands"
   ]
  },
  {
   "cell_type": "code",
   "execution_count": null,
   "metadata": {},
   "outputs": [],
   "source": [
    "fName = input(\"Enter name of file you want to encrypt :\")\n",
    "ext = input(\"Enter the extension : ( For eg :- .mp4, .csv, .txt, .png etc )\")\n",
    "ch = input(\"You want to create new File after encryption or not ( y or n ) : \")\n",
    "file_Name = fName+ext\n",
    "\n",
    "if(ch=='y'):\n",
    "    new_File=input(\"Enter the name of new File :\")\n",
    "    new_Fname = new_File+ext\n",
    "elif(ch=='n'):\n",
    "    new_Fname = file_Name\n",
    "\n",
    "encr=File_Encryption()\n",
    "mykey=encr.key_create()\n",
    "encr.key_write(mykey, 'secret.key')\n",
    "loaded_key=encr.key_load('secret.key')\n",
    "encr.file_encrypt(loaded_key, file_Name, new_Fname)\n",
    "print(\"File Encrypted !\")\n"
   ]
  },
  {
   "cell_type": "code",
   "execution_count": 8,
   "metadata": {},
   "outputs": [
    {
     "name": "stdout",
     "output_type": "stream",
     "text": [
      "Enter name of file you want to decrypt :beniwal\n",
      "Enter the extension : ( For eg :- .mp4, .csv, .txt, .png etc ).csv\n",
      "You want to create new File after decryption or not ( y or n ) : y\n",
      "Enter the name of new File :newfile\n",
      "Error Occured : \n"
     ]
    }
   ],
   "source": [
    "# If the secret key is not present or filename is incorrect, then Exception will occur\n",
    "\n",
    "try:\n",
    "    fName = input(\"Enter name of file you want to decrypt :\")\n",
    "    ext = input(\"Enter the extension : ( For eg :- .mp4, .csv, .txt, .png etc )\")\n",
    "    ch = input(\"You want to create new File after decryption or not ( y or n ) : \")\n",
    "    file_Name = fName+ext\n",
    "    if(ch=='y'):\n",
    "        new_File=input(\"Enter the name of new File :\")\n",
    "        new_Fname = new_File+ext\n",
    "    elif(ch=='n'):\n",
    "        new_Fname = file_Name\n",
    "\n",
    "    decr=File_Encryption()\n",
    "    loaded_key=decr.key_load('secret.key')\n",
    "    decr.file_decrypt(loaded_key, file_Name, new_Fname)\n",
    "    print(\"File Decrypted !\")\n",
    "    \n",
    "except Exception as e:\n",
    "    print(\"Error Occured :\",e)\n"
   ]
  },
  {
   "cell_type": "code",
   "execution_count": null,
   "metadata": {},
   "outputs": [],
   "source": []
  }
 ],
 "metadata": {
  "kernelspec": {
   "display_name": "Python 3",
   "language": "python",
   "name": "python3"
  },
  "language_info": {
   "codemirror_mode": {
    "name": "ipython",
    "version": 3
   },
   "file_extension": ".py",
   "mimetype": "text/x-python",
   "name": "python",
   "nbconvert_exporter": "python",
   "pygments_lexer": "ipython3",
   "version": "3.8.5"
  }
 },
 "nbformat": 4,
 "nbformat_minor": 4
}
