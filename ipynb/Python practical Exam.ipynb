{
 "cells": [
  {
   "cell_type": "code",
   "execution_count": 14,
   "metadata": {},
   "outputs": [
    {
     "name": "stdout",
     "output_type": "stream",
     "text": [
      "Enter number\n",
      "1\n",
      "Enter number\n",
      "2\n",
      "Enter number\n",
      "3\n",
      "Enter number\n",
      "4\n",
      "Enter number\n",
      "5\n",
      "Enter number\n",
      "6\n",
      "Enter number\n",
      "7\n",
      "Enter number\n",
      "8\n",
      "Enter number\n",
      "9\n",
      "Enter number\n",
      "10\n",
      "['1', '2', '3', '4', '5', '6', '7', '8', '9', '10']\n"
     ]
    }
   ],
   "source": [
    "##Q.3(A) Take 10 integer inputs from user and store them in a list and print them on screen.\n",
    "i = 10\n",
    "a = []\n",
    "while i>0:\n",
    "    print(\"Enter number\")\n",
    "    num = input()\n",
    "    a.append(num)\n",
    "    i = i-1\n",
    "print(a)"
   ]
  },
  {
   "cell_type": "raw",
   "metadata": {},
   "source": [
    "# Q.3.(b)What is exception handling? Explain try and except statements\n",
    "Ans: \n",
    "##Exception handling:-\n",
    "                    An exception can be defined as an unusual condition in a program resulting in the interruption in the flow of the program.\n",
    "Whenever an exception occurs, the program stops the execution, and thus the further code is not executed. Therefore, an exception is the run-time errors that are unable to handle to Python script. An exception is a Python object that represents an error\n",
    "Python provides a way to handle the exception so that the code can be executed without any interruption. If we do not handle the exception, the interpreter doesn't execute all the code that exists after the exception.\n",
    "\n",
    "\n",
    "##Try and Except Statements:-\n",
    "                             The try and except block in Python is used to catch and handle exceptions. Python executes code following the try statement as a “normal” part of the program. The code that follows the except statement is the program’s response to any exceptions in the preceding try clause.\n",
    "                             \n",
    "       When syntactically correct code runs into an error, Python will throw an exception error. This exception error will crash the program if it is unhandled. The except clause determines how your program responds to exceptions.\n",
    "\n",
    "\n",
    "\n",
    "\n",
    "\n"
   ]
  },
  {
   "cell_type": "code",
   "execution_count": null,
   "metadata": {},
   "outputs": [],
   "source": []
  }
 ],
 "metadata": {
  "kernelspec": {
   "display_name": "Python 3",
   "language": "python",
   "name": "python3"
  },
  "language_info": {
   "codemirror_mode": {
    "name": "ipython",
    "version": 3
   },
   "file_extension": ".py",
   "mimetype": "text/x-python",
   "name": "python",
   "nbconvert_exporter": "python",
   "pygments_lexer": "ipython3",
   "version": "3.8.5"
  }
 },
 "nbformat": 4,
 "nbformat_minor": 4
}
