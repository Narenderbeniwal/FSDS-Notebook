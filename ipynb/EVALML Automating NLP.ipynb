{
 "cells": [
  {
   "cell_type": "code",
   "execution_count": 1,
   "metadata": {},
   "outputs": [],
   "source": [
    "import pandas as pd\n",
    "\n",
    "import numpy as np\n",
    "import matplotlib.pyplot as plt\n",
    "import pickle\n",
    "from pandas_profiling import ProfileReport"
   ]
  },
  {
   "cell_type": "code",
   "execution_count": 2,
   "metadata": {},
   "outputs": [
    {
     "data": {
      "text/html": [
       "<div>\n",
       "<style scoped>\n",
       "    .dataframe tbody tr th:only-of-type {\n",
       "        vertical-align: middle;\n",
       "    }\n",
       "\n",
       "    .dataframe tbody tr th {\n",
       "        vertical-align: top;\n",
       "    }\n",
       "\n",
       "    .dataframe thead th {\n",
       "        text-align: right;\n",
       "    }\n",
       "</style>\n",
       "<table border=\"1\" class=\"dataframe\">\n",
       "  <thead>\n",
       "    <tr style=\"text-align: right;\">\n",
       "      <th></th>\n",
       "      <th>importance</th>\n",
       "      <th>Event Name</th>\n",
       "    </tr>\n",
       "  </thead>\n",
       "  <tbody>\n",
       "    <tr>\n",
       "      <th>0</th>\n",
       "      <td>2.0</td>\n",
       "      <td>go kirkstal abbey</td>\n",
       "    </tr>\n",
       "    <tr>\n",
       "      <th>1</th>\n",
       "      <td>1.0</td>\n",
       "      <td>go stanley theatr</td>\n",
       "    </tr>\n",
       "    <tr>\n",
       "      <th>2</th>\n",
       "      <td>1.0</td>\n",
       "      <td>go ballet studio</td>\n",
       "    </tr>\n",
       "    <tr>\n",
       "      <th>3</th>\n",
       "      <td>1.0</td>\n",
       "      <td>mexico art galleri</td>\n",
       "    </tr>\n",
       "    <tr>\n",
       "      <th>4</th>\n",
       "      <td>2.0</td>\n",
       "      <td>date zoo</td>\n",
       "    </tr>\n",
       "  </tbody>\n",
       "</table>\n",
       "</div>"
      ],
      "text/plain": [
       "   importance          Event Name\n",
       "0         2.0   go kirkstal abbey\n",
       "1         1.0   go stanley theatr\n",
       "2         1.0    go ballet studio\n",
       "3         1.0  mexico art galleri\n",
       "4         2.0            date zoo"
      ]
     },
     "execution_count": 2,
     "metadata": {},
     "output_type": "execute_result"
    }
   ],
   "source": [
    "import pandas as pd\n",
    "\n",
    "data = pd.read_excel('/Users/ekcs011/Downloads/updated_data.xlsx')\n",
    "\n",
    "data.head()"
   ]
  },
  {
   "cell_type": "code",
   "execution_count": 3,
   "metadata": {},
   "outputs": [],
   "source": [
    "### Independent And Dependent Features\n",
    "X = data['importance']\n",
    "y = data['Event Name']"
   ]
  },
  {
   "cell_type": "code",
   "execution_count": 4,
   "metadata": {},
   "outputs": [
    {
     "data": {
      "text/plain": [
       "0    2.0\n",
       "1    1.0\n",
       "2    1.0\n",
       "3    1.0\n",
       "4    2.0\n",
       "Name: importance, dtype: float64"
      ]
     },
     "execution_count": 4,
     "metadata": {},
     "output_type": "execute_result"
    }
   ],
   "source": [
    "X.head()"
   ]
  },
  {
   "cell_type": "code",
   "execution_count": 5,
   "metadata": {},
   "outputs": [],
   "source": [
    "#y.value_counts(normalize=True)"
   ]
  },
  {
   "cell_type": "code",
   "execution_count": 9,
   "metadata": {},
   "outputs": [
    {
     "name": "stdout",
     "output_type": "stream",
     "text": [
      "Collecting mlflow\n",
      "  Downloading mlflow-1.20.2-py3-none-any.whl (14.6 MB)\n",
      "\u001b[K     |████████████████████████████████| 14.6 MB 502 kB/s eta 0:00:01\n",
      "\u001b[?25hRequirement already satisfied: requests>=2.17.3 in ./opt/anaconda3/lib/python3.8/site-packages (from mlflow) (2.24.0)\n",
      "Requirement already satisfied: pandas in ./opt/anaconda3/lib/python3.8/site-packages (from mlflow) (1.3.2)\n",
      "Collecting docker>=4.0.0\n",
      "  Downloading docker-5.0.2-py2.py3-none-any.whl (145 kB)\n",
      "\u001b[K     |████████████████████████████████| 145 kB 623 kB/s eta 0:00:01\n",
      "\u001b[?25hCollecting prometheus-flask-exporter\n",
      "  Downloading prometheus_flask_exporter-0.18.2.tar.gz (22 kB)\n",
      "Requirement already satisfied: protobuf>=3.7.0 in ./opt/anaconda3/lib/python3.8/site-packages (from mlflow) (3.15.8)\n",
      "Requirement already satisfied: Flask in ./opt/anaconda3/lib/python3.8/site-packages (from mlflow) (1.1.2)\n",
      "Requirement already satisfied: pyyaml>=5.1 in ./opt/anaconda3/lib/python3.8/site-packages (from mlflow) (5.3.1)\n",
      "Requirement already satisfied: numpy in ./opt/anaconda3/lib/python3.8/site-packages (from mlflow) (1.21.2)\n",
      "Collecting gunicorn; platform_system != \"Windows\"\n",
      "  Using cached gunicorn-20.1.0-py3-none-any.whl (79 kB)\n",
      "Requirement already satisfied: sqlparse>=0.3.1 in ./opt/anaconda3/lib/python3.8/site-packages (from mlflow) (0.4.1)\n",
      "Collecting databricks-cli>=0.8.7\n",
      "  Downloading databricks-cli-0.15.0.tar.gz (56 kB)\n",
      "\u001b[K     |████████████████████████████████| 56 kB 763 kB/s eta 0:00:01\n",
      "\u001b[?25hCollecting gitpython>=2.1.0\n",
      "  Downloading GitPython-3.1.18-py3-none-any.whl (170 kB)\n",
      "\u001b[K     |████████████████████████████████| 170 kB 888 kB/s eta 0:00:01\n",
      "\u001b[?25hCollecting alembic<=1.4.1\n",
      "  Downloading alembic-1.4.1.tar.gz (1.1 MB)\n",
      "\u001b[K     |████████████████████████████████| 1.1 MB 760 kB/s eta 0:00:01\n",
      "\u001b[?25hCollecting importlib-metadata!=4.7.0,>=3.7.0\n",
      "  Downloading importlib_metadata-4.8.1-py3-none-any.whl (17 kB)\n",
      "Requirement already satisfied: packaging in ./opt/anaconda3/lib/python3.8/site-packages (from mlflow) (20.4)\n",
      "Collecting querystring-parser\n",
      "  Downloading querystring_parser-1.2.4-py2.py3-none-any.whl (7.9 kB)\n",
      "Requirement already satisfied: click>=7.0 in ./opt/anaconda3/lib/python3.8/site-packages (from mlflow) (7.1.2)\n",
      "Requirement already satisfied: entrypoints in ./opt/anaconda3/lib/python3.8/site-packages (from mlflow) (0.3)\n",
      "Requirement already satisfied: pytz in ./opt/anaconda3/lib/python3.8/site-packages (from mlflow) (2020.1)\n",
      "Requirement already satisfied: cloudpickle in ./opt/anaconda3/lib/python3.8/site-packages (from mlflow) (1.6.0)\n",
      "Requirement already satisfied: sqlalchemy in ./opt/anaconda3/lib/python3.8/site-packages (from mlflow) (1.3.20)\n",
      "Requirement already satisfied: idna<3,>=2.5 in ./opt/anaconda3/lib/python3.8/site-packages (from requests>=2.17.3->mlflow) (2.10)\n",
      "Requirement already satisfied: urllib3!=1.25.0,!=1.25.1,<1.26,>=1.21.1 in ./opt/anaconda3/lib/python3.8/site-packages (from requests>=2.17.3->mlflow) (1.25.11)\n",
      "Requirement already satisfied: chardet<4,>=3.0.2 in ./opt/anaconda3/lib/python3.8/site-packages (from requests>=2.17.3->mlflow) (3.0.4)\n",
      "Requirement already satisfied: certifi>=2017.4.17 in ./opt/anaconda3/lib/python3.8/site-packages (from requests>=2.17.3->mlflow) (2020.6.20)\n",
      "Requirement already satisfied: python-dateutil>=2.7.3 in ./opt/anaconda3/lib/python3.8/site-packages (from pandas->mlflow) (2.8.1)\n",
      "Collecting websocket-client>=0.32.0\n",
      "  Downloading websocket_client-1.2.1-py2.py3-none-any.whl (52 kB)\n",
      "\u001b[K     |████████████████████████████████| 52 kB 785 kB/s eta 0:00:01\n",
      "\u001b[?25hRequirement already satisfied: prometheus_client in ./opt/anaconda3/lib/python3.8/site-packages (from prometheus-flask-exporter->mlflow) (0.8.0)\n",
      "Requirement already satisfied: six>=1.9 in ./opt/anaconda3/lib/python3.8/site-packages (from protobuf>=3.7.0->mlflow) (1.15.0)\n",
      "Requirement already satisfied: Werkzeug>=0.15 in ./opt/anaconda3/lib/python3.8/site-packages (from Flask->mlflow) (1.0.1)\n",
      "Requirement already satisfied: Jinja2>=2.10.1 in ./opt/anaconda3/lib/python3.8/site-packages (from Flask->mlflow) (2.11.2)\n",
      "Requirement already satisfied: itsdangerous>=0.24 in ./opt/anaconda3/lib/python3.8/site-packages (from Flask->mlflow) (1.1.0)\n",
      "Requirement already satisfied: setuptools>=3.0 in ./opt/anaconda3/lib/python3.8/site-packages (from gunicorn; platform_system != \"Windows\"->mlflow) (50.3.1.post20201107)\n",
      "Collecting tabulate>=0.7.7\n",
      "  Downloading tabulate-0.8.9-py3-none-any.whl (25 kB)\n",
      "Collecting gitdb<5,>=4.0.1\n",
      "  Downloading gitdb-4.0.7-py3-none-any.whl (63 kB)\n",
      "\u001b[K     |████████████████████████████████| 63 kB 601 kB/s eta 0:00:01\n",
      "\u001b[?25hCollecting Mako\n",
      "  Downloading Mako-1.1.5-py2.py3-none-any.whl (75 kB)\n",
      "\u001b[K     |████████████████████████████████| 75 kB 917 kB/s eta 0:00:01\n",
      "\u001b[?25hCollecting python-editor>=0.3\n",
      "  Downloading python_editor-1.0.4-py3-none-any.whl (4.9 kB)\n",
      "Requirement already satisfied: zipp>=0.5 in ./opt/anaconda3/lib/python3.8/site-packages (from importlib-metadata!=4.7.0,>=3.7.0->mlflow) (3.4.0)\n",
      "Requirement already satisfied: pyparsing>=2.0.2 in ./opt/anaconda3/lib/python3.8/site-packages (from packaging->mlflow) (2.4.7)\n",
      "Requirement already satisfied: MarkupSafe>=0.23 in ./opt/anaconda3/lib/python3.8/site-packages (from Jinja2>=2.10.1->Flask->mlflow) (1.1.1)\n",
      "Collecting smmap<5,>=3.0.1\n",
      "  Downloading smmap-4.0.0-py2.py3-none-any.whl (24 kB)\n",
      "Building wheels for collected packages: prometheus-flask-exporter, databricks-cli, alembic\n",
      "  Building wheel for prometheus-flask-exporter (setup.py) ... \u001b[?25ldone\n",
      "\u001b[?25h  Created wheel for prometheus-flask-exporter: filename=prometheus_flask_exporter-0.18.2-py3-none-any.whl size=17398 sha256=ada611424068652c0742845bdec95345c437d18f8c7bea4ab704a30a904a6ca0\n",
      "  Stored in directory: /Users/ekcs011/Library/Caches/pip/wheels/69/6f/b4/2087abb1172ae32c58e366dc09746de46a72b0e9fb2c022920\n",
      "  Building wheel for databricks-cli (setup.py) ... \u001b[?25ldone\n",
      "\u001b[?25h  Created wheel for databricks-cli: filename=databricks_cli-0.15.0-py3-none-any.whl size=105259 sha256=6dd4e12ddf3557a8867f405d21fabf942f9804d9a7166a857f876b10a1bdedba\n",
      "  Stored in directory: /Users/ekcs011/Library/Caches/pip/wheels/ee/7e/15/972603d7621ee28090b56554f44bbb1e7ada685b595ef71578\n",
      "  Building wheel for alembic (setup.py) ... \u001b[?25ldone\n",
      "\u001b[?25h  Created wheel for alembic: filename=alembic-1.4.1-py2.py3-none-any.whl size=158155 sha256=18e677cae5b8888c6ef8ab58a1bf092a1acb178db5450e2e54fe4cffbfd4451b\n",
      "  Stored in directory: /Users/ekcs011/Library/Caches/pip/wheels/9d/de/6d/ca8d461ec29e010b1267d7353d0b058819770f7680bb9360e4\n",
      "Successfully built prometheus-flask-exporter databricks-cli alembic\n",
      "Installing collected packages: websocket-client, docker, prometheus-flask-exporter, gunicorn, tabulate, databricks-cli, smmap, gitdb, gitpython, Mako, python-editor, alembic, importlib-metadata, querystring-parser, mlflow\n",
      "  Attempting uninstall: importlib-metadata\n",
      "    Found existing installation: importlib-metadata 2.0.0\n",
      "    Uninstalling importlib-metadata-2.0.0:\n",
      "      Successfully uninstalled importlib-metadata-2.0.0\n",
      "Successfully installed Mako-1.1.5 alembic-1.4.1 databricks-cli-0.15.0 docker-5.0.2 gitdb-4.0.7 gitpython-3.1.18 gunicorn-20.1.0 importlib-metadata-4.8.1 mlflow-1.20.2 prometheus-flask-exporter-0.18.2 python-editor-1.0.4 querystring-parser-1.2.4 smmap-4.0.0 tabulate-0.8.9 websocket-client-1.2.1\n",
      "Note: you may need to restart the kernel to use updated packages.\n"
     ]
    }
   ],
   "source": [
    "pip install mlflow"
   ]
  },
  {
   "cell_type": "code",
   "execution_count": null,
   "metadata": {},
   "outputs": [
    {
     "name": "stdout",
     "output_type": "stream",
     "text": [
      "Collecting evalml[update_checker]\n",
      "  Using cached evalml-0.32.0-py3-none-any.whl (6.3 MB)\n",
      "Collecting numba==0.53\n",
      "  Using cached numba-0.53.0.tar.gz (2.2 MB)\n",
      "Requirement already satisfied: scipy>=1.5.0 in ./opt/anaconda3/lib/python3.8/site-packages (from evalml[update_checker]) (1.5.2)\n",
      "Requirement already satisfied: graphviz>=0.13; platform_system != \"Windows\" in ./opt/anaconda3/lib/python3.8/site-packages (from evalml[update_checker]) (0.17)\n",
      "Requirement already satisfied: featuretools>=0.26.1 in ./opt/anaconda3/lib/python3.8/site-packages (from evalml[update_checker]) (0.27.1)\n",
      "Requirement already satisfied: requirements-parser>=0.2.0 in ./opt/anaconda3/lib/python3.8/site-packages (from evalml[update_checker]) (0.2.0)\n",
      "Requirement already satisfied: dask>=2.12.0 in ./opt/anaconda3/lib/python3.8/site-packages (from evalml[update_checker]) (2.30.0)\n",
      "Collecting xgboost>=1.4.2\n",
      "  Using cached xgboost-1.4.2.tar.gz (716 kB)\n",
      "Requirement already satisfied: networkx<2.6,>=2.5 in ./opt/anaconda3/lib/python3.8/site-packages (from evalml[update_checker]) (2.5)\n",
      "Requirement already satisfied: numpy>=1.20.0 in ./opt/anaconda3/lib/python3.8/site-packages (from evalml[update_checker]) (1.21.2)\n",
      "Processing ./Library/Caches/pip/wheels/3d/c9/06/734ed80d6d61fad331974bf62017b4ea6b33488082b9f5e67e/shap-0.39.0-cp38-cp38-macosx_10_9_x86_64.whl\n",
      "Requirement already satisfied: cloudpickle>=1.5.0 in ./opt/anaconda3/lib/python3.8/site-packages (from evalml[update_checker]) (1.6.0)\n",
      "Collecting woodwork==0.6.0\n",
      "  Using cached woodwork-0.6.0-py3-none-any.whl (137 kB)\n",
      "Collecting texttable>=1.6.2\n",
      "  Using cached texttable-1.6.4-py2.py3-none-any.whl (10 kB)\n",
      "Collecting lightgbm>=2.3.1\n",
      "  Using cached lightgbm-3.2.1.tar.gz (1.5 MB)\n",
      "Processing ./Library/Caches/pip/wheels/70/97/64/02348783b6d2d3cbb15268f0e1f23373bb70664b836b6995d7/pmdarima-1.8.0-cp38-cp38-macosx_10_13_x86_64.whl\n",
      "Requirement already satisfied: category-encoders>=2.2.2 in ./opt/anaconda3/lib/python3.8/site-packages (from evalml[update_checker]) (2.2.2)\n",
      "Requirement already satisfied: nlp-primitives>=1.1.0 in ./opt/anaconda3/lib/python3.8/site-packages (from evalml[update_checker]) (1.2.0)\n",
      "Requirement already satisfied: plotly>=5.0.0 in ./opt/anaconda3/lib/python3.8/site-packages (from evalml[update_checker]) (5.1.0)\n",
      "Collecting scikit-optimize>=0.8.1\n",
      "  Using cached scikit_optimize-0.8.1-py2.py3-none-any.whl (101 kB)\n",
      "Requirement already satisfied: matplotlib>=3.3.3 in ./opt/anaconda3/lib/python3.8/site-packages (from evalml[update_checker]) (3.4.3)\n",
      "Requirement already satisfied: colorama>=0.4.4 in ./opt/anaconda3/lib/python3.8/site-packages (from evalml[update_checker]) (0.4.4)\n",
      "Collecting sktime>=0.7.0; python_version < \"3.9\"\n",
      "  Using cached sktime-0.7.0.tar.gz (9.5 MB)\n",
      "Requirement already satisfied: catboost>=0.20 in ./opt/anaconda3/lib/python3.8/site-packages (from evalml[update_checker]) (0.26.1)\n",
      "Requirement already satisfied: pyzmq>=20.0.0 in ./opt/anaconda3/lib/python3.8/site-packages (from evalml[update_checker]) (22.2.1)\n",
      "Requirement already satisfied: pandas>=1.2.5 in ./opt/anaconda3/lib/python3.8/site-packages (from evalml[update_checker]) (1.3.2)\n",
      "Requirement already satisfied: scikit-learn>=0.24.0 in ./opt/anaconda3/lib/python3.8/site-packages (from evalml[update_checker]) (0.24.2)\n",
      "Collecting kaleido>=0.1.0\n",
      "  Using cached kaleido-0.2.1-py2.py3-none-macosx_10_11_x86_64.whl (85.2 MB)\n",
      "Requirement already satisfied: seaborn>=0.11.1 in ./opt/anaconda3/lib/python3.8/site-packages (from evalml[update_checker]) (0.11.2)\n",
      "Requirement already satisfied: psutil>=5.6.6 in ./opt/anaconda3/lib/python3.8/site-packages (from evalml[update_checker]) (5.7.2)\n",
      "Requirement already satisfied: imbalanced-learn>=0.8.0 in ./opt/anaconda3/lib/python3.8/site-packages (from evalml[update_checker]) (0.8.0)\n",
      "Requirement already satisfied: click>=7.1.2 in ./opt/anaconda3/lib/python3.8/site-packages (from evalml[update_checker]) (7.1.2)\n",
      "Requirement already satisfied: statsmodels>=0.12.2 in ./opt/anaconda3/lib/python3.8/site-packages (from evalml[update_checker]) (0.12.2)\n",
      "Requirement already satisfied: ipywidgets>=7.5 in ./opt/anaconda3/lib/python3.8/site-packages (from evalml[update_checker]) (7.5.1)\n",
      "Collecting alteryx-open-src-update-checker>=2.0.0; extra == \"update_checker\"\n",
      "  Downloading alteryx_open_src_update_checker-2.1.0-py3-none-any.whl (7.5 kB)\n",
      "Requirement already satisfied: llvmlite<0.37,>=0.36.0rc1 in ./opt/anaconda3/lib/python3.8/site-packages (from numba==0.53->evalml[update_checker]) (0.36.0)\n",
      "Requirement already satisfied: setuptools in ./opt/anaconda3/lib/python3.8/site-packages (from numba==0.53->evalml[update_checker]) (50.3.1.post20201107)\n",
      "Collecting pyyaml>=5.4\n",
      "  Using cached PyYAML-5.4.1-cp38-cp38-macosx_10_9_x86_64.whl (253 kB)\n",
      "Requirement already satisfied: distributed>=2.12.0 in ./opt/anaconda3/lib/python3.8/site-packages (from featuretools>=0.26.1->evalml[update_checker]) (2.30.1)\n",
      "Requirement already satisfied: tqdm>=4.32.0 in ./opt/anaconda3/lib/python3.8/site-packages (from featuretools>=0.26.1->evalml[update_checker]) (4.50.2)\n",
      "Requirement already satisfied: decorator>=4.3.0 in ./opt/anaconda3/lib/python3.8/site-packages (from networkx<2.6,>=2.5->evalml[update_checker]) (4.4.2)\n",
      "Collecting slicer==0.0.7\n",
      "  Using cached slicer-0.0.7-py3-none-any.whl (14 kB)\n",
      "Requirement already satisfied: wheel in ./opt/anaconda3/lib/python3.8/site-packages (from lightgbm>=2.3.1->evalml[update_checker]) (0.35.1)\n",
      "Requirement already satisfied: urllib3 in ./opt/anaconda3/lib/python3.8/site-packages (from pmdarima==1.8.0->evalml[update_checker]) (1.25.11)\n",
      "Requirement already satisfied: joblib>=0.11 in ./opt/anaconda3/lib/python3.8/site-packages (from pmdarima==1.8.0->evalml[update_checker]) (0.17.0)\n",
      "Collecting Cython<0.29.18,>=0.29\n",
      "  Using cached Cython-0.29.17-cp38-cp38-macosx_10_9_x86_64.whl (2.0 MB)\n",
      "Requirement already satisfied: patsy>=0.5.1 in ./opt/anaconda3/lib/python3.8/site-packages (from category-encoders>=2.2.2->evalml[update_checker]) (0.5.1)\n",
      "Requirement already satisfied: nltk>=3.4.5 in ./opt/anaconda3/lib/python3.8/site-packages (from nlp-primitives>=1.1.0->evalml[update_checker]) (3.5)\n",
      "Requirement already satisfied: six in ./opt/anaconda3/lib/python3.8/site-packages (from plotly>=5.0.0->evalml[update_checker]) (1.15.0)\n",
      "Requirement already satisfied: tenacity>=6.2.0 in ./opt/anaconda3/lib/python3.8/site-packages (from plotly>=5.0.0->evalml[update_checker]) (8.0.1)\n",
      "Collecting pyaml>=16.9\n",
      "  Using cached pyaml-21.8.3-py2.py3-none-any.whl (17 kB)\n",
      "Requirement already satisfied: kiwisolver>=1.0.1 in ./opt/anaconda3/lib/python3.8/site-packages (from matplotlib>=3.3.3->evalml[update_checker]) (1.3.0)\n",
      "Requirement already satisfied: python-dateutil>=2.7 in ./opt/anaconda3/lib/python3.8/site-packages (from matplotlib>=3.3.3->evalml[update_checker]) (2.8.1)\n",
      "Requirement already satisfied: cycler>=0.10 in ./opt/anaconda3/lib/python3.8/site-packages (from matplotlib>=3.3.3->evalml[update_checker]) (0.10.0)\n",
      "Requirement already satisfied: pillow>=6.2.0 in ./opt/anaconda3/lib/python3.8/site-packages (from matplotlib>=3.3.3->evalml[update_checker]) (8.0.1)\n",
      "Requirement already satisfied: pyparsing>=2.2.1 in ./opt/anaconda3/lib/python3.8/site-packages (from matplotlib>=3.3.3->evalml[update_checker]) (2.4.7)\n",
      "Requirement already satisfied: pytz>=2017.3 in ./opt/anaconda3/lib/python3.8/site-packages (from pandas>=1.2.5->evalml[update_checker]) (2020.1)\n",
      "Requirement already satisfied: threadpoolctl>=2.0.0 in ./opt/anaconda3/lib/python3.8/site-packages (from scikit-learn>=0.24.0->evalml[update_checker]) (2.1.0)\n",
      "Requirement already satisfied: traitlets>=4.3.1 in ./opt/anaconda3/lib/python3.8/site-packages (from ipywidgets>=7.5->evalml[update_checker]) (5.0.5)\n",
      "Requirement already satisfied: ipykernel>=4.5.1 in ./opt/anaconda3/lib/python3.8/site-packages (from ipywidgets>=7.5->evalml[update_checker]) (5.3.4)\n",
      "Requirement already satisfied: widgetsnbextension~=3.5.0 in ./opt/anaconda3/lib/python3.8/site-packages (from ipywidgets>=7.5->evalml[update_checker]) (3.5.1)\n",
      "Requirement already satisfied: ipython>=4.0.0; python_version >= \"3.3\" in ./opt/anaconda3/lib/python3.8/site-packages (from ipywidgets>=7.5->evalml[update_checker]) (7.19.0)\n",
      "Requirement already satisfied: nbformat>=4.2.0 in ./opt/anaconda3/lib/python3.8/site-packages (from ipywidgets>=7.5->evalml[update_checker]) (5.0.8)\n",
      "Requirement already satisfied: requests>=2.22.0 in ./opt/anaconda3/lib/python3.8/site-packages (from alteryx-open-src-update-checker>=2.0.0; extra == \"update_checker\"->evalml[update_checker]) (2.24.0)\n",
      "Requirement already satisfied: tblib>=1.6.0 in ./opt/anaconda3/lib/python3.8/site-packages (from distributed>=2.12.0->featuretools>=0.26.1->evalml[update_checker]) (1.7.0)\n",
      "Requirement already satisfied: zict>=0.1.3 in ./opt/anaconda3/lib/python3.8/site-packages (from distributed>=2.12.0->featuretools>=0.26.1->evalml[update_checker]) (2.0.0)\n",
      "Requirement already satisfied: sortedcontainers!=2.0.0,!=2.0.1 in ./opt/anaconda3/lib/python3.8/site-packages (from distributed>=2.12.0->featuretools>=0.26.1->evalml[update_checker]) (2.2.2)\n",
      "Requirement already satisfied: toolz>=0.8.2 in ./opt/anaconda3/lib/python3.8/site-packages (from distributed>=2.12.0->featuretools>=0.26.1->evalml[update_checker]) (0.11.1)\n",
      "Requirement already satisfied: tornado>=6.0.3; python_version >= \"3.8\" in ./opt/anaconda3/lib/python3.8/site-packages (from distributed>=2.12.0->featuretools>=0.26.1->evalml[update_checker]) (6.0.4)\n",
      "Requirement already satisfied: msgpack>=0.6.0 in ./opt/anaconda3/lib/python3.8/site-packages (from distributed>=2.12.0->featuretools>=0.26.1->evalml[update_checker]) (1.0.0)\n",
      "Requirement already satisfied: regex in ./opt/anaconda3/lib/python3.8/site-packages (from nltk>=3.4.5->nlp-primitives>=1.1.0->evalml[update_checker]) (2020.10.15)\n"
     ]
    },
    {
     "name": "stdout",
     "output_type": "stream",
     "text": [
      "Requirement already satisfied: ipython-genutils in ./opt/anaconda3/lib/python3.8/site-packages (from traitlets>=4.3.1->ipywidgets>=7.5->evalml[update_checker]) (0.2.0)\n",
      "Requirement already satisfied: jupyter-client in ./opt/anaconda3/lib/python3.8/site-packages (from ipykernel>=4.5.1->ipywidgets>=7.5->evalml[update_checker]) (6.1.7)\n",
      "Requirement already satisfied: appnope; platform_system == \"Darwin\" in ./opt/anaconda3/lib/python3.8/site-packages (from ipykernel>=4.5.1->ipywidgets>=7.5->evalml[update_checker]) (0.1.0)\n",
      "Requirement already satisfied: notebook>=4.4.1 in ./opt/anaconda3/lib/python3.8/site-packages (from widgetsnbextension~=3.5.0->ipywidgets>=7.5->evalml[update_checker]) (6.1.4)\n",
      "Requirement already satisfied: pickleshare in ./opt/anaconda3/lib/python3.8/site-packages (from ipython>=4.0.0; python_version >= \"3.3\"->ipywidgets>=7.5->evalml[update_checker]) (0.7.5)\n",
      "Requirement already satisfied: pygments in ./opt/anaconda3/lib/python3.8/site-packages (from ipython>=4.0.0; python_version >= \"3.3\"->ipywidgets>=7.5->evalml[update_checker]) (2.7.2)\n",
      "Requirement already satisfied: pexpect>4.3; sys_platform != \"win32\" in ./opt/anaconda3/lib/python3.8/site-packages (from ipython>=4.0.0; python_version >= \"3.3\"->ipywidgets>=7.5->evalml[update_checker]) (4.8.0)\n",
      "Requirement already satisfied: backcall in ./opt/anaconda3/lib/python3.8/site-packages (from ipython>=4.0.0; python_version >= \"3.3\"->ipywidgets>=7.5->evalml[update_checker]) (0.2.0)\n",
      "Requirement already satisfied: prompt-toolkit!=3.0.0,!=3.0.1,<3.1.0,>=2.0.0 in ./opt/anaconda3/lib/python3.8/site-packages (from ipython>=4.0.0; python_version >= \"3.3\"->ipywidgets>=7.5->evalml[update_checker]) (3.0.8)\n",
      "Requirement already satisfied: jedi>=0.10 in ./opt/anaconda3/lib/python3.8/site-packages (from ipython>=4.0.0; python_version >= \"3.3\"->ipywidgets>=7.5->evalml[update_checker]) (0.17.1)\n",
      "Requirement already satisfied: jupyter-core in ./opt/anaconda3/lib/python3.8/site-packages (from nbformat>=4.2.0->ipywidgets>=7.5->evalml[update_checker]) (4.6.3)\n",
      "Requirement already satisfied: jsonschema!=2.5.0,>=2.4 in ./opt/anaconda3/lib/python3.8/site-packages (from nbformat>=4.2.0->ipywidgets>=7.5->evalml[update_checker]) (3.2.0)\n",
      "Requirement already satisfied: chardet<4,>=3.0.2 in ./opt/anaconda3/lib/python3.8/site-packages (from requests>=2.22.0->alteryx-open-src-update-checker>=2.0.0; extra == \"update_checker\"->evalml[update_checker]) (3.0.4)\n",
      "Requirement already satisfied: idna<3,>=2.5 in ./opt/anaconda3/lib/python3.8/site-packages (from requests>=2.22.0->alteryx-open-src-update-checker>=2.0.0; extra == \"update_checker\"->evalml[update_checker]) (2.10)\n",
      "Requirement already satisfied: certifi>=2017.4.17 in ./opt/anaconda3/lib/python3.8/site-packages (from requests>=2.22.0->alteryx-open-src-update-checker>=2.0.0; extra == \"update_checker\"->evalml[update_checker]) (2020.6.20)\n",
      "Requirement already satisfied: heapdict in ./opt/anaconda3/lib/python3.8/site-packages (from zict>=0.1.3->distributed>=2.12.0->featuretools>=0.26.1->evalml[update_checker]) (1.0.1)\n",
      "Requirement already satisfied: prometheus-client in ./opt/anaconda3/lib/python3.8/site-packages (from notebook>=4.4.1->widgetsnbextension~=3.5.0->ipywidgets>=7.5->evalml[update_checker]) (0.8.0)\n",
      "Requirement already satisfied: terminado>=0.8.3 in ./opt/anaconda3/lib/python3.8/site-packages (from notebook>=4.4.1->widgetsnbextension~=3.5.0->ipywidgets>=7.5->evalml[update_checker]) (0.9.1)\n",
      "Requirement already satisfied: argon2-cffi in ./opt/anaconda3/lib/python3.8/site-packages (from notebook>=4.4.1->widgetsnbextension~=3.5.0->ipywidgets>=7.5->evalml[update_checker]) (20.1.0)\n",
      "Requirement already satisfied: jinja2 in ./opt/anaconda3/lib/python3.8/site-packages (from notebook>=4.4.1->widgetsnbextension~=3.5.0->ipywidgets>=7.5->evalml[update_checker]) (2.11.2)\n",
      "Requirement already satisfied: Send2Trash in ./opt/anaconda3/lib/python3.8/site-packages (from notebook>=4.4.1->widgetsnbextension~=3.5.0->ipywidgets>=7.5->evalml[update_checker]) (1.5.0)\n",
      "Requirement already satisfied: nbconvert in ./opt/anaconda3/lib/python3.8/site-packages (from notebook>=4.4.1->widgetsnbextension~=3.5.0->ipywidgets>=7.5->evalml[update_checker]) (6.0.7)\n",
      "Requirement already satisfied: ptyprocess>=0.5 in ./opt/anaconda3/lib/python3.8/site-packages (from pexpect>4.3; sys_platform != \"win32\"->ipython>=4.0.0; python_version >= \"3.3\"->ipywidgets>=7.5->evalml[update_checker]) (0.6.0)\n",
      "Requirement already satisfied: wcwidth in ./opt/anaconda3/lib/python3.8/site-packages (from prompt-toolkit!=3.0.0,!=3.0.1,<3.1.0,>=2.0.0->ipython>=4.0.0; python_version >= \"3.3\"->ipywidgets>=7.5->evalml[update_checker]) (0.2.5)\n",
      "Requirement already satisfied: parso<0.8.0,>=0.7.0 in ./opt/anaconda3/lib/python3.8/site-packages (from jedi>=0.10->ipython>=4.0.0; python_version >= \"3.3\"->ipywidgets>=7.5->evalml[update_checker]) (0.7.0)\n",
      "Requirement already satisfied: attrs>=17.4.0 in ./opt/anaconda3/lib/python3.8/site-packages (from jsonschema!=2.5.0,>=2.4->nbformat>=4.2.0->ipywidgets>=7.5->evalml[update_checker]) (20.3.0)\n",
      "Requirement already satisfied: pyrsistent>=0.14.0 in ./opt/anaconda3/lib/python3.8/site-packages (from jsonschema!=2.5.0,>=2.4->nbformat>=4.2.0->ipywidgets>=7.5->evalml[update_checker]) (0.17.3)\n",
      "Requirement already satisfied: cffi>=1.0.0 in ./opt/anaconda3/lib/python3.8/site-packages (from argon2-cffi->notebook>=4.4.1->widgetsnbextension~=3.5.0->ipywidgets>=7.5->evalml[update_checker]) (1.14.3)\n",
      "Requirement already satisfied: MarkupSafe>=0.23 in ./opt/anaconda3/lib/python3.8/site-packages (from jinja2->notebook>=4.4.1->widgetsnbextension~=3.5.0->ipywidgets>=7.5->evalml[update_checker]) (1.1.1)\n",
      "Requirement already satisfied: defusedxml in ./opt/anaconda3/lib/python3.8/site-packages (from nbconvert->notebook>=4.4.1->widgetsnbextension~=3.5.0->ipywidgets>=7.5->evalml[update_checker]) (0.6.0)\n",
      "Requirement already satisfied: bleach in ./opt/anaconda3/lib/python3.8/site-packages (from nbconvert->notebook>=4.4.1->widgetsnbextension~=3.5.0->ipywidgets>=7.5->evalml[update_checker]) (3.2.1)\n",
      "Requirement already satisfied: testpath in ./opt/anaconda3/lib/python3.8/site-packages (from nbconvert->notebook>=4.4.1->widgetsnbextension~=3.5.0->ipywidgets>=7.5->evalml[update_checker]) (0.4.4)\n",
      "Requirement already satisfied: pandocfilters>=1.4.1 in ./opt/anaconda3/lib/python3.8/site-packages (from nbconvert->notebook>=4.4.1->widgetsnbextension~=3.5.0->ipywidgets>=7.5->evalml[update_checker]) (1.4.3)\n",
      "Requirement already satisfied: nbclient<0.6.0,>=0.5.0 in ./opt/anaconda3/lib/python3.8/site-packages (from nbconvert->notebook>=4.4.1->widgetsnbextension~=3.5.0->ipywidgets>=7.5->evalml[update_checker]) (0.5.1)\n",
      "Requirement already satisfied: jupyterlab-pygments in ./opt/anaconda3/lib/python3.8/site-packages (from nbconvert->notebook>=4.4.1->widgetsnbextension~=3.5.0->ipywidgets>=7.5->evalml[update_checker]) (0.1.2)\n",
      "Requirement already satisfied: entrypoints>=0.2.2 in ./opt/anaconda3/lib/python3.8/site-packages (from nbconvert->notebook>=4.4.1->widgetsnbextension~=3.5.0->ipywidgets>=7.5->evalml[update_checker]) (0.3)\n",
      "Requirement already satisfied: mistune<2,>=0.8.1 in ./opt/anaconda3/lib/python3.8/site-packages (from nbconvert->notebook>=4.4.1->widgetsnbextension~=3.5.0->ipywidgets>=7.5->evalml[update_checker]) (0.8.4)\n",
      "Requirement already satisfied: pycparser in ./opt/anaconda3/lib/python3.8/site-packages (from cffi>=1.0.0->argon2-cffi->notebook>=4.4.1->widgetsnbextension~=3.5.0->ipywidgets>=7.5->evalml[update_checker]) (2.20)\n",
      "Requirement already satisfied: packaging in ./opt/anaconda3/lib/python3.8/site-packages (from bleach->nbconvert->notebook>=4.4.1->widgetsnbextension~=3.5.0->ipywidgets>=7.5->evalml[update_checker]) (20.4)\n",
      "Requirement already satisfied: webencodings in ./opt/anaconda3/lib/python3.8/site-packages (from bleach->nbconvert->notebook>=4.4.1->widgetsnbextension~=3.5.0->ipywidgets>=7.5->evalml[update_checker]) (0.5.1)\n",
      "Requirement already satisfied: async-generator in ./opt/anaconda3/lib/python3.8/site-packages (from nbclient<0.6.0,>=0.5.0->nbconvert->notebook>=4.4.1->widgetsnbextension~=3.5.0->ipywidgets>=7.5->evalml[update_checker]) (1.10)\n",
      "Requirement already satisfied: nest-asyncio in ./opt/anaconda3/lib/python3.8/site-packages (from nbclient<0.6.0,>=0.5.0->nbconvert->notebook>=4.4.1->widgetsnbextension~=3.5.0->ipywidgets>=7.5->evalml[update_checker]) (1.4.2)\n",
      "Building wheels for collected packages: numba, xgboost, lightgbm, sktime\n"
     ]
    },
    {
     "name": "stdout",
     "output_type": "stream",
     "text": [
      "  Building wheel for numba (setup.py) ... \u001b[?25l-"
     ]
    }
   ],
   "source": [
    "pip install evalml[update_checker]\n"
   ]
  },
  {
   "cell_type": "code",
   "execution_count": 2,
   "metadata": {},
   "outputs": [
    {
     "ename": "ModuleNotFoundError",
     "evalue": "No module named 'evalml'",
     "output_type": "error",
     "traceback": [
      "\u001b[0;31m---------------------------------------------------------------------------\u001b[0m",
      "\u001b[0;31mModuleNotFoundError\u001b[0m                       Traceback (most recent call last)",
      "\u001b[0;32m<ipython-input-2-497cea0f742e>\u001b[0m in \u001b[0;36m<module>\u001b[0;34m\u001b[0m\n\u001b[0;32m----> 1\u001b[0;31m \u001b[0;32mimport\u001b[0m \u001b[0mevalml\u001b[0m\u001b[0;34m\u001b[0m\u001b[0;34m\u001b[0m\u001b[0m\n\u001b[0m",
      "\u001b[0;31mModuleNotFoundError\u001b[0m: No module named 'evalml'"
     ]
    }
   ],
   "source": [
    "import evalml"
   ]
  },
  {
   "cell_type": "code",
   "execution_count": 8,
   "metadata": {},
   "outputs": [
    {
     "ename": "NameError",
     "evalue": "name 'evalml' is not defined",
     "output_type": "error",
     "traceback": [
      "\u001b[0;31m---------------------------------------------------------------------------\u001b[0m",
      "\u001b[0;31mNameError\u001b[0m                                 Traceback (most recent call last)",
      "\u001b[0;32m<ipython-input-8-2666c6b8cfd2>\u001b[0m in \u001b[0;36m<module>\u001b[0;34m\u001b[0m\n\u001b[1;32m      1\u001b[0m \u001b[0;31m#### TRain A\\nd test data split\u001b[0m\u001b[0;34m\u001b[0m\u001b[0;34m\u001b[0m\u001b[0;34m\u001b[0m\u001b[0m\n\u001b[0;32m----> 2\u001b[0;31m \u001b[0mX_train\u001b[0m\u001b[0;34m,\u001b[0m\u001b[0mX_test\u001b[0m\u001b[0;34m,\u001b[0m\u001b[0my_train\u001b[0m\u001b[0;34m,\u001b[0m\u001b[0my_test\u001b[0m\u001b[0;34m=\u001b[0m\u001b[0mevalml\u001b[0m\u001b[0;34m.\u001b[0m\u001b[0mpreprocessing\u001b[0m\u001b[0;34m.\u001b[0m\u001b[0msplit_data\u001b[0m\u001b[0;34m(\u001b[0m\u001b[0mX\u001b[0m\u001b[0;34m,\u001b[0m\u001b[0my\u001b[0m\u001b[0;34m,\u001b[0m\u001b[0mproblem_type\u001b[0m\u001b[0;34m=\u001b[0m\u001b[0;34m'binary'\u001b[0m\u001b[0;34m)\u001b[0m\u001b[0;34m\u001b[0m\u001b[0;34m\u001b[0m\u001b[0m\n\u001b[0m",
      "\u001b[0;31mNameError\u001b[0m: name 'evalml' is not defined"
     ]
    }
   ],
   "source": [
    "#### TRain A\\nd test data split\n",
    "X_train,X_test,y_train,y_test=evalml.preprocessing.split_data(X,y,problem_type='binary')"
   ]
  },
  {
   "cell_type": "code",
   "execution_count": 9,
   "metadata": {},
   "outputs": [
    {
     "ename": "NameError",
     "evalue": "name 'evalml' is not defined",
     "output_type": "error",
     "traceback": [
      "\u001b[0;31m---------------------------------------------------------------------------\u001b[0m",
      "\u001b[0;31mNameError\u001b[0m                                 Traceback (most recent call last)",
      "\u001b[0;32m<ipython-input-9-1dce23a5a5be>\u001b[0m in \u001b[0;36m<module>\u001b[0;34m\u001b[0m\n\u001b[0;32m----> 1\u001b[0;31m \u001b[0mevalml\u001b[0m\u001b[0;34m.\u001b[0m\u001b[0mproblem_types\u001b[0m\u001b[0;34m.\u001b[0m\u001b[0mProblemTypes\u001b[0m\u001b[0;34m.\u001b[0m\u001b[0mall_problem_types\u001b[0m\u001b[0;34m\u001b[0m\u001b[0;34m\u001b[0m\u001b[0m\n\u001b[0m",
      "\u001b[0;31mNameError\u001b[0m: name 'evalml' is not defined"
     ]
    }
   ],
   "source": [
    "evalml.problem_types.ProblemTypes.all_problem_types"
   ]
  },
  {
   "cell_type": "code",
   "execution_count": null,
   "metadata": {},
   "outputs": [],
   "source": [
    "X_train.head()"
   ]
  },
  {
   "cell_type": "code",
   "execution_count": null,
   "metadata": {},
   "outputs": [],
   "source": [
    "from evalml import AutoMLSearch"
   ]
  },
  {
   "cell_type": "code",
   "execution_count": null,
   "metadata": {},
   "outputs": [],
   "source": [
    "automl=AutoMLSearch(X_train=X_train,y_train=y_train,problem_type='binary',max_batches=1,optimize_thresholds=True)"
   ]
  },
  {
   "cell_type": "code",
   "execution_count": null,
   "metadata": {},
   "outputs": [],
   "source": [
    "automl.search()"
   ]
  },
  {
   "cell_type": "code",
   "execution_count": null,
   "metadata": {},
   "outputs": [],
   "source": [
    "automl.rankings"
   ]
  },
  {
   "cell_type": "code",
   "execution_count": null,
   "metadata": {},
   "outputs": [],
   "source": [
    "automl.best_pipeline"
   ]
  },
  {
   "cell_type": "code",
   "execution_count": null,
   "metadata": {},
   "outputs": [],
   "source": [
    "best_pipeline = automl.best_pipeline"
   ]
  },
  {
   "cell_type": "code",
   "execution_count": null,
   "metadata": {},
   "outputs": [],
   "source": [
    "automl.describe_pipeline(automl.rankings.iloc[0][\"id\"])"
   ]
  },
  {
   "cell_type": "code",
   "execution_count": null,
   "metadata": {},
   "outputs": [],
   "source": [
    "### Evaluate on the test data"
   ]
  },
  {
   "cell_type": "code",
   "execution_count": null,
   "metadata": {},
   "outputs": [],
   "source": [
    "scores = best_pipeline.score(X_test, y_test,  objectives=evalml.objectives.get_core_objectives('binary'))\n",
    "print(f'Accuracy Binary: {scores[\"Accuracy Binary\"]}')"
   ]
  },
  {
   "cell_type": "code",
   "execution_count": null,
   "metadata": {},
   "outputs": [],
   "source": [
    "\n"
   ]
  },
  {
   "cell_type": "code",
   "execution_count": null,
   "metadata": {},
   "outputs": [],
   "source": []
  },
  {
   "cell_type": "code",
   "execution_count": null,
   "metadata": {},
   "outputs": [],
   "source": []
  }
 ],
 "metadata": {
  "kernelspec": {
   "display_name": "Python 3",
   "language": "python",
   "name": "python3"
  },
  "language_info": {
   "codemirror_mode": {
    "name": "ipython",
    "version": 3
   },
   "file_extension": ".py",
   "mimetype": "text/x-python",
   "name": "python",
   "nbconvert_exporter": "python",
   "pygments_lexer": "ipython3",
   "version": "3.8.5"
  }
 },
 "nbformat": 4,
 "nbformat_minor": 5
}
