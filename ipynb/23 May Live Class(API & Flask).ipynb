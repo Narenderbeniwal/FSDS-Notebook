{
 "cells": [
  {
   "cell_type": "markdown",
   "metadata": {},
   "source": [
    "## Application programing Interface(API)"
   ]
  },
  {
   "cell_type": "code",
   "execution_count": 1,
   "metadata": {},
   "outputs": [
    {
     "data": {
      "text/plain": [
       "'SOAP  (Simple Object Access Protocol)'"
      ]
     },
     "execution_count": 1,
     "metadata": {},
     "output_type": "execute_result"
    }
   ],
   "source": [
    "'''SOAP  (Simple Object Access Protocol)'''\n",
    "\n",
    "## REST Representational State Transfer\n",
    "\n",
    "## FLASK Micro web devlpoment Framework \"WERAZEUG\" &  \"JINGA\" internelau use these framework\n",
    "## WSGI WEB SEVER GATEWAYINTERFACE"
   ]
  },
  {
   "cell_type": "code",
   "execution_count": 2,
   "metadata": {},
   "outputs": [],
   "source": [
    "## GET & POST: Both are used for sending the data \n",
    "# GET: google query, we'll be see our data(EACH AND EVERYTHING) in the URL\n",
    "## POST: Email we will try the send in body so that peopele will not able not to see, post is the secured one method\n",
    "# In google search we use get method\n",
    "# In mail login we use the POST Method \n"
   ]
  },
  {
   "cell_type": "code",
   "execution_count": null,
   "metadata": {},
   "outputs": [],
   "source": []
  }
 ],
 "metadata": {
  "kernelspec": {
   "display_name": "Python 3",
   "language": "python",
   "name": "python3"
  },
  "language_info": {
   "codemirror_mode": {
    "name": "ipython",
    "version": 3
   },
   "file_extension": ".py",
   "mimetype": "text/x-python",
   "name": "python",
   "nbconvert_exporter": "python",
   "pygments_lexer": "ipython3",
   "version": "3.8.5"
  }
 },
 "nbformat": 4,
 "nbformat_minor": 4
}
