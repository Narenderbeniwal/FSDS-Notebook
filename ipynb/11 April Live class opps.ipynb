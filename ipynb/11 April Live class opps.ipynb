{
 "cells": [
  {
   "cell_type": "code",
   "execution_count": 5,
   "metadata": {},
   "outputs": [],
   "source": [
    " class car:    \n",
    "        pass   "
   ]
  },
  {
   "cell_type": "code",
   "execution_count": 8,
   "metadata": {},
   "outputs": [],
   "source": [
    "audiq7 = car()"
   ]
  },
  {
   "cell_type": "code",
   "execution_count": 11,
   "metadata": {},
   "outputs": [],
   "source": [
    "audiq7.milage = 10\n",
    "audiq7.year  = 2020\n",
    "audiq7.make = 234\n",
    "audiq7.model = \"afsa\""
   ]
  },
  {
   "cell_type": "code",
   "execution_count": 12,
   "metadata": {},
   "outputs": [
    {
     "data": {
      "text/plain": [
       "<__main__.car at 0x10ad00160>"
      ]
     },
     "execution_count": 12,
     "metadata": {},
     "output_type": "execute_result"
    }
   ],
   "source": [
    "audiq7"
   ]
  },
  {
   "cell_type": "code",
   "execution_count": 13,
   "metadata": {},
   "outputs": [
    {
     "data": {
      "text/plain": [
       "10"
      ]
     },
     "execution_count": 13,
     "metadata": {},
     "output_type": "execute_result"
    }
   ],
   "source": [
    "audiq7.milage"
   ]
  },
  {
   "cell_type": "code",
   "execution_count": 15,
   "metadata": {},
   "outputs": [],
   "source": [
    "nano = car()"
   ]
  },
  {
   "cell_type": "code",
   "execution_count": 18,
   "metadata": {},
   "outputs": [],
   "source": [
    "nano.milage = 20\n",
    "nano.year  = 2020\n",
    "nano.make = 2377\n",
    "nano.model = \"afdqw\"\n",
    "nano.engineno = \"43554f\""
   ]
  },
  {
   "cell_type": "code",
   "execution_count": 19,
   "metadata": {},
   "outputs": [
    {
     "name": "stdout",
     "output_type": "stream",
     "text": [
      "20 10\n"
     ]
    }
   ],
   "source": [
    "print(nano.milage, audiq7.milage)"
   ]
  },
  {
   "cell_type": "code",
   "execution_count": 20,
   "metadata": {},
   "outputs": [],
   "source": [
    "class car :\n",
    "    def __init__(self,milage,year, make, model):\n",
    "        self.milage = milage\n",
    "        self.year = year\n",
    "        self.make = make\n",
    "        self.model = model"
   ]
  },
  {
   "cell_type": "code",
   "execution_count": 27,
   "metadata": {},
   "outputs": [],
   "source": [
    "nano1 = car(20,2020,33212, \"ewwq231\")\n",
    "audiq71 = car(32,2020,43423,\"dfsf\")\n",
    "nano2 = car(20,2020,33212, \"ewwq231\")\n",
    "audiq712 = car(32,2020,43423,\"dfsf\")\n",
    "nano3 = car(20,2020,33212, \"ewwq231\")\n",
    "audiq713 = car(32,2020,43423,\"dfsf\")\n",
    "nano4 = car(20,2020,33212, \"ewwq231\")\n",
    "audiq714 = car(32,2020,43423,\"dfsf\")"
   ]
  },
  {
   "cell_type": "code",
   "execution_count": 28,
   "metadata": {},
   "outputs": [
    {
     "data": {
      "text/plain": [
       "20"
      ]
     },
     "execution_count": 28,
     "metadata": {},
     "output_type": "execute_result"
    }
   ],
   "source": [
    "nano1.milage"
   ]
  },
  {
   "cell_type": "code",
   "execution_count": 29,
   "metadata": {},
   "outputs": [
    {
     "data": {
      "text/plain": [
       "2020"
      ]
     },
     "execution_count": 29,
     "metadata": {},
     "output_type": "execute_result"
    }
   ],
   "source": [
    "audiq7.year"
   ]
  },
  {
   "cell_type": "code",
   "execution_count": 30,
   "metadata": {},
   "outputs": [
    {
     "data": {
      "text/plain": [
       "2020"
      ]
     },
     "execution_count": 30,
     "metadata": {},
     "output_type": "execute_result"
    }
   ],
   "source": [
    "audiq714.year"
   ]
  },
  {
   "cell_type": "code",
   "execution_count": 83,
   "metadata": {},
   "outputs": [],
   "source": [
    "class car :\n",
    "    def __init__(a, m,y, ma, mo):\n",
    "        a.milage = m\n",
    "        a.year = y\n",
    "        a.make = ma\n",
    "        a.model = mo\n",
    "    def age(self, current_year):\n",
    "        return current_year - self.year\n",
    "    def milage1(self):\n",
    "        print(\"Print milage of car\", self.milage)\n",
    "        #return self.milage\n",
    "    \n",
    "    def __str__(c):\n",
    "        return \"this is my car class i have created\""
   ]
  },
  {
   "cell_type": "code",
   "execution_count": 84,
   "metadata": {},
   "outputs": [
    {
     "ename": "AttributeError",
     "evalue": "'car' object has no attribute 'milage1'",
     "output_type": "error",
     "traceback": [
      "\u001b[0;31m---------------------------------------------------------------------------\u001b[0m",
      "\u001b[0;31mAttributeError\u001b[0m                            Traceback (most recent call last)",
      "\u001b[0;32m<ipython-input-84-e68eee643140>\u001b[0m in \u001b[0;36m<module>\u001b[0;34m\u001b[0m\n\u001b[0;32m----> 1\u001b[0;31m \u001b[0mnano1\u001b[0m\u001b[0;34m.\u001b[0m\u001b[0mmilage1\u001b[0m\u001b[0;34m(\u001b[0m\u001b[0;34m)\u001b[0m\u001b[0;34m\u001b[0m\u001b[0;34m\u001b[0m\u001b[0m\n\u001b[0m",
      "\u001b[0;31mAttributeError\u001b[0m: 'car' object has no attribute 'milage1'"
     ]
    }
   ],
   "source": [
    "nano1.milage1()"
   ]
  },
  {
   "cell_type": "code",
   "execution_count": 85,
   "metadata": {},
   "outputs": [],
   "source": [
    "nano1 = car(20,2020,33212, \"ewwq231\")"
   ]
  },
  {
   "cell_type": "code",
   "execution_count": null,
   "metadata": {},
   "outputs": [],
   "source": []
  },
  {
   "cell_type": "code",
   "execution_count": 86,
   "metadata": {},
   "outputs": [
    {
     "data": {
      "text/plain": [
       "20"
      ]
     },
     "execution_count": 86,
     "metadata": {},
     "output_type": "execute_result"
    }
   ],
   "source": [
    "nano1.milage"
   ]
  },
  {
   "cell_type": "code",
   "execution_count": 87,
   "metadata": {},
   "outputs": [
    {
     "ename": "TypeError",
     "evalue": "age() missing 1 required positional argument: 'current_year'",
     "output_type": "error",
     "traceback": [
      "\u001b[0;31m---------------------------------------------------------------------------\u001b[0m",
      "\u001b[0;31mTypeError\u001b[0m                                 Traceback (most recent call last)",
      "\u001b[0;32m<ipython-input-87-d9696092bb31>\u001b[0m in \u001b[0;36m<module>\u001b[0;34m\u001b[0m\n\u001b[0;32m----> 1\u001b[0;31m \u001b[0mnano1\u001b[0m\u001b[0;34m.\u001b[0m\u001b[0mage\u001b[0m\u001b[0;34m(\u001b[0m\u001b[0;34m)\u001b[0m\u001b[0;34m\u001b[0m\u001b[0;34m\u001b[0m\u001b[0m\n\u001b[0m",
      "\u001b[0;31mTypeError\u001b[0m: age() missing 1 required positional argument: 'current_year'"
     ]
    }
   ],
   "source": [
    "nano1.age()"
   ]
  },
  {
   "cell_type": "code",
   "execution_count": 88,
   "metadata": {},
   "outputs": [
    {
     "data": {
      "text/plain": [
       "1"
      ]
     },
     "execution_count": 88,
     "metadata": {},
     "output_type": "execute_result"
    }
   ],
   "source": [
    "nano1.age(2021)"
   ]
  },
  {
   "cell_type": "code",
   "execution_count": 89,
   "metadata": {},
   "outputs": [
    {
     "name": "stdout",
     "output_type": "stream",
     "text": [
      "Print milage of car 20\n"
     ]
    }
   ],
   "source": [
    "nano1.milage1()"
   ]
  },
  {
   "cell_type": "code",
   "execution_count": 90,
   "metadata": {},
   "outputs": [
    {
     "data": {
      "text/plain": [
       "<__main__.car at 0x10c5f91c0>"
      ]
     },
     "execution_count": 90,
     "metadata": {},
     "output_type": "execute_result"
    }
   ],
   "source": [
    "nano1"
   ]
  },
  {
   "cell_type": "code",
   "execution_count": 92,
   "metadata": {},
   "outputs": [
    {
     "name": "stdout",
     "output_type": "stream",
     "text": [
      "this is my car class i have created\n"
     ]
    }
   ],
   "source": [
    "print(nano1)"
   ]
  },
  {
   "cell_type": "code",
   "execution_count": 113,
   "metadata": {},
   "outputs": [],
   "source": [
    "class student :\n",
    "    \n",
    "    def __init__(self, name, rollno, joining_data, current_topic):\n",
    "            self.name = name\n",
    "            self.rollno = rollno\n",
    "            self.joining_data = joining_data\n",
    "            self.current_topic  = current_topic\n",
    "    def name_parsing(self):\n",
    "        if type(self.name) == list:\n",
    "            for i in self.name:\n",
    "                print(\"name of the student is\", i)\n",
    "        else :\n",
    "            print(\"namne of the student is not in the lis\")\n",
    "            \n",
    "    def crt_topic(self):\n",
    "        \n",
    "        print(\"Current topic dissussed in the clsss is\", self.current_topic)\n",
    "    \n",
    "    try:\n",
    "        def str_rollno(self):\n",
    "            if type(self.rollno) == str:\n",
    "                print(\"do notting\")\n",
    "            else:\n",
    "                return str(self.rollno)\n",
    "    except Exception as e :\n",
    "        print(\"This is my error msg\", e)\n",
    "                  \n",
    "    def durration(self, current_date):\n",
    "                  print(\"durration of my class is\",current_date- self.joining_data)\n",
    "    def __str__(self):\n",
    "                  return \"wow\""
   ]
  },
  {
   "cell_type": "code",
   "execution_count": 114,
   "metadata": {},
   "outputs": [],
   "source": [
    "narender = student(32,321,\"dvds\",342)"
   ]
  },
  {
   "cell_type": "code",
   "execution_count": 115,
   "metadata": {},
   "outputs": [
    {
     "data": {
      "text/plain": [
       "342"
      ]
     },
     "execution_count": 115,
     "metadata": {},
     "output_type": "execute_result"
    }
   ],
   "source": [
    "narender.current_topic"
   ]
  },
  {
   "cell_type": "code",
   "execution_count": 116,
   "metadata": {},
   "outputs": [],
   "source": [
    "# create class called as Data \n",
    "## init file name, file type"
   ]
  },
  {
   "cell_type": "code",
   "execution_count": 118,
   "metadata": {},
   "outputs": [],
   "source": [
    "#1)\n",
    "# Create a class 'Data'\n",
    "\n",
    "# Create class variable called 'filename'-list or dict or tuple or normal, 'file_type', 'date','size'\n",
    "\n",
    "# create a function 'file_open'. Responsible for try to take file name and try to create the file name if nor exist and write some data.\n",
    "\n",
    "# Create another function 'file_read'. It should take file name and suppose to read and return the data in it\n",
    "\n",
    "# Create a function 'file_append'. Insert some new data in same file and show the data\n",
    "\n",
    "\n",
    "#2)\n",
    "\n",
    "# Implememt exception handling.\n",
    "\n",
    "# Implement logger inside it. Do not call log directly . Create a separate method for that and call that function whenever you want to log something."
   ]
  },
  {
   "cell_type": "code",
   "execution_count": 129,
   "metadata": {},
   "outputs": [],
   "source": [
    "import logging as lg\n",
    "\n",
    "class data:\n",
    "    def __init__(self, file_name,file_type, data, size):\n",
    "        self.file_name = file_name\n",
    "        self.file_type = file_type\n",
    "        self.data = data\n",
    "        self.size = size\n",
    "    \n",
    "    try:\n",
    "        def fileopen(self):\n",
    "            f = open(self.file_name,'w')\n",
    "            f.write(\"This is test file\")\n",
    "            f.close()\n",
    "    except Exception as e:\n",
    "          print(\"Your code have this errror\", e)\n",
    "        \n",
    "    def fileread(self):\n",
    "        f = open(self.file_name,'r')\n",
    "        Lines = f.read()\n",
    "        f.close()\n",
    "    def file_append(self, a):\n",
    "        f = open(self.file_name,'a+')\n",
    "        f.close()\n",
    "file1 = data('file1', 'txt',32,4313)\n"
   ]
  },
  {
   "cell_type": "code",
   "execution_count": null,
   "metadata": {},
   "outputs": [],
   "source": []
  }
 ],
 "metadata": {
  "kernelspec": {
   "display_name": "Python 3",
   "language": "python",
   "name": "python3"
  },
  "language_info": {
   "codemirror_mode": {
    "name": "ipython",
    "version": 3
   },
   "file_extension": ".py",
   "mimetype": "text/x-python",
   "name": "python",
   "nbconvert_exporter": "python",
   "pygments_lexer": "ipython3",
   "version": "3.8.5"
  }
 },
 "nbformat": 4,
 "nbformat_minor": 4
}
