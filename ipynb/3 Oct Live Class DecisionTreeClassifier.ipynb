{
 "cells": [
  {
   "cell_type": "code",
   "execution_count": 1,
   "metadata": {},
   "outputs": [],
   "source": [
    "import pandas as pd\n",
    "import graphviz\n",
    "from sklearn.tree import DecisionTreeClassifier, export_graphviz\n",
    "from sklearn import tree\n",
    "from sklearn.model_selection import train_test_split,GridSearchCV\n",
    "from sklearn.preprocessing import StandardScaler\n",
    "from sklearn.metrics import accuracy_score, confusion_matrix, roc_curve, roc_auc_score\n",
    "##from sklearn.externals.six import StringIO  \n",
    "from IPython.display import Image  \n",
    "from sklearn.tree import export_graphviz\n",
    "##import pydotplus"
   ]
  },
  {
   "cell_type": "code",
   "execution_count": null,
   "metadata": {},
   "outputs": [],
   "source": []
  },
  {
   "cell_type": "code",
   "execution_count": 2,
   "metadata": {},
   "outputs": [],
   "source": [
    "df = pd.read_csv(\"/Users/ekcs011/Downloads/Decision tree/winequality_red.csv\")"
   ]
  },
  {
   "cell_type": "code",
   "execution_count": 3,
   "metadata": {},
   "outputs": [
    {
     "data": {
      "text/html": [
       "<div>\n",
       "<style scoped>\n",
       "    .dataframe tbody tr th:only-of-type {\n",
       "        vertical-align: middle;\n",
       "    }\n",
       "\n",
       "    .dataframe tbody tr th {\n",
       "        vertical-align: top;\n",
       "    }\n",
       "\n",
       "    .dataframe thead th {\n",
       "        text-align: right;\n",
       "    }\n",
       "</style>\n",
       "<table border=\"1\" class=\"dataframe\">\n",
       "  <thead>\n",
       "    <tr style=\"text-align: right;\">\n",
       "      <th></th>\n",
       "      <th>fixed acidity</th>\n",
       "      <th>volatile acidity</th>\n",
       "      <th>citric acid</th>\n",
       "      <th>residual sugar</th>\n",
       "      <th>chlorides</th>\n",
       "      <th>free sulfur dioxide</th>\n",
       "      <th>total sulfur dioxide</th>\n",
       "      <th>density</th>\n",
       "      <th>pH</th>\n",
       "      <th>sulphates</th>\n",
       "      <th>alcohol</th>\n",
       "      <th>quality</th>\n",
       "    </tr>\n",
       "  </thead>\n",
       "  <tbody>\n",
       "    <tr>\n",
       "      <th>0</th>\n",
       "      <td>7.4</td>\n",
       "      <td>0.700</td>\n",
       "      <td>0.00</td>\n",
       "      <td>1.9</td>\n",
       "      <td>0.076</td>\n",
       "      <td>11.0</td>\n",
       "      <td>34.0</td>\n",
       "      <td>0.99780</td>\n",
       "      <td>3.51</td>\n",
       "      <td>0.56</td>\n",
       "      <td>9.4</td>\n",
       "      <td>5</td>\n",
       "    </tr>\n",
       "    <tr>\n",
       "      <th>1</th>\n",
       "      <td>7.8</td>\n",
       "      <td>0.880</td>\n",
       "      <td>0.00</td>\n",
       "      <td>2.6</td>\n",
       "      <td>0.098</td>\n",
       "      <td>25.0</td>\n",
       "      <td>67.0</td>\n",
       "      <td>0.99680</td>\n",
       "      <td>3.20</td>\n",
       "      <td>0.68</td>\n",
       "      <td>9.8</td>\n",
       "      <td>5</td>\n",
       "    </tr>\n",
       "    <tr>\n",
       "      <th>2</th>\n",
       "      <td>7.8</td>\n",
       "      <td>0.760</td>\n",
       "      <td>0.04</td>\n",
       "      <td>2.3</td>\n",
       "      <td>0.092</td>\n",
       "      <td>15.0</td>\n",
       "      <td>54.0</td>\n",
       "      <td>0.99700</td>\n",
       "      <td>3.26</td>\n",
       "      <td>0.65</td>\n",
       "      <td>9.8</td>\n",
       "      <td>5</td>\n",
       "    </tr>\n",
       "    <tr>\n",
       "      <th>3</th>\n",
       "      <td>11.2</td>\n",
       "      <td>0.280</td>\n",
       "      <td>0.56</td>\n",
       "      <td>1.9</td>\n",
       "      <td>0.075</td>\n",
       "      <td>17.0</td>\n",
       "      <td>60.0</td>\n",
       "      <td>0.99800</td>\n",
       "      <td>3.16</td>\n",
       "      <td>0.58</td>\n",
       "      <td>9.8</td>\n",
       "      <td>6</td>\n",
       "    </tr>\n",
       "    <tr>\n",
       "      <th>4</th>\n",
       "      <td>7.4</td>\n",
       "      <td>0.700</td>\n",
       "      <td>0.00</td>\n",
       "      <td>1.9</td>\n",
       "      <td>0.076</td>\n",
       "      <td>11.0</td>\n",
       "      <td>34.0</td>\n",
       "      <td>0.99780</td>\n",
       "      <td>3.51</td>\n",
       "      <td>0.56</td>\n",
       "      <td>9.4</td>\n",
       "      <td>5</td>\n",
       "    </tr>\n",
       "    <tr>\n",
       "      <th>...</th>\n",
       "      <td>...</td>\n",
       "      <td>...</td>\n",
       "      <td>...</td>\n",
       "      <td>...</td>\n",
       "      <td>...</td>\n",
       "      <td>...</td>\n",
       "      <td>...</td>\n",
       "      <td>...</td>\n",
       "      <td>...</td>\n",
       "      <td>...</td>\n",
       "      <td>...</td>\n",
       "      <td>...</td>\n",
       "    </tr>\n",
       "    <tr>\n",
       "      <th>1594</th>\n",
       "      <td>6.2</td>\n",
       "      <td>0.600</td>\n",
       "      <td>0.08</td>\n",
       "      <td>2.0</td>\n",
       "      <td>0.090</td>\n",
       "      <td>32.0</td>\n",
       "      <td>44.0</td>\n",
       "      <td>0.99490</td>\n",
       "      <td>3.45</td>\n",
       "      <td>0.58</td>\n",
       "      <td>10.5</td>\n",
       "      <td>5</td>\n",
       "    </tr>\n",
       "    <tr>\n",
       "      <th>1595</th>\n",
       "      <td>5.9</td>\n",
       "      <td>0.550</td>\n",
       "      <td>0.10</td>\n",
       "      <td>2.2</td>\n",
       "      <td>0.062</td>\n",
       "      <td>39.0</td>\n",
       "      <td>51.0</td>\n",
       "      <td>0.99512</td>\n",
       "      <td>3.52</td>\n",
       "      <td>0.76</td>\n",
       "      <td>11.2</td>\n",
       "      <td>6</td>\n",
       "    </tr>\n",
       "    <tr>\n",
       "      <th>1596</th>\n",
       "      <td>6.3</td>\n",
       "      <td>0.510</td>\n",
       "      <td>0.13</td>\n",
       "      <td>2.3</td>\n",
       "      <td>0.076</td>\n",
       "      <td>29.0</td>\n",
       "      <td>40.0</td>\n",
       "      <td>0.99574</td>\n",
       "      <td>3.42</td>\n",
       "      <td>0.75</td>\n",
       "      <td>11.0</td>\n",
       "      <td>6</td>\n",
       "    </tr>\n",
       "    <tr>\n",
       "      <th>1597</th>\n",
       "      <td>5.9</td>\n",
       "      <td>0.645</td>\n",
       "      <td>0.12</td>\n",
       "      <td>2.0</td>\n",
       "      <td>0.075</td>\n",
       "      <td>32.0</td>\n",
       "      <td>44.0</td>\n",
       "      <td>0.99547</td>\n",
       "      <td>3.57</td>\n",
       "      <td>0.71</td>\n",
       "      <td>10.2</td>\n",
       "      <td>5</td>\n",
       "    </tr>\n",
       "    <tr>\n",
       "      <th>1598</th>\n",
       "      <td>6.0</td>\n",
       "      <td>0.310</td>\n",
       "      <td>0.47</td>\n",
       "      <td>3.6</td>\n",
       "      <td>0.067</td>\n",
       "      <td>18.0</td>\n",
       "      <td>42.0</td>\n",
       "      <td>0.99549</td>\n",
       "      <td>3.39</td>\n",
       "      <td>0.66</td>\n",
       "      <td>11.0</td>\n",
       "      <td>6</td>\n",
       "    </tr>\n",
       "  </tbody>\n",
       "</table>\n",
       "<p>1599 rows × 12 columns</p>\n",
       "</div>"
      ],
      "text/plain": [
       "      fixed acidity  volatile acidity  citric acid  residual sugar  chlorides  \\\n",
       "0               7.4             0.700         0.00             1.9      0.076   \n",
       "1               7.8             0.880         0.00             2.6      0.098   \n",
       "2               7.8             0.760         0.04             2.3      0.092   \n",
       "3              11.2             0.280         0.56             1.9      0.075   \n",
       "4               7.4             0.700         0.00             1.9      0.076   \n",
       "...             ...               ...          ...             ...        ...   \n",
       "1594            6.2             0.600         0.08             2.0      0.090   \n",
       "1595            5.9             0.550         0.10             2.2      0.062   \n",
       "1596            6.3             0.510         0.13             2.3      0.076   \n",
       "1597            5.9             0.645         0.12             2.0      0.075   \n",
       "1598            6.0             0.310         0.47             3.6      0.067   \n",
       "\n",
       "      free sulfur dioxide  total sulfur dioxide  density    pH  sulphates  \\\n",
       "0                    11.0                  34.0  0.99780  3.51       0.56   \n",
       "1                    25.0                  67.0  0.99680  3.20       0.68   \n",
       "2                    15.0                  54.0  0.99700  3.26       0.65   \n",
       "3                    17.0                  60.0  0.99800  3.16       0.58   \n",
       "4                    11.0                  34.0  0.99780  3.51       0.56   \n",
       "...                   ...                   ...      ...   ...        ...   \n",
       "1594                 32.0                  44.0  0.99490  3.45       0.58   \n",
       "1595                 39.0                  51.0  0.99512  3.52       0.76   \n",
       "1596                 29.0                  40.0  0.99574  3.42       0.75   \n",
       "1597                 32.0                  44.0  0.99547  3.57       0.71   \n",
       "1598                 18.0                  42.0  0.99549  3.39       0.66   \n",
       "\n",
       "      alcohol  quality  \n",
       "0         9.4        5  \n",
       "1         9.8        5  \n",
       "2         9.8        5  \n",
       "3         9.8        6  \n",
       "4         9.4        5  \n",
       "...       ...      ...  \n",
       "1594     10.5        5  \n",
       "1595     11.2        6  \n",
       "1596     11.0        6  \n",
       "1597     10.2        5  \n",
       "1598     11.0        6  \n",
       "\n",
       "[1599 rows x 12 columns]"
      ]
     },
     "execution_count": 3,
     "metadata": {},
     "output_type": "execute_result"
    }
   ],
   "source": [
    "df"
   ]
  },
  {
   "cell_type": "code",
   "execution_count": 45,
   "metadata": {},
   "outputs": [
    {
     "ename": "NameError",
     "evalue": "name 'ProfileReport' is not defined",
     "output_type": "error",
     "traceback": [
      "\u001b[0;31m---------------------------------------------------------------------------\u001b[0m",
      "\u001b[0;31mNameError\u001b[0m                                 Traceback (most recent call last)",
      "\u001b[0;32m<ipython-input-45-56de19543beb>\u001b[0m in \u001b[0;36m<module>\u001b[0;34m\u001b[0m\n\u001b[0;32m----> 1\u001b[0;31m \u001b[0mProfileReport\u001b[0m\u001b[0;34m(\u001b[0m\u001b[0mdf\u001b[0m\u001b[0;34m)\u001b[0m\u001b[0;34m\u001b[0m\u001b[0;34m\u001b[0m\u001b[0m\n\u001b[0m",
      "\u001b[0;31mNameError\u001b[0m: name 'ProfileReport' is not defined"
     ]
    }
   ],
   "source": [
    "ProfileReport(df)"
   ]
  },
  {
   "cell_type": "code",
   "execution_count": 46,
   "metadata": {},
   "outputs": [],
   "source": [
    "x=df.drop(columns=['quality'])"
   ]
  },
  {
   "cell_type": "code",
   "execution_count": 47,
   "metadata": {},
   "outputs": [],
   "source": [
    "y = df['quality']"
   ]
  },
  {
   "cell_type": "code",
   "execution_count": 48,
   "metadata": {},
   "outputs": [
    {
     "data": {
      "text/plain": [
       "[      fixed acidity  volatile acidity  citric acid  residual sugar  chlorides  \\\n",
       " 1178            5.6             0.915         0.00             2.1      0.041   \n",
       " 1189            8.8             0.955         0.05             1.8      0.075   \n",
       " 161             7.6             0.680         0.02             1.3      0.072   \n",
       " 109             8.1             0.785         0.52             2.0      0.122   \n",
       " 961             7.1             0.560         0.14             1.6      0.078   \n",
       " ...             ...               ...          ...             ...        ...   \n",
       " 919             8.4             0.620         0.12             1.8      0.072   \n",
       " 1164            9.0             0.785         0.24             1.7      0.078   \n",
       " 500             7.8             0.520         0.25             1.9      0.081   \n",
       " 941             9.9             0.270         0.49             5.0      0.082   \n",
       " 421             6.6             0.840         0.03             2.3      0.059   \n",
       " \n",
       "       free sulfur dioxide  total sulfur dioxide  density    pH  sulphates  \\\n",
       " 1178                 17.0                  78.0  0.99346  3.68       0.73   \n",
       " 1189                  5.0                  19.0  0.99616  3.30       0.44   \n",
       " 161                   9.0                  20.0  0.99650  3.17       1.08   \n",
       " 109                  37.0                 153.0  0.99690  3.21       0.69   \n",
       " 961                   7.0                  18.0  0.99592  3.27       0.62   \n",
       " ...                   ...                   ...      ...   ...        ...   \n",
       " 919                  38.0                  46.0  0.99504  3.38       0.89   \n",
       " 1164                 10.0                  21.0  0.99692  3.29       0.67   \n",
       " 500                  14.0                  38.0  0.99840  3.43       0.65   \n",
       " 941                   9.0                  17.0  0.99484  3.19       0.52   \n",
       " 421                  32.0                  48.0  0.99520  3.52       0.56   \n",
       " \n",
       "       alcohol  \n",
       " 1178     11.4  \n",
       " 1189      9.6  \n",
       " 161       9.2  \n",
       " 109       9.3  \n",
       " 961       9.3  \n",
       " ...       ...  \n",
       " 919      11.8  \n",
       " 1164     10.0  \n",
       " 500       9.0  \n",
       " 941      12.5  \n",
       " 421      12.3  \n",
       " \n",
       " [1199 rows x 11 columns],\n",
       "       fixed acidity  volatile acidity  citric acid  residual sugar  chlorides  \\\n",
       " 1147           10.0             0.410         0.45            6.20      0.071   \n",
       " 659             7.1             0.840         0.02            4.40      0.096   \n",
       " 871             6.9             0.560         0.03            1.50      0.086   \n",
       " 1333            9.1             0.775         0.22            2.20      0.079   \n",
       " 1411            6.4             0.470         0.40            2.40      0.071   \n",
       " ...             ...               ...          ...             ...        ...   \n",
       " 721             8.9             0.480         0.24            2.85      0.094   \n",
       " 490             9.3             0.775         0.27            2.80      0.078   \n",
       " 575            12.3             0.270         0.49            3.10      0.079   \n",
       " 1051            8.5             0.460         0.59            1.40      0.414   \n",
       " 1212            6.8             0.650         0.02            2.10      0.078   \n",
       " \n",
       "       free sulfur dioxide  total sulfur dioxide  density    pH  sulphates  \\\n",
       " 1147                  6.0                  14.0  0.99702  3.21       0.49   \n",
       " 659                   5.0                  13.0  0.99700  3.41       0.57   \n",
       " 871                  36.0                  46.0  0.99522  3.53       0.57   \n",
       " 1333                 12.0                  48.0  0.99760  3.18       0.51   \n",
       " 1411                  8.0                  19.0  0.99630  3.56       0.73   \n",
       " ...                   ...                   ...      ...   ...        ...   \n",
       " 721                  35.0                 106.0  0.99820  3.10       0.53   \n",
       " 490                  24.0                  56.0  0.99840  3.31       0.67   \n",
       " 575                  28.0                  46.0  0.99930  3.20       0.80   \n",
       " 1051                 16.0                  45.0  0.99702  3.03       1.34   \n",
       " 1212                  8.0                  15.0  0.99498  3.35       0.62   \n",
       " \n",
       "       alcohol  \n",
       " 1147     11.8  \n",
       " 659      11.0  \n",
       " 871      10.6  \n",
       " 1333      9.6  \n",
       " 1411     10.6  \n",
       " ...       ...  \n",
       " 721       9.2  \n",
       " 490      10.6  \n",
       " 575      10.2  \n",
       " 1051      9.2  \n",
       " 1212     10.4  \n",
       " \n",
       " [400 rows x 11 columns],\n",
       " 1178    5\n",
       " 1189    4\n",
       " 161     4\n",
       " 109     5\n",
       " 961     5\n",
       "        ..\n",
       " 919     6\n",
       " 1164    5\n",
       " 500     6\n",
       " 941     7\n",
       " 421     7\n",
       " Name: quality, Length: 1199, dtype: int64,\n",
       " 1147    7\n",
       " 659     4\n",
       " 871     5\n",
       " 1333    5\n",
       " 1411    6\n",
       "        ..\n",
       " 721     5\n",
       " 490     6\n",
       " 575     6\n",
       " 1051    5\n",
       " 1212    6\n",
       " Name: quality, Length: 400, dtype: int64]"
      ]
     },
     "execution_count": 48,
     "metadata": {},
     "output_type": "execute_result"
    }
   ],
   "source": [
    "train_test_split(x,y,test_size = .25, random_state=30)"
   ]
  },
  {
   "cell_type": "code",
   "execution_count": 49,
   "metadata": {},
   "outputs": [],
   "source": [
    "x_train,x_test,y_train,y_test = train_test_split(x,y,test_size = 0.30, random_state= 355)"
   ]
  },
  {
   "cell_type": "code",
   "execution_count": 50,
   "metadata": {},
   "outputs": [
    {
     "data": {
      "text/plain": [
       "DecisionTreeClassifier()"
      ]
     },
     "execution_count": 50,
     "metadata": {},
     "output_type": "execute_result"
    }
   ],
   "source": [
    "#let's first visualize the tree on the data without doing any pre processing\n",
    "clf = DecisionTreeClassifier()\n",
    "clf.fit(x_train,y_train)"
   ]
  },
  {
   "cell_type": "code",
   "execution_count": 51,
   "metadata": {},
   "outputs": [],
   "source": [
    "dt_model= DecisionTreeClassifier()"
   ]
  },
  {
   "cell_type": "code",
   "execution_count": 52,
   "metadata": {},
   "outputs": [
    {
     "data": {
      "text/plain": [
       "['fixed acidity',\n",
       " 'volatile acidity',\n",
       " 'citric acid',\n",
       " 'residual sugar',\n",
       " 'chlorides',\n",
       " 'free sulfur dioxide',\n",
       " 'total sulfur dioxide',\n",
       " 'density',\n",
       " 'pH',\n",
       " 'sulphates',\n",
       " 'alcohol']"
      ]
     },
     "execution_count": 52,
     "metadata": {},
     "output_type": "execute_result"
    }
   ],
   "source": [
    "feature_name=list(x.columns)\n",
    "class_name = list(y_train.unique())\n",
    "feature_name"
   ]
  },
  {
   "cell_type": "code",
   "execution_count": null,
   "metadata": {},
   "outputs": [],
   "source": []
  },
  {
   "cell_type": "code",
   "execution_count": 53,
   "metadata": {},
   "outputs": [
    {
     "data": {
      "text/plain": [
       "DecisionTreeClassifier()"
      ]
     },
     "execution_count": 53,
     "metadata": {},
     "output_type": "execute_result"
    }
   ],
   "source": [
    "dt_model.fit(x_train,y_train)"
   ]
  },
  {
   "cell_type": "code",
   "execution_count": 54,
   "metadata": {},
   "outputs": [],
   "source": [
    "df1 = df.head(500)"
   ]
  },
  {
   "cell_type": "code",
   "execution_count": 55,
   "metadata": {},
   "outputs": [],
   "source": [
    "x1 = df1.drop(columns='quality')"
   ]
  },
  {
   "cell_type": "code",
   "execution_count": 56,
   "metadata": {},
   "outputs": [],
   "source": [
    "y1 = df1.quality"
   ]
  },
  {
   "cell_type": "code",
   "execution_count": 57,
   "metadata": {},
   "outputs": [
    {
     "data": {
      "text/plain": [
       "DecisionTreeClassifier()"
      ]
     },
     "execution_count": 57,
     "metadata": {},
     "output_type": "execute_result"
    }
   ],
   "source": [
    "dt_model1= DecisionTreeClassifier()\n",
    "dt_model1.fit(x1,y1)"
   ]
  },
  {
   "cell_type": "code",
   "execution_count": null,
   "metadata": {},
   "outputs": [],
   "source": []
  },
  {
   "cell_type": "code",
   "execution_count": 58,
   "metadata": {},
   "outputs": [],
   "source": [
    "import matplotlib.pyplot as plt"
   ]
  },
  {
   "cell_type": "code",
   "execution_count": 59,
   "metadata": {},
   "outputs": [
    {
     "data": {
      "text/plain": [
       "{3, 4, 5, 6, 7, 8}"
      ]
     },
     "execution_count": 59,
     "metadata": {},
     "output_type": "execute_result"
    }
   ],
   "source": [
    "set(y1)"
   ]
  },
  {
   "cell_type": "code",
   "execution_count": 60,
   "metadata": {},
   "outputs": [
    {
     "data": {
      "text/html": [
       "<div>\n",
       "<style scoped>\n",
       "    .dataframe tbody tr th:only-of-type {\n",
       "        vertical-align: middle;\n",
       "    }\n",
       "\n",
       "    .dataframe tbody tr th {\n",
       "        vertical-align: top;\n",
       "    }\n",
       "\n",
       "    .dataframe thead th {\n",
       "        text-align: right;\n",
       "    }\n",
       "</style>\n",
       "<table border=\"1\" class=\"dataframe\">\n",
       "  <thead>\n",
       "    <tr style=\"text-align: right;\">\n",
       "      <th></th>\n",
       "      <th>fixed acidity</th>\n",
       "      <th>volatile acidity</th>\n",
       "      <th>citric acid</th>\n",
       "      <th>residual sugar</th>\n",
       "      <th>chlorides</th>\n",
       "      <th>free sulfur dioxide</th>\n",
       "      <th>total sulfur dioxide</th>\n",
       "      <th>density</th>\n",
       "      <th>pH</th>\n",
       "      <th>sulphates</th>\n",
       "      <th>alcohol</th>\n",
       "      <th>quality</th>\n",
       "    </tr>\n",
       "  </thead>\n",
       "  <tbody>\n",
       "    <tr>\n",
       "      <th>0</th>\n",
       "      <td>7.4</td>\n",
       "      <td>0.70</td>\n",
       "      <td>0.00</td>\n",
       "      <td>1.9</td>\n",
       "      <td>0.076</td>\n",
       "      <td>11.0</td>\n",
       "      <td>34.0</td>\n",
       "      <td>0.9978</td>\n",
       "      <td>3.51</td>\n",
       "      <td>0.56</td>\n",
       "      <td>9.4</td>\n",
       "      <td>5</td>\n",
       "    </tr>\n",
       "    <tr>\n",
       "      <th>1</th>\n",
       "      <td>7.8</td>\n",
       "      <td>0.88</td>\n",
       "      <td>0.00</td>\n",
       "      <td>2.6</td>\n",
       "      <td>0.098</td>\n",
       "      <td>25.0</td>\n",
       "      <td>67.0</td>\n",
       "      <td>0.9968</td>\n",
       "      <td>3.20</td>\n",
       "      <td>0.68</td>\n",
       "      <td>9.8</td>\n",
       "      <td>5</td>\n",
       "    </tr>\n",
       "    <tr>\n",
       "      <th>2</th>\n",
       "      <td>7.8</td>\n",
       "      <td>0.76</td>\n",
       "      <td>0.04</td>\n",
       "      <td>2.3</td>\n",
       "      <td>0.092</td>\n",
       "      <td>15.0</td>\n",
       "      <td>54.0</td>\n",
       "      <td>0.9970</td>\n",
       "      <td>3.26</td>\n",
       "      <td>0.65</td>\n",
       "      <td>9.8</td>\n",
       "      <td>5</td>\n",
       "    </tr>\n",
       "    <tr>\n",
       "      <th>3</th>\n",
       "      <td>11.2</td>\n",
       "      <td>0.28</td>\n",
       "      <td>0.56</td>\n",
       "      <td>1.9</td>\n",
       "      <td>0.075</td>\n",
       "      <td>17.0</td>\n",
       "      <td>60.0</td>\n",
       "      <td>0.9980</td>\n",
       "      <td>3.16</td>\n",
       "      <td>0.58</td>\n",
       "      <td>9.8</td>\n",
       "      <td>6</td>\n",
       "    </tr>\n",
       "    <tr>\n",
       "      <th>4</th>\n",
       "      <td>7.4</td>\n",
       "      <td>0.70</td>\n",
       "      <td>0.00</td>\n",
       "      <td>1.9</td>\n",
       "      <td>0.076</td>\n",
       "      <td>11.0</td>\n",
       "      <td>34.0</td>\n",
       "      <td>0.9978</td>\n",
       "      <td>3.51</td>\n",
       "      <td>0.56</td>\n",
       "      <td>9.4</td>\n",
       "      <td>5</td>\n",
       "    </tr>\n",
       "    <tr>\n",
       "      <th>...</th>\n",
       "      <td>...</td>\n",
       "      <td>...</td>\n",
       "      <td>...</td>\n",
       "      <td>...</td>\n",
       "      <td>...</td>\n",
       "      <td>...</td>\n",
       "      <td>...</td>\n",
       "      <td>...</td>\n",
       "      <td>...</td>\n",
       "      <td>...</td>\n",
       "      <td>...</td>\n",
       "      <td>...</td>\n",
       "    </tr>\n",
       "    <tr>\n",
       "      <th>495</th>\n",
       "      <td>10.7</td>\n",
       "      <td>0.35</td>\n",
       "      <td>0.53</td>\n",
       "      <td>2.6</td>\n",
       "      <td>0.070</td>\n",
       "      <td>5.0</td>\n",
       "      <td>16.0</td>\n",
       "      <td>0.9972</td>\n",
       "      <td>3.15</td>\n",
       "      <td>0.65</td>\n",
       "      <td>11.0</td>\n",
       "      <td>8</td>\n",
       "    </tr>\n",
       "    <tr>\n",
       "      <th>496</th>\n",
       "      <td>7.8</td>\n",
       "      <td>0.52</td>\n",
       "      <td>0.25</td>\n",
       "      <td>1.9</td>\n",
       "      <td>0.081</td>\n",
       "      <td>14.0</td>\n",
       "      <td>38.0</td>\n",
       "      <td>0.9984</td>\n",
       "      <td>3.43</td>\n",
       "      <td>0.65</td>\n",
       "      <td>9.0</td>\n",
       "      <td>6</td>\n",
       "    </tr>\n",
       "    <tr>\n",
       "      <th>497</th>\n",
       "      <td>7.2</td>\n",
       "      <td>0.34</td>\n",
       "      <td>0.32</td>\n",
       "      <td>2.5</td>\n",
       "      <td>0.090</td>\n",
       "      <td>43.0</td>\n",
       "      <td>113.0</td>\n",
       "      <td>0.9966</td>\n",
       "      <td>3.32</td>\n",
       "      <td>0.79</td>\n",
       "      <td>11.1</td>\n",
       "      <td>5</td>\n",
       "    </tr>\n",
       "    <tr>\n",
       "      <th>498</th>\n",
       "      <td>10.7</td>\n",
       "      <td>0.35</td>\n",
       "      <td>0.53</td>\n",
       "      <td>2.6</td>\n",
       "      <td>0.070</td>\n",
       "      <td>5.0</td>\n",
       "      <td>16.0</td>\n",
       "      <td>0.9972</td>\n",
       "      <td>3.15</td>\n",
       "      <td>0.65</td>\n",
       "      <td>11.0</td>\n",
       "      <td>8</td>\n",
       "    </tr>\n",
       "    <tr>\n",
       "      <th>499</th>\n",
       "      <td>8.7</td>\n",
       "      <td>0.69</td>\n",
       "      <td>0.31</td>\n",
       "      <td>3.0</td>\n",
       "      <td>0.086</td>\n",
       "      <td>23.0</td>\n",
       "      <td>81.0</td>\n",
       "      <td>1.0002</td>\n",
       "      <td>3.48</td>\n",
       "      <td>0.74</td>\n",
       "      <td>11.6</td>\n",
       "      <td>6</td>\n",
       "    </tr>\n",
       "  </tbody>\n",
       "</table>\n",
       "<p>500 rows × 12 columns</p>\n",
       "</div>"
      ],
      "text/plain": [
       "     fixed acidity  volatile acidity  citric acid  residual sugar  chlorides  \\\n",
       "0              7.4              0.70         0.00             1.9      0.076   \n",
       "1              7.8              0.88         0.00             2.6      0.098   \n",
       "2              7.8              0.76         0.04             2.3      0.092   \n",
       "3             11.2              0.28         0.56             1.9      0.075   \n",
       "4              7.4              0.70         0.00             1.9      0.076   \n",
       "..             ...               ...          ...             ...        ...   \n",
       "495           10.7              0.35         0.53             2.6      0.070   \n",
       "496            7.8              0.52         0.25             1.9      0.081   \n",
       "497            7.2              0.34         0.32             2.5      0.090   \n",
       "498           10.7              0.35         0.53             2.6      0.070   \n",
       "499            8.7              0.69         0.31             3.0      0.086   \n",
       "\n",
       "     free sulfur dioxide  total sulfur dioxide  density    pH  sulphates  \\\n",
       "0                   11.0                  34.0   0.9978  3.51       0.56   \n",
       "1                   25.0                  67.0   0.9968  3.20       0.68   \n",
       "2                   15.0                  54.0   0.9970  3.26       0.65   \n",
       "3                   17.0                  60.0   0.9980  3.16       0.58   \n",
       "4                   11.0                  34.0   0.9978  3.51       0.56   \n",
       "..                   ...                   ...      ...   ...        ...   \n",
       "495                  5.0                  16.0   0.9972  3.15       0.65   \n",
       "496                 14.0                  38.0   0.9984  3.43       0.65   \n",
       "497                 43.0                 113.0   0.9966  3.32       0.79   \n",
       "498                  5.0                  16.0   0.9972  3.15       0.65   \n",
       "499                 23.0                  81.0   1.0002  3.48       0.74   \n",
       "\n",
       "     alcohol  quality  \n",
       "0        9.4        5  \n",
       "1        9.8        5  \n",
       "2        9.8        5  \n",
       "3        9.8        6  \n",
       "4        9.4        5  \n",
       "..       ...      ...  \n",
       "495     11.0        8  \n",
       "496      9.0        6  \n",
       "497     11.1        5  \n",
       "498     11.0        8  \n",
       "499     11.6        6  \n",
       "\n",
       "[500 rows x 12 columns]"
      ]
     },
     "execution_count": 60,
     "metadata": {},
     "output_type": "execute_result"
    }
   ],
   "source": [
    "df1"
   ]
  },
  {
   "cell_type": "code",
   "execution_count": null,
   "metadata": {},
   "outputs": [],
   "source": [
    "\n",
    "           \n"
   ]
  },
  {
   "cell_type": "code",
   "execution_count": 61,
   "metadata": {},
   "outputs": [
    {
     "data": {
      "text/plain": [
       "[Text(491.1031192870201, 1057.0, 'X[10] <= 9.85\\ngini = 0.624\\nsamples = 500\\nvalue = [1, 16, 239, 184, 52, 8]'),\n",
       " Text(305.3953382084095, 996.6, 'X[6] <= 62.5\\ngini = 0.504\\nsamples = 259\\nvalue = [1, 12, 167, 72, 6, 1]'),\n",
       " Text(192.54570383912247, 936.2, 'X[2] <= 0.415\\ngini = 0.576\\nsamples = 169\\nvalue = [1, 9, 91, 61, 6, 1]'),\n",
       " Text(91.2998171846435, 875.8, 'X[10] <= 9.05\\ngini = 0.525\\nsamples = 131\\nvalue = [0, 8, 81, 39, 3, 0]'),\n",
       " Text(32.643510054844604, 815.4000000000001, 'X[9] <= 0.54\\ngini = 0.403\\nsamples = 12\\nvalue = [0, 2, 1, 9, 0, 0]'),\n",
       " Text(24.482632541133455, 755.0, 'X[9] <= 0.515\\ngini = 0.444\\nsamples = 3\\nvalue = [0, 2, 1, 0, 0, 0]'),\n",
       " Text(16.321755027422302, 694.6, 'gini = 0.0\\nsamples = 2\\nvalue = [0, 2, 0, 0, 0, 0]'),\n",
       " Text(32.643510054844604, 694.6, 'gini = 0.0\\nsamples = 1\\nvalue = [0, 0, 1, 0, 0, 0]'),\n",
       " Text(40.804387568555754, 755.0, 'gini = 0.0\\nsamples = 9\\nvalue = [0, 0, 0, 9, 0, 0]'),\n",
       " Text(149.9561243144424, 815.4000000000001, 'X[7] <= 0.999\\ngini = 0.481\\nsamples = 119\\nvalue = [0, 6, 80, 30, 3, 0]'),\n",
       " Text(95.89031078610603, 755.0, 'X[8] <= 3.285\\ngini = 0.443\\nsamples = 108\\nvalue = [0, 5, 77, 23, 3, 0]'),\n",
       " Text(48.96526508226691, 694.6, 'X[3] <= 2.75\\ngini = 0.216\\nsamples = 34\\nvalue = [0, 2, 30, 1, 1, 0]'),\n",
       " Text(40.804387568555754, 634.2, 'X[10] <= 9.65\\ngini = 0.171\\nsamples = 33\\nvalue = [0, 1, 30, 1, 1, 0]'),\n",
       " Text(24.482632541133455, 573.8, 'X[2] <= 0.025\\ngini = 0.074\\nsamples = 26\\nvalue = [0, 1, 25, 0, 0, 0]'),\n",
       " Text(16.321755027422302, 513.4, 'X[2] <= 0.01\\ngini = 0.5\\nsamples = 2\\nvalue = [0, 1, 1, 0, 0, 0]'),\n",
       " Text(8.160877513711151, 453.0, 'gini = 0.0\\nsamples = 1\\nvalue = [0, 0, 1, 0, 0, 0]'),\n",
       " Text(24.482632541133455, 453.0, 'gini = 0.0\\nsamples = 1\\nvalue = [0, 1, 0, 0, 0, 0]'),\n",
       " Text(32.643510054844604, 513.4, 'gini = 0.0\\nsamples = 24\\nvalue = [0, 0, 24, 0, 0, 0]'),\n",
       " Text(57.12614259597806, 573.8, 'X[9] <= 0.705\\ngini = 0.449\\nsamples = 7\\nvalue = [0, 0, 5, 1, 1, 0]'),\n",
       " Text(48.96526508226691, 513.4, 'gini = 0.0\\nsamples = 5\\nvalue = [0, 0, 5, 0, 0, 0]'),\n",
       " Text(65.28702010968921, 513.4, 'X[7] <= 0.997\\ngini = 0.5\\nsamples = 2\\nvalue = [0, 0, 0, 1, 1, 0]'),\n",
       " Text(57.12614259597806, 453.0, 'gini = 0.0\\nsamples = 1\\nvalue = [0, 0, 0, 0, 1, 0]'),\n",
       " Text(73.44789762340037, 453.0, 'gini = 0.0\\nsamples = 1\\nvalue = [0, 0, 0, 1, 0, 0]'),\n",
       " Text(57.12614259597806, 634.2, 'gini = 0.0\\nsamples = 1\\nvalue = [0, 1, 0, 0, 0, 0]'),\n",
       " Text(142.81535648994515, 694.6, 'X[1] <= 0.665\\ngini = 0.506\\nsamples = 74\\nvalue = [0, 3, 47, 22, 2, 0]'),\n",
       " Text(122.41316270566726, 634.2, 'X[7] <= 0.996\\ngini = 0.53\\nsamples = 52\\nvalue = [0, 0, 28, 22, 2, 0]'),\n",
       " Text(106.09140767824496, 573.8, 'X[2] <= 0.06\\ngini = 0.291\\nsamples = 17\\nvalue = [0, 0, 14, 3, 0, 0]'),\n",
       " Text(97.93053016453382, 513.4, 'X[0] <= 6.7\\ngini = 0.48\\nsamples = 5\\nvalue = [0, 0, 2, 3, 0, 0]'),\n",
       " Text(89.76965265082266, 453.0, 'gini = 0.0\\nsamples = 3\\nvalue = [0, 0, 0, 3, 0, 0]'),\n",
       " Text(106.09140767824496, 453.0, 'gini = 0.0\\nsamples = 2\\nvalue = [0, 0, 2, 0, 0, 0]'),\n",
       " Text(114.25228519195612, 513.4, 'gini = 0.0\\nsamples = 12\\nvalue = [0, 0, 12, 0, 0, 0]'),\n",
       " Text(138.73491773308956, 573.8, 'X[4] <= 0.087\\ngini = 0.542\\nsamples = 35\\nvalue = [0, 0, 14, 19, 2, 0]'),\n",
       " Text(130.57404021937842, 513.4, 'X[9] <= 0.635\\ngini = 0.561\\nsamples = 29\\nvalue = [0, 0, 14, 13, 2, 0]'),\n",
       " Text(122.41316270566726, 453.0, 'X[1] <= 0.47\\ngini = 0.541\\nsamples = 22\\nvalue = [0, 0, 7, 13, 2, 0]'),\n",
       " Text(114.25228519195612, 392.6, 'gini = 0.0\\nsamples = 7\\nvalue = [0, 0, 0, 7, 0, 0]'),\n",
       " Text(130.57404021937842, 392.6, 'X[3] <= 2.1\\ngini = 0.604\\nsamples = 15\\nvalue = [0, 0, 7, 6, 2, 0]'),\n",
       " Text(122.41316270566726, 332.19999999999993, 'X[3] <= 1.85\\ngini = 0.595\\nsamples = 11\\nvalue = [0, 0, 3, 6, 2, 0]'),\n",
       " Text(106.09140767824496, 271.79999999999995, 'X[7] <= 0.996\\ngini = 0.375\\nsamples = 4\\nvalue = [0, 0, 3, 1, 0, 0]'),\n",
       " Text(97.93053016453382, 211.39999999999998, 'gini = 0.0\\nsamples = 1\\nvalue = [0, 0, 0, 1, 0, 0]'),\n",
       " Text(114.25228519195612, 211.39999999999998, 'gini = 0.0\\nsamples = 3\\nvalue = [0, 0, 3, 0, 0, 0]'),\n",
       " Text(138.73491773308956, 271.79999999999995, 'X[1] <= 0.6\\ngini = 0.408\\nsamples = 7\\nvalue = [0, 0, 0, 5, 2, 0]'),\n",
       " Text(130.57404021937842, 211.39999999999998, 'X[5] <= 8.0\\ngini = 0.444\\nsamples = 3\\nvalue = [0, 0, 0, 1, 2, 0]'),\n",
       " Text(122.41316270566726, 151.0, 'gini = 0.0\\nsamples = 1\\nvalue = [0, 0, 0, 1, 0, 0]'),\n",
       " Text(138.73491773308956, 151.0, 'gini = 0.0\\nsamples = 2\\nvalue = [0, 0, 0, 0, 2, 0]'),\n",
       " Text(146.89579524680073, 211.39999999999998, 'gini = 0.0\\nsamples = 4\\nvalue = [0, 0, 0, 4, 0, 0]'),\n",
       " Text(138.73491773308956, 332.19999999999993, 'gini = 0.0\\nsamples = 4\\nvalue = [0, 0, 4, 0, 0, 0]'),\n",
       " Text(138.73491773308956, 453.0, 'gini = 0.0\\nsamples = 7\\nvalue = [0, 0, 7, 0, 0, 0]'),\n",
       " Text(146.89579524680073, 513.4, 'gini = 0.0\\nsamples = 6\\nvalue = [0, 0, 0, 6, 0, 0]'),\n",
       " Text(163.21755027422302, 634.2, 'X[9] <= 0.485\\ngini = 0.236\\nsamples = 22\\nvalue = [0, 3, 19, 0, 0, 0]'),\n",
       " Text(155.05667276051187, 573.8, 'gini = 0.0\\nsamples = 2\\nvalue = [0, 2, 0, 0, 0, 0]'),\n",
       " Text(171.37842778793419, 573.8, 'X[2] <= 0.24\\ngini = 0.095\\nsamples = 20\\nvalue = [0, 1, 19, 0, 0, 0]'),\n",
       " Text(163.21755027422302, 513.4, 'gini = 0.0\\nsamples = 19\\nvalue = [0, 0, 19, 0, 0, 0]'),\n",
       " Text(179.53930530164533, 513.4, 'gini = 0.0\\nsamples = 1\\nvalue = [0, 1, 0, 0, 0, 0]'),\n",
       " Text(204.02193784277878, 755.0, 'X[10] <= 9.65\\ngini = 0.512\\nsamples = 11\\nvalue = [0, 1, 3, 7, 0, 0]'),\n",
       " Text(187.70018281535647, 694.6, 'X[4] <= 0.07\\ngini = 0.219\\nsamples = 8\\nvalue = [0, 0, 1, 7, 0, 0]'),\n",
       " Text(179.53930530164533, 634.2, 'gini = 0.0\\nsamples = 1\\nvalue = [0, 0, 1, 0, 0, 0]'),\n",
       " Text(195.86106032906764, 634.2, 'gini = 0.0\\nsamples = 7\\nvalue = [0, 0, 0, 7, 0, 0]'),\n",
       " Text(220.34369287020107, 694.6, 'X[5] <= 18.0\\ngini = 0.444\\nsamples = 3\\nvalue = [0, 1, 2, 0, 0, 0]'),\n",
       " Text(212.18281535648993, 634.2, 'gini = 0.0\\nsamples = 2\\nvalue = [0, 0, 2, 0, 0, 0]'),\n",
       " Text(228.50457038391224, 634.2, 'gini = 0.0\\nsamples = 1\\nvalue = [0, 1, 0, 0, 0, 0]'),\n",
       " Text(293.79159049360146, 875.8, 'X[2] <= 0.565\\ngini = 0.587\\nsamples = 38\\nvalue = [1, 1, 10, 22, 3, 1]'),\n",
       " Text(261.14808043875684, 815.4000000000001, 'X[0] <= 12.35\\ngini = 0.438\\nsamples = 26\\nvalue = [0, 1, 3, 19, 3, 0]'),\n",
       " Text(244.82632541133452, 755.0, 'X[9] <= 0.52\\ngini = 0.245\\nsamples = 21\\nvalue = [0, 0, 3, 18, 0, 0]'),\n",
       " Text(236.66544789762338, 694.6, 'gini = 0.0\\nsamples = 1\\nvalue = [0, 0, 1, 0, 0, 0]'),\n",
       " Text(252.9872029250457, 694.6, 'X[3] <= 1.65\\ngini = 0.18\\nsamples = 20\\nvalue = [0, 0, 2, 18, 0, 0]'),\n",
       " Text(244.82632541133452, 634.2, 'gini = 0.0\\nsamples = 1\\nvalue = [0, 0, 1, 0, 0, 0]'),\n",
       " Text(261.14808043875684, 634.2, 'X[7] <= 1.0\\ngini = 0.1\\nsamples = 19\\nvalue = [0, 0, 1, 18, 0, 0]'),\n",
       " Text(252.9872029250457, 573.8, 'gini = 0.0\\nsamples = 18\\nvalue = [0, 0, 0, 18, 0, 0]'),\n",
       " Text(269.308957952468, 573.8, 'gini = 0.0\\nsamples = 1\\nvalue = [0, 0, 1, 0, 0, 0]'),\n",
       " Text(277.4698354661791, 755.0, 'X[1] <= 0.31\\ngini = 0.56\\nsamples = 5\\nvalue = [0, 1, 0, 1, 3, 0]'),\n",
       " Text(269.308957952468, 694.6, 'gini = 0.0\\nsamples = 3\\nvalue = [0, 0, 0, 0, 3, 0]'),\n",
       " Text(285.6307129798903, 694.6, 'X[7] <= 1.0\\ngini = 0.5\\nsamples = 2\\nvalue = [0, 1, 0, 1, 0, 0]'),\n",
       " Text(277.4698354661791, 634.2, 'gini = 0.0\\nsamples = 1\\nvalue = [0, 1, 0, 0, 0, 0]'),\n",
       " Text(293.79159049360146, 634.2, 'gini = 0.0\\nsamples = 1\\nvalue = [0, 0, 0, 1, 0, 0]'),\n",
       " Text(326.43510054844603, 815.4000000000001, 'X[8] <= 3.165\\ngini = 0.583\\nsamples = 12\\nvalue = [1, 0, 7, 3, 0, 1]'),\n",
       " Text(310.11334552102375, 755.0, 'X[0] <= 12.45\\ngini = 0.37\\nsamples = 9\\nvalue = [0, 0, 7, 1, 0, 1]'),\n",
       " Text(301.9524680073126, 694.6, 'gini = 0.0\\nsamples = 7\\nvalue = [0, 0, 7, 0, 0, 0]'),\n",
       " Text(318.2742230347349, 694.6, 'X[3] <= 2.4\\ngini = 0.5\\nsamples = 2\\nvalue = [0, 0, 0, 1, 0, 1]'),\n",
       " Text(310.11334552102375, 634.2, 'gini = 0.0\\nsamples = 1\\nvalue = [0, 0, 0, 0, 0, 1]'),\n",
       " Text(326.43510054844603, 634.2, 'gini = 0.0\\nsamples = 1\\nvalue = [0, 0, 0, 1, 0, 0]'),\n",
       " Text(342.75685557586837, 755.0, 'X[9] <= 0.595\\ngini = 0.444\\nsamples = 3\\nvalue = [1, 0, 0, 2, 0, 0]'),\n",
       " Text(334.5959780621572, 694.6, 'gini = 0.0\\nsamples = 1\\nvalue = [1, 0, 0, 0, 0, 0]'),\n",
       " Text(350.9177330895795, 694.6, 'gini = 0.0\\nsamples = 2\\nvalue = [0, 0, 0, 2, 0, 0]'),\n",
       " Text(418.2449725776965, 936.2, 'X[9] <= 1.99\\ngini = 0.271\\nsamples = 90\\nvalue = [0, 3, 76, 11, 0, 0]'),\n",
       " Text(410.08409506398533, 875.8, 'X[8] <= 3.335\\ngini = 0.255\\nsamples = 89\\nvalue = [0, 2, 76, 11, 0, 0]'),\n",
       " Text(375.40036563071294, 815.4000000000001, 'X[4] <= 0.067\\ngini = 0.176\\nsamples = 73\\nvalue = [0, 1, 66, 6, 0, 0]'),\n",
       " Text(367.2394881170018, 755.0, 'gini = 0.0\\nsamples = 1\\nvalue = [0, 0, 0, 1, 0, 0]'),\n",
       " Text(383.5612431444241, 755.0, 'X[3] <= 1.55\\ngini = 0.155\\nsamples = 72\\nvalue = [0, 1, 66, 5, 0, 0]'),\n",
       " Text(367.2394881170018, 694.6, 'X[7] <= 0.996\\ngini = 0.5\\nsamples = 2\\nvalue = [0, 1, 1, 0, 0, 0]'),\n",
       " Text(359.07861060329066, 634.2, 'gini = 0.0\\nsamples = 1\\nvalue = [0, 0, 1, 0, 0, 0]'),\n",
       " Text(375.40036563071294, 634.2, 'gini = 0.0\\nsamples = 1\\nvalue = [0, 1, 0, 0, 0, 0]'),\n",
       " Text(399.8829981718464, 694.6, 'X[7] <= 0.996\\ngini = 0.133\\nsamples = 70\\nvalue = [0, 0, 65, 5, 0, 0]'),\n",
       " Text(391.7221206581353, 634.2, 'gini = 0.0\\nsamples = 1\\nvalue = [0, 0, 0, 1, 0, 0]'),\n",
       " Text(408.04387568555757, 634.2, 'X[9] <= 1.6\\ngini = 0.109\\nsamples = 69\\nvalue = [0, 0, 65, 4, 0, 0]'),\n",
       " Text(391.7221206581353, 573.8, 'X[8] <= 3.265\\ngini = 0.086\\nsamples = 67\\nvalue = [0, 0, 64, 3, 0, 0]'),\n",
       " Text(383.5612431444241, 513.4, 'gini = 0.0\\nsamples = 46\\nvalue = [0, 0, 46, 0, 0, 0]'),\n",
       " Text(399.8829981718464, 513.4, 'X[0] <= 10.1\\ngini = 0.245\\nsamples = 21\\nvalue = [0, 0, 18, 3, 0, 0]'),\n",
       " Text(391.7221206581353, 453.0, 'X[1] <= 0.545\\ngini = 0.18\\nsamples = 20\\nvalue = [0, 0, 18, 2, 0, 0]'),\n",
       " Text(383.5612431444241, 392.6, 'X[5] <= 21.5\\ngini = 0.48\\nsamples = 5\\nvalue = [0, 0, 3, 2, 0, 0]'),\n",
       " Text(375.40036563071294, 332.19999999999993, 'gini = 0.0\\nsamples = 2\\nvalue = [0, 0, 0, 2, 0, 0]'),\n",
       " Text(391.7221206581353, 332.19999999999993, 'gini = 0.0\\nsamples = 3\\nvalue = [0, 0, 3, 0, 0, 0]'),\n",
       " Text(399.8829981718464, 392.6, 'gini = 0.0\\nsamples = 15\\nvalue = [0, 0, 15, 0, 0, 0]'),\n",
       " Text(408.04387568555757, 453.0, 'gini = 0.0\\nsamples = 1\\nvalue = [0, 0, 0, 1, 0, 0]'),\n",
       " Text(424.36563071297985, 573.8, 'X[9] <= 1.795\\ngini = 0.5\\nsamples = 2\\nvalue = [0, 0, 1, 1, 0, 0]'),\n",
       " Text(416.2047531992687, 513.4, 'gini = 0.0\\nsamples = 1\\nvalue = [0, 0, 0, 1, 0, 0]'),\n",
       " Text(432.526508226691, 513.4, 'gini = 0.0\\nsamples = 1\\nvalue = [0, 0, 1, 0, 0, 0]'),\n",
       " Text(444.7678244972577, 815.4000000000001, 'X[2] <= 0.145\\ngini = 0.508\\nsamples = 16\\nvalue = [0, 1, 10, 5, 0, 0]'),\n",
       " Text(424.36563071297985, 755.0, 'X[7] <= 0.996\\ngini = 0.444\\nsamples = 3\\nvalue = [0, 1, 0, 2, 0, 0]'),\n",
       " Text(416.2047531992687, 694.6, 'gini = 0.0\\nsamples = 1\\nvalue = [0, 1, 0, 0, 0, 0]'),\n",
       " Text(432.526508226691, 694.6, 'gini = 0.0\\nsamples = 2\\nvalue = [0, 0, 0, 2, 0, 0]'),\n",
       " Text(465.1700182815356, 755.0, 'X[0] <= 7.9\\ngini = 0.355\\nsamples = 13\\nvalue = [0, 0, 10, 3, 0, 0]'),\n",
       " Text(448.8482632541133, 694.6, 'X[8] <= 3.565\\ngini = 0.18\\nsamples = 10\\nvalue = [0, 0, 9, 1, 0, 0]'),\n",
       " Text(440.68738574040214, 634.2, 'gini = 0.0\\nsamples = 9\\nvalue = [0, 0, 9, 0, 0, 0]'),\n",
       " Text(457.0091407678245, 634.2, 'gini = 0.0\\nsamples = 1\\nvalue = [0, 0, 0, 1, 0, 0]'),\n",
       " Text(481.49177330895793, 694.6, 'X[3] <= 2.45\\ngini = 0.444\\nsamples = 3\\nvalue = [0, 0, 1, 2, 0, 0]'),\n",
       " Text(473.33089579524676, 634.2, 'gini = 0.0\\nsamples = 1\\nvalue = [0, 0, 1, 0, 0, 0]'),\n",
       " Text(489.65265082266905, 634.2, 'gini = 0.0\\nsamples = 2\\nvalue = [0, 0, 0, 2, 0, 0]'),\n",
       " Text(426.4058500914077, 875.8, 'gini = 0.0\\nsamples = 1\\nvalue = [0, 1, 0, 0, 0, 0]'),\n",
       " Text(676.8109003656307, 996.6, 'X[9] <= 0.545\\ngini = 0.657\\nsamples = 241\\nvalue = [0, 4, 72, 112, 46, 7]'),\n",
       " Text(514.1352833638025, 936.2, 'X[4] <= 0.08\\ngini = 0.408\\nsamples = 32\\nvalue = [0, 2, 24, 5, 1, 0]'),\n",
       " Text(505.9744058500914, 875.8, 'X[7] <= 0.995\\ngini = 0.675\\nsamples = 13\\nvalue = [0, 2, 5, 5, 1, 0]'),\n",
       " Text(489.65265082266905, 815.4000000000001, 'X[0] <= 7.1\\ngini = 0.444\\nsamples = 3\\nvalue = [0, 2, 0, 0, 1, 0]'),\n",
       " Text(481.49177330895793, 755.0, 'gini = 0.0\\nsamples = 2\\nvalue = [0, 2, 0, 0, 0, 0]'),\n",
       " Text(497.8135283363802, 755.0, 'gini = 0.0\\nsamples = 1\\nvalue = [0, 0, 0, 0, 1, 0]'),\n",
       " Text(522.2961608775137, 815.4000000000001, 'X[3] <= 1.85\\ngini = 0.5\\nsamples = 10\\nvalue = [0, 0, 5, 5, 0, 0]'),\n",
       " Text(514.1352833638025, 755.0, 'gini = 0.0\\nsamples = 3\\nvalue = [0, 0, 0, 3, 0, 0]'),\n",
       " Text(530.4570383912248, 755.0, 'X[9] <= 0.48\\ngini = 0.408\\nsamples = 7\\nvalue = [0, 0, 5, 2, 0, 0]'),\n",
       " Text(522.2961608775137, 694.6, 'gini = 0.0\\nsamples = 5\\nvalue = [0, 0, 5, 0, 0, 0]'),\n",
       " Text(538.617915904936, 694.6, 'gini = 0.0\\nsamples = 2\\nvalue = [0, 0, 0, 2, 0, 0]'),\n",
       " Text(522.2961608775137, 875.8, 'gini = 0.0\\nsamples = 19\\nvalue = [0, 0, 19, 0, 0, 0]'),\n",
       " Text(839.4865173674588, 936.2, 'X[9] <= 0.705\\ngini = 0.638\\nsamples = 209\\nvalue = [0, 2, 48, 107, 45, 7]'),\n",
       " Text(675.6951553930529, 875.8, 'X[7] <= 1.0\\ngini = 0.53\\nsamples = 100\\nvalue = [0, 2, 23, 64, 8, 3]'),\n",
       " Text(667.5342778793419, 815.4000000000001, 'X[8] <= 3.485\\ngini = 0.513\\nsamples = 98\\nvalue = [0, 2, 23, 64, 6, 3]'),\n",
       " Text(586.3080438756855, 755.0, 'X[8] <= 3.055\\ngini = 0.45\\nsamples = 83\\nvalue = [0, 1, 17, 59, 3, 3]'),\n",
       " Text(554.9396709323582, 694.6, 'X[6] <= 24.5\\ngini = 0.375\\nsamples = 4\\nvalue = [0, 0, 3, 1, 0, 0]'),\n",
       " Text(546.7787934186471, 634.2, 'gini = 0.0\\nsamples = 1\\nvalue = [0, 0, 0, 1, 0, 0]'),\n",
       " Text(563.1005484460694, 634.2, 'gini = 0.0\\nsamples = 3\\nvalue = [0, 0, 3, 0, 0, 0]'),\n",
       " Text(617.6764168190127, 694.6, 'X[5] <= 5.5\\ngini = 0.427\\nsamples = 79\\nvalue = [0, 1, 14, 58, 3, 3]'),\n",
       " Text(579.4223034734918, 634.2, 'X[6] <= 19.0\\ngini = 0.656\\nsamples = 8\\nvalue = [0, 0, 3, 3, 0, 2]'),\n",
       " Text(571.2614259597806, 573.8, 'X[1] <= 0.355\\ngini = 0.48\\nsamples = 5\\nvalue = [0, 0, 0, 3, 0, 2]'),\n",
       " Text(563.1005484460694, 513.4, 'gini = 0.0\\nsamples = 2\\nvalue = [0, 0, 0, 0, 0, 2]'),\n",
       " Text(579.4223034734918, 513.4, 'gini = 0.0\\nsamples = 3\\nvalue = [0, 0, 0, 3, 0, 0]'),\n",
       " Text(587.5831809872029, 573.8, 'gini = 0.0\\nsamples = 3\\nvalue = [0, 0, 3, 0, 0, 0]'),\n",
       " Text(655.9305301645338, 634.2, 'X[8] <= 3.385\\ngini = 0.374\\nsamples = 71\\nvalue = [0, 1, 11, 55, 3, 1]'),\n",
       " Text(603.9049360146252, 573.8, 'X[3] <= 4.65\\ngini = 0.324\\nsamples = 54\\nvalue = [0, 1, 5, 44, 3, 1]'),\n",
       " Text(595.744058500914, 513.4, 'X[2] <= 0.035\\ngini = 0.298\\nsamples = 53\\nvalue = [0, 1, 5, 44, 3, 0]'),\n",
       " Text(587.5831809872029, 453.0, 'gini = 0.0\\nsamples = 1\\nvalue = [0, 0, 1, 0, 0, 0]'),\n",
       " Text(603.9049360146252, 453.0, 'X[7] <= 1.0\\ngini = 0.274\\nsamples = 52\\nvalue = [0, 1, 4, 44, 3, 0]'),\n",
       " Text(565.1407678244972, 392.6, 'X[2] <= 0.305\\ngini = 0.228\\nsamples = 48\\nvalue = [0, 1, 3, 42, 2, 0]'),\n",
       " Text(536.5776965265081, 332.19999999999993, 'X[10] <= 10.95\\ngini = 0.08\\nsamples = 24\\nvalue = [0, 0, 1, 23, 0, 0]'),\n",
       " Text(528.4168190127971, 271.79999999999995, 'gini = 0.0\\nsamples = 23\\nvalue = [0, 0, 0, 23, 0, 0]'),\n",
       " Text(544.7385740402193, 271.79999999999995, 'gini = 0.0\\nsamples = 1\\nvalue = [0, 0, 1, 0, 0, 0]'),\n",
       " Text(593.7038391224862, 332.19999999999993, 'X[2] <= 0.37\\ngini = 0.358\\nsamples = 24\\nvalue = [0, 1, 2, 19, 2, 0]'),\n",
       " Text(561.0603290676416, 271.79999999999995, 'X[9] <= 0.6\\ngini = 0.75\\nsamples = 4\\nvalue = [0, 1, 1, 1, 1, 0]'),\n",
       " Text(552.8994515539305, 211.39999999999998, 'gini = 0.0\\nsamples = 1\\nvalue = [0, 1, 0, 0, 0, 0]'),\n",
       " Text(569.2212065813528, 211.39999999999998, 'X[3] <= 2.35\\ngini = 0.667\\nsamples = 3\\nvalue = [0, 0, 1, 1, 1, 0]'),\n",
       " Text(561.0603290676416, 151.0, 'gini = 0.0\\nsamples = 1\\nvalue = [0, 0, 0, 1, 0, 0]'),\n",
       " Text(577.382084095064, 151.0, 'X[1] <= 0.405\\ngini = 0.5\\nsamples = 2\\nvalue = [0, 0, 1, 0, 1, 0]'),\n",
       " Text(569.2212065813528, 90.59999999999991, 'gini = 0.0\\nsamples = 1\\nvalue = [0, 0, 0, 0, 1, 0]'),\n",
       " Text(585.542961608775, 90.59999999999991, 'gini = 0.0\\nsamples = 1\\nvalue = [0, 0, 1, 0, 0, 0]'),\n",
       " Text(626.3473491773309, 271.79999999999995, 'X[7] <= 0.997\\ngini = 0.185\\nsamples = 20\\nvalue = [0, 0, 1, 18, 1, 0]'),\n",
       " Text(618.1864716636197, 211.39999999999998, 'X[0] <= 10.8\\ngini = 0.449\\nsamples = 7\\nvalue = [0, 0, 1, 5, 1, 0]'),\n",
       " Text(610.0255941499086, 151.0, 'X[10] <= 11.65\\ngini = 0.278\\nsamples = 6\\nvalue = [0, 0, 0, 5, 1, 0]'),\n",
       " Text(601.8647166361974, 90.59999999999991, 'X[5] <= 8.5\\ngini = 0.5\\nsamples = 2\\nvalue = [0, 0, 0, 1, 1, 0]'),\n",
       " Text(593.7038391224862, 30.200000000000045, 'gini = 0.0\\nsamples = 1\\nvalue = [0, 0, 0, 1, 0, 0]'),\n",
       " Text(610.0255941499086, 30.200000000000045, 'gini = 0.0\\nsamples = 1\\nvalue = [0, 0, 0, 0, 1, 0]'),\n",
       " Text(618.1864716636197, 90.59999999999991, 'gini = 0.0\\nsamples = 4\\nvalue = [0, 0, 0, 4, 0, 0]'),\n",
       " Text(626.3473491773309, 151.0, 'gini = 0.0\\nsamples = 1\\nvalue = [0, 0, 1, 0, 0, 0]'),\n",
       " Text(634.508226691042, 211.39999999999998, 'gini = 0.0\\nsamples = 13\\nvalue = [0, 0, 0, 13, 0, 0]'),\n",
       " Text(642.6691042047531, 392.6, 'X[9] <= 0.62\\ngini = 0.625\\nsamples = 4\\nvalue = [0, 0, 1, 2, 1, 0]'),\n",
       " Text(634.508226691042, 332.19999999999993, 'gini = 0.0\\nsamples = 2\\nvalue = [0, 0, 0, 2, 0, 0]'),\n",
       " Text(650.8299817184643, 332.19999999999993, 'X[4] <= 0.098\\ngini = 0.5\\nsamples = 2\\nvalue = [0, 0, 1, 0, 1, 0]'),\n",
       " Text(642.6691042047531, 271.79999999999995, 'gini = 0.0\\nsamples = 1\\nvalue = [0, 0, 0, 0, 1, 0]'),\n",
       " Text(658.9908592321755, 271.79999999999995, 'gini = 0.0\\nsamples = 1\\nvalue = [0, 0, 1, 0, 0, 0]'),\n",
       " Text(612.0658135283363, 513.4, 'gini = 0.0\\nsamples = 1\\nvalue = [0, 0, 0, 0, 0, 1]'),\n",
       " Text(707.9561243144424, 573.8, 'X[1] <= 0.695\\ngini = 0.457\\nsamples = 17\\nvalue = [0, 0, 6, 11, 0, 0]'),\n",
       " Text(699.7952468007312, 513.4, 'X[6] <= 53.5\\ngini = 0.391\\nsamples = 15\\nvalue = [0, 0, 4, 11, 0, 0]'),\n",
       " Text(683.4734917733089, 453.0, 'X[8] <= 3.415\\ngini = 0.165\\nsamples = 11\\nvalue = [0, 0, 1, 10, 0, 0]'),\n",
       " Text(675.3126142595978, 392.6, 'X[4] <= 0.076\\ngini = 0.444\\nsamples = 3\\nvalue = [0, 0, 1, 2, 0, 0]'),\n",
       " Text(667.1517367458866, 332.19999999999993, 'gini = 0.0\\nsamples = 1\\nvalue = [0, 0, 1, 0, 0, 0]'),\n",
       " Text(683.4734917733089, 332.19999999999993, 'gini = 0.0\\nsamples = 2\\nvalue = [0, 0, 0, 2, 0, 0]'),\n",
       " Text(691.63436928702, 392.6, 'gini = 0.0\\nsamples = 8\\nvalue = [0, 0, 0, 8, 0, 0]'),\n",
       " Text(716.1170018281535, 453.0, 'X[5] <= 27.0\\ngini = 0.375\\nsamples = 4\\nvalue = [0, 0, 3, 1, 0, 0]'),\n",
       " Text(707.9561243144424, 392.6, 'gini = 0.0\\nsamples = 3\\nvalue = [0, 0, 3, 0, 0, 0]'),\n",
       " Text(724.2778793418646, 392.6, 'gini = 0.0\\nsamples = 1\\nvalue = [0, 0, 0, 1, 0, 0]'),\n",
       " Text(716.1170018281535, 513.4, 'gini = 0.0\\nsamples = 2\\nvalue = [0, 0, 2, 0, 0, 0]'),\n",
       " Text(748.7605118829981, 755.0, 'X[9] <= 0.625\\ngini = 0.684\\nsamples = 15\\nvalue = [0, 1, 6, 5, 3, 0]'),\n",
       " Text(740.599634369287, 694.6, 'X[5] <= 18.0\\ngini = 0.568\\nsamples = 9\\nvalue = [0, 1, 0, 5, 3, 0]'),\n",
       " Text(732.4387568555758, 634.2, 'X[0] <= 4.65\\ngini = 0.278\\nsamples = 6\\nvalue = [0, 1, 0, 5, 0, 0]'),\n",
       " Text(724.2778793418646, 573.8, 'gini = 0.0\\nsamples = 1\\nvalue = [0, 1, 0, 0, 0, 0]'),\n",
       " Text(740.599634369287, 573.8, 'gini = 0.0\\nsamples = 5\\nvalue = [0, 0, 0, 5, 0, 0]'),\n",
       " Text(748.7605118829981, 634.2, 'gini = 0.0\\nsamples = 3\\nvalue = [0, 0, 0, 0, 3, 0]'),\n",
       " Text(756.9213893967093, 694.6, 'gini = 0.0\\nsamples = 6\\nvalue = [0, 0, 6, 0, 0, 0]'),\n",
       " Text(683.8560329067641, 815.4000000000001, 'gini = 0.0\\nsamples = 2\\nvalue = [0, 0, 0, 0, 2, 0]'),\n",
       " Text(1003.2778793418646, 875.8, 'X[9] <= 0.925\\ngini = 0.675\\nsamples = 109\\nvalue = [0, 0, 25, 43, 37, 4]'),\n",
       " Text(923.199268738574, 815.4000000000001, 'X[6] <= 62.0\\ngini = 0.687\\nsamples = 88\\nvalue = [0, 0, 24, 26, 34, 4]'),\n",
       " Text(836.489945155393, 755.0, 'X[10] <= 10.45\\ngini = 0.632\\nsamples = 62\\nvalue = [0, 0, 8, 21, 30, 3]'),\n",
       " Text(781.4040219378427, 694.6, 'X[5] <= 10.5\\ngini = 0.521\\nsamples = 19\\nvalue = [0, 0, 2, 12, 5, 0]'),\n",
       " Text(765.0822669104205, 634.2, 'X[8] <= 3.23\\ngini = 0.531\\nsamples = 8\\nvalue = [0, 0, 1, 2, 5, 0]'),\n",
       " Text(756.9213893967093, 573.8, 'X[8] <= 3.03\\ngini = 0.278\\nsamples = 6\\nvalue = [0, 0, 1, 0, 5, 0]'),\n",
       " Text(748.7605118829981, 513.4, 'gini = 0.0\\nsamples = 1\\nvalue = [0, 0, 1, 0, 0, 0]'),\n",
       " Text(765.0822669104205, 513.4, 'gini = 0.0\\nsamples = 5\\nvalue = [0, 0, 0, 0, 5, 0]'),\n",
       " Text(773.2431444241315, 573.8, 'gini = 0.0\\nsamples = 2\\nvalue = [0, 0, 0, 2, 0, 0]'),\n",
       " Text(797.725776965265, 634.2, 'X[9] <= 0.74\\ngini = 0.165\\nsamples = 11\\nvalue = [0, 0, 1, 10, 0, 0]'),\n",
       " Text(789.5648994515539, 573.8, 'gini = 0.0\\nsamples = 1\\nvalue = [0, 0, 1, 0, 0, 0]'),\n",
       " Text(805.8866544789762, 573.8, 'gini = 0.0\\nsamples = 10\\nvalue = [0, 0, 0, 10, 0, 0]'),\n",
       " Text(891.5758683729432, 694.6, 'X[8] <= 3.33\\ngini = 0.594\\nsamples = 43\\nvalue = [0, 0, 6, 9, 25, 3]'),\n",
       " Text(854.8519195612431, 634.2, 'X[2] <= 0.615\\ngini = 0.678\\nsamples = 30\\nvalue = [0, 0, 6, 9, 13, 2]'),\n",
       " Text(822.2084095063984, 573.8, 'X[1] <= 0.415\\ngini = 0.711\\nsamples = 22\\nvalue = [0, 0, 6, 8, 6, 2]'),\n",
       " Text(781.4040219378427, 513.4, 'X[6] <= 18.5\\ngini = 0.678\\nsamples = 11\\nvalue = [0, 0, 3, 1, 5, 2]'),\n",
       " Text(765.0822669104205, 453.0, 'X[8] <= 3.245\\ngini = 0.5\\nsamples = 4\\nvalue = [0, 0, 2, 0, 0, 2]'),\n",
       " Text(756.9213893967093, 392.6, 'gini = 0.0\\nsamples = 2\\nvalue = [0, 0, 0, 0, 0, 2]'),\n",
       " Text(773.2431444241315, 392.6, 'gini = 0.0\\nsamples = 2\\nvalue = [0, 0, 2, 0, 0, 0]'),\n",
       " Text(797.725776965265, 453.0, 'X[7] <= 0.999\\ngini = 0.449\\nsamples = 7\\nvalue = [0, 0, 1, 1, 5, 0]'),\n",
       " Text(789.5648994515539, 392.6, 'gini = 0.0\\nsamples = 5\\nvalue = [0, 0, 0, 0, 5, 0]'),\n",
       " Text(805.8866544789762, 392.6, 'X[8] <= 3.2\\ngini = 0.5\\nsamples = 2\\nvalue = [0, 0, 1, 1, 0, 0]'),\n",
       " Text(797.725776965265, 332.19999999999993, 'gini = 0.0\\nsamples = 1\\nvalue = [0, 0, 0, 1, 0, 0]'),\n",
       " Text(814.0475319926874, 332.19999999999993, 'gini = 0.0\\nsamples = 1\\nvalue = [0, 0, 1, 0, 0, 0]'),\n",
       " Text(863.0127970749543, 513.4, 'X[3] <= 3.05\\ngini = 0.512\\nsamples = 11\\nvalue = [0, 0, 3, 7, 1, 0]'),\n",
       " Text(846.6910420475319, 453.0, 'X[0] <= 12.2\\ngini = 0.346\\nsamples = 9\\nvalue = [0, 0, 2, 7, 0, 0]'),\n",
       " Text(838.5301645338208, 392.6, 'X[2] <= 0.355\\ngini = 0.219\\nsamples = 8\\nvalue = [0, 0, 1, 7, 0, 0]'),\n",
       " Text(830.3692870201096, 332.19999999999993, 'X[8] <= 3.215\\ngini = 0.5\\nsamples = 2\\nvalue = [0, 0, 1, 1, 0, 0]'),\n",
       " Text(822.2084095063984, 271.79999999999995, 'gini = 0.0\\nsamples = 1\\nvalue = [0, 0, 0, 1, 0, 0]'),\n",
       " Text(838.5301645338208, 271.79999999999995, 'gini = 0.0\\nsamples = 1\\nvalue = [0, 0, 1, 0, 0, 0]'),\n",
       " Text(846.6910420475319, 332.19999999999993, 'gini = 0.0\\nsamples = 6\\nvalue = [0, 0, 0, 6, 0, 0]'),\n",
       " Text(854.8519195612431, 392.6, 'gini = 0.0\\nsamples = 1\\nvalue = [0, 0, 1, 0, 0, 0]'),\n",
       " Text(879.3345521023765, 453.0, 'X[8] <= 3.225\\ngini = 0.5\\nsamples = 2\\nvalue = [0, 0, 1, 0, 1, 0]'),\n",
       " Text(871.1736745886653, 392.6, 'gini = 0.0\\nsamples = 1\\nvalue = [0, 0, 0, 0, 1, 0]'),\n",
       " Text(887.4954296160877, 392.6, 'gini = 0.0\\nsamples = 1\\nvalue = [0, 0, 1, 0, 0, 0]'),\n",
       " Text(887.4954296160877, 573.8, 'X[6] <= 38.0\\ngini = 0.219\\nsamples = 8\\nvalue = [0, 0, 0, 1, 7, 0]'),\n",
       " Text(879.3345521023765, 513.4, 'gini = 0.0\\nsamples = 7\\nvalue = [0, 0, 0, 0, 7, 0]'),\n",
       " Text(895.6563071297988, 513.4, 'gini = 0.0\\nsamples = 1\\nvalue = [0, 0, 0, 1, 0, 0]'),\n",
       " Text(928.2998171846434, 634.2, 'X[1] <= 0.375\\ngini = 0.142\\nsamples = 13\\nvalue = [0, 0, 0, 0, 12, 1]'),\n",
       " Text(920.1389396709322, 573.8, 'X[10] <= 11.65\\ngini = 0.5\\nsamples = 2\\nvalue = [0, 0, 0, 0, 1, 1]'),\n",
       " Text(911.9780621572212, 513.4, 'gini = 0.0\\nsamples = 1\\nvalue = [0, 0, 0, 0, 1, 0]'),\n",
       " Text(928.2998171846434, 513.4, 'gini = 0.0\\nsamples = 1\\nvalue = [0, 0, 0, 0, 0, 1]'),\n",
       " Text(936.4606946983546, 573.8, 'gini = 0.0\\nsamples = 11\\nvalue = [0, 0, 0, 0, 11, 0]'),\n",
       " Text(1009.9085923217549, 755.0, 'X[10] <= 11.35\\ngini = 0.559\\nsamples = 26\\nvalue = [0, 0, 16, 5, 4, 1]'),\n",
       " Text(977.2650822669103, 694.6, 'X[1] <= 0.33\\ngini = 0.29\\nsamples = 18\\nvalue = [0, 0, 15, 1, 2, 0]'),\n",
       " Text(960.9433272394881, 634.2, 'X[2] <= 0.565\\ngini = 0.444\\nsamples = 3\\nvalue = [0, 0, 1, 0, 2, 0]'),\n",
       " Text(952.7824497257769, 573.8, 'gini = 0.0\\nsamples = 2\\nvalue = [0, 0, 0, 0, 2, 0]'),\n",
       " Text(969.1042047531992, 573.8, 'gini = 0.0\\nsamples = 1\\nvalue = [0, 0, 1, 0, 0, 0]'),\n",
       " Text(993.5868372943327, 634.2, 'X[7] <= 0.999\\ngini = 0.124\\nsamples = 15\\nvalue = [0, 0, 14, 1, 0, 0]'),\n",
       " Text(985.4259597806215, 573.8, 'gini = 0.0\\nsamples = 13\\nvalue = [0, 0, 13, 0, 0, 0]'),\n",
       " Text(1001.7477148080438, 573.8, 'X[8] <= 3.125\\ngini = 0.5\\nsamples = 2\\nvalue = [0, 0, 1, 1, 0, 0]'),\n",
       " Text(993.5868372943327, 513.4, 'gini = 0.0\\nsamples = 1\\nvalue = [0, 0, 1, 0, 0, 0]'),\n",
       " Text(1009.9085923217549, 513.4, 'gini = 0.0\\nsamples = 1\\nvalue = [0, 0, 0, 1, 0, 0]'),\n",
       " Text(1042.5521023765996, 694.6, 'X[5] <= 12.5\\ngini = 0.656\\nsamples = 8\\nvalue = [0, 0, 1, 4, 2, 1]'),\n",
       " Text(1034.3912248628883, 634.2, 'gini = 0.0\\nsamples = 1\\nvalue = [0, 0, 0, 0, 0, 1]'),\n",
       " Text(1050.7129798903106, 634.2, 'X[8] <= 3.38\\ngini = 0.571\\nsamples = 7\\nvalue = [0, 0, 1, 4, 2, 0]'),\n",
       " Text(1034.3912248628883, 573.8, 'X[9] <= 0.75\\ngini = 0.5\\nsamples = 2\\nvalue = [0, 0, 1, 0, 1, 0]'),\n",
       " Text(1026.2303473491772, 513.4, 'gini = 0.0\\nsamples = 1\\nvalue = [0, 0, 0, 0, 1, 0]'),\n",
       " Text(1042.5521023765996, 513.4, 'gini = 0.0\\nsamples = 1\\nvalue = [0, 0, 1, 0, 0, 0]'),\n",
       " Text(1067.034734917733, 573.8, 'X[5] <= 18.0\\ngini = 0.32\\nsamples = 5\\nvalue = [0, 0, 0, 4, 1, 0]'),\n",
       " Text(1058.873857404022, 513.4, 'gini = 0.0\\nsamples = 1\\nvalue = [0, 0, 0, 0, 1, 0]'),\n",
       " Text(1075.1956124314443, 513.4, 'gini = 0.0\\nsamples = 4\\nvalue = [0, 0, 0, 4, 0, 0]'),\n",
       " Text(1083.3564899451553, 815.4000000000001, 'X[6] <= 18.5\\ngini = 0.322\\nsamples = 21\\nvalue = [0, 0, 1, 17, 3, 0]'),\n",
       " Text(1067.034734917733, 755.0, 'X[0] <= 11.6\\ngini = 0.375\\nsamples = 4\\nvalue = [0, 0, 0, 1, 3, 0]'),\n",
       " Text(1058.873857404022, 694.6, 'gini = 0.0\\nsamples = 3\\nvalue = [0, 0, 0, 0, 3, 0]'),\n",
       " Text(1075.1956124314443, 694.6, 'gini = 0.0\\nsamples = 1\\nvalue = [0, 0, 0, 1, 0, 0]'),\n",
       " Text(1099.6782449725777, 755.0, 'X[7] <= 0.997\\ngini = 0.111\\nsamples = 17\\nvalue = [0, 0, 1, 16, 0, 0]'),\n",
       " Text(1091.5173674588664, 694.6, 'X[10] <= 10.4\\ngini = 0.444\\nsamples = 3\\nvalue = [0, 0, 1, 2, 0, 0]'),\n",
       " Text(1083.3564899451553, 634.2, 'gini = 0.0\\nsamples = 1\\nvalue = [0, 0, 1, 0, 0, 0]'),\n",
       " Text(1099.6782449725777, 634.2, 'gini = 0.0\\nsamples = 2\\nvalue = [0, 0, 0, 2, 0, 0]'),\n",
       " Text(1107.8391224862887, 694.6, 'gini = 0.0\\nsamples = 14\\nvalue = [0, 0, 0, 14, 0, 0]')]"
      ]
     },
     "execution_count": 61,
     "metadata": {},
     "output_type": "execute_result"
    },
    {
     "data": {
      "image/png": "[encoded data removed]",
      "text/plain": [
       "<Figure size 1440x1440 with 1 Axes>"
      ]
     },
     "metadata": {
      "needs_background": "light"
     },
     "output_type": "display_data"
    }
   ],
   "source": [
    "plt.figure(figsize=(20,20))\n",
    "\n",
    "tree.plot_tree(dt_model1,filled=True)\n"
   ]
  },
  {
   "cell_type": "code",
   "execution_count": 62,
   "metadata": {},
   "outputs": [
    {
     "data": {
      "text/plain": [
       "array([5, 5, 5, 6, 5, 5, 5, 7, 7, 5, 5, 5, 5, 5, 5, 5, 7, 5, 4, 6, 6, 5,\n",
       "       5, 5, 6, 5, 5, 5, 5, 6, 5, 6, 5, 6, 5, 6, 6, 7, 4, 5, 5, 4, 6, 5,\n",
       "       5, 4, 5, 5, 5, 5, 5, 6, 6, 5, 6, 5, 5, 5, 5, 6, 5, 5, 7, 5, 5, 5,\n",
       "       5, 5, 5, 6, 6, 5, 5, 4, 5, 5, 5, 6, 5, 4, 5, 5, 5, 5, 6, 5, 6, 5,\n",
       "       5, 5, 5, 6, 5, 5, 4, 6, 5, 5, 5, 6, 6, 6, 6, 5, 5, 5, 5, 5, 6, 5,\n",
       "       5, 5, 5, 6, 5, 6, 6, 6, 6, 6, 5, 6, 5, 5, 5, 5, 5, 5, 7, 5, 5, 5,\n",
       "       5, 6, 6, 5, 5, 5, 5, 5, 5, 5, 6, 5, 6, 5, 5, 5, 6, 6, 6, 4, 5, 5,\n",
       "       5, 5, 5, 5, 5, 6, 5, 4, 6, 5, 5, 5, 5, 4, 6, 5, 4, 6, 6, 6, 5, 5,\n",
       "       5, 6, 5, 5, 5, 5, 5, 5, 6, 5, 5, 5, 5, 5, 5, 6, 5, 5, 5, 5, 5, 6,\n",
       "       7, 4, 7, 5, 5, 5, 6, 7, 7, 5, 5, 7, 6, 6, 6, 5, 6, 5, 5, 5, 5, 5,\n",
       "       6, 5, 5, 6, 4, 6, 6, 5, 6, 5, 7, 6, 6, 5, 6, 6, 6, 6, 6, 6, 5, 6,\n",
       "       6, 7, 7, 6, 5, 5, 6, 6, 6, 6, 5, 5, 6, 5, 5, 5, 5, 7, 5, 4, 5, 5,\n",
       "       5, 7, 4, 8, 6, 6, 6, 6, 5, 5, 5, 6, 6, 6, 8, 7, 6, 7, 5, 7, 5, 5,\n",
       "       6, 6, 7, 5, 7, 5, 6, 6, 6, 5, 5, 5, 5, 5, 6, 6, 5, 5, 5, 6, 5, 6,\n",
       "       6, 6, 6, 6, 6, 5, 5, 6, 5, 6, 7, 6, 7, 5, 5, 6, 6, 6, 7, 5, 6, 5,\n",
       "       6, 6, 6, 5, 7, 7, 6, 5, 6, 7, 6, 6, 6, 6, 6, 5, 7, 6, 6, 6, 6, 6,\n",
       "       5, 5, 6, 6, 5, 7, 7, 6, 5, 6, 5, 5, 7, 6, 7, 5, 5, 7, 5, 6, 6, 5,\n",
       "       6, 7, 6, 7, 6, 6, 6, 6, 6, 6, 5, 6, 6, 6, 6, 7, 8, 6, 5, 5, 5, 7,\n",
       "       5, 6, 6, 5, 5, 6, 6, 6, 5, 6, 6, 7, 6, 4, 6, 5, 5, 7, 5, 5, 6, 5,\n",
       "       6, 5, 7, 7, 5, 7, 5, 7, 6, 6, 5, 6, 7, 5, 6, 5, 6, 5, 6, 6, 6, 5,\n",
       "       8, 6, 7, 7, 7, 6, 5, 5, 6, 6, 6, 6, 6, 7, 5, 8, 5, 5, 7, 3, 6, 5,\n",
       "       5, 5, 6, 5, 6, 6, 6, 5, 5, 6, 6, 5, 6, 5, 5, 6, 5, 6, 5, 8, 5, 5,\n",
       "       6, 5, 5, 6, 7, 6, 6, 7, 7, 6, 6, 8, 6, 5, 8, 6])"
      ]
     },
     "execution_count": 62,
     "metadata": {},
     "output_type": "execute_result"
    }
   ],
   "source": [
    "dt_model1.predict(x1)"
   ]
  },
  {
   "cell_type": "code",
   "execution_count": 63,
   "metadata": {},
   "outputs": [
    {
     "data": {
      "text/plain": [
       "1.0"
      ]
     },
     "execution_count": 63,
     "metadata": {},
     "output_type": "execute_result"
    }
   ],
   "source": [
    "dt_model1.score(x1,y1)"
   ]
  },
  {
   "cell_type": "code",
   "execution_count": 64,
   "metadata": {},
   "outputs": [
    {
     "data": {
      "text/plain": [
       "0.6229166666666667"
      ]
     },
     "execution_count": 64,
     "metadata": {},
     "output_type": "execute_result"
    }
   ],
   "source": [
    "dt_model1.score(x_test,y_test)"
   ]
  },
  {
   "cell_type": "code",
   "execution_count": 65,
   "metadata": {},
   "outputs": [],
   "source": [
    "path  = dt_model1.cost_complexity_pruning_path(x1,y1)\n",
    "ccp_alpha = path['ccp_alphas']"
   ]
  },
  {
   "cell_type": "code",
   "execution_count": 66,
   "metadata": {},
   "outputs": [
    {
     "data": {
      "text/plain": [
       "array([0.        , 0.00175   , 0.00181818, 0.00184615, 0.00185   ,\n",
       "       0.00188235, 0.00192308, 0.002     , 0.002     , 0.002     ,\n",
       "       0.002     , 0.002     , 0.002     , 0.002     , 0.002     ,\n",
       "       0.002     , 0.00247552, 0.00261111, 0.00262769, 0.00266667,\n",
       "       0.00266667, 0.00266667, 0.00266667, 0.00266667, 0.00266667,\n",
       "       0.00266667, 0.00266667, 0.00266667, 0.00272222, 0.00283333,\n",
       "       0.003     , 0.003     , 0.003     , 0.003     , 0.00304762,\n",
       "       0.00304762, 0.00305051, 0.00308418, 0.00328205, 0.00333333,\n",
       "       0.00333333, 0.00334032, 0.00336606, 0.00342857, 0.00343316,\n",
       "       0.0035    , 0.0035    , 0.0036    , 0.00363636, 0.00373333,\n",
       "       0.00373809, 0.0038    , 0.0038237 , 0.004     , 0.00404444,\n",
       "       0.00428571, 0.00428571, 0.00437662, 0.00462338, 0.00465709,\n",
       "       0.00466667, 0.0048    , 0.00487179, 0.00504242, 0.00508235,\n",
       "       0.00509091, 0.00510606, 0.00516667, 0.00568485, 0.00589394,\n",
       "       0.00656364, 0.00671079, 0.0067591 , 0.00688352, 0.00688889,\n",
       "       0.007     , 0.00701299, 0.00706234, 0.00725171, 0.00759048,\n",
       "       0.00771182, 0.00786235, 0.00813248, 0.00858654, 0.01285167,\n",
       "       0.01310242, 0.01335452, 0.01789286, 0.02414791, 0.04600728])"
      ]
     },
     "execution_count": 66,
     "metadata": {},
     "output_type": "execute_result"
    }
   ],
   "source": [
    "ccp_alpha"
   ]
  },
  {
   "cell_type": "code",
   "execution_count": 67,
   "metadata": {},
   "outputs": [],
   "source": [
    "dt_model2 = []\n",
    "for ccp in ccp_alpha:\n",
    "    dt_m = DecisionTreeClassifier(ccp_alpha=ccp)\n",
    "    dt_m.fit(x1,y1)\n",
    "    dt_model2.append(dt_m)"
   ]
  },
  {
   "cell_type": "code",
   "execution_count": 68,
   "metadata": {},
   "outputs": [
    {
     "data": {
      "text/plain": [
       "[DecisionTreeClassifier(),\n",
       " DecisionTreeClassifier(ccp_alpha=0.00175),\n",
       " DecisionTreeClassifier(ccp_alpha=0.0018181818181818184),\n",
       " DecisionTreeClassifier(ccp_alpha=0.0018461538461538455),\n",
       " DecisionTreeClassifier(ccp_alpha=0.0018500000000000005),\n",
       " DecisionTreeClassifier(ccp_alpha=0.001882352941176471),\n",
       " DecisionTreeClassifier(ccp_alpha=0.0019230769230769243),\n",
       " DecisionTreeClassifier(ccp_alpha=0.002),\n",
       " DecisionTreeClassifier(ccp_alpha=0.002),\n",
       " DecisionTreeClassifier(ccp_alpha=0.002),\n",
       " DecisionTreeClassifier(ccp_alpha=0.002),\n",
       " DecisionTreeClassifier(ccp_alpha=0.002),\n",
       " DecisionTreeClassifier(ccp_alpha=0.002),\n",
       " DecisionTreeClassifier(ccp_alpha=0.002),\n",
       " DecisionTreeClassifier(ccp_alpha=0.002),\n",
       " DecisionTreeClassifier(ccp_alpha=0.002),\n",
       " DecisionTreeClassifier(ccp_alpha=0.0024755244755244737),\n",
       " DecisionTreeClassifier(ccp_alpha=0.0026111111111111114),\n",
       " DecisionTreeClassifier(ccp_alpha=0.0026276923076923083),\n",
       " DecisionTreeClassifier(ccp_alpha=0.0026666666666666666),\n",
       " DecisionTreeClassifier(ccp_alpha=0.0026666666666666666),\n",
       " DecisionTreeClassifier(ccp_alpha=0.0026666666666666666),\n",
       " DecisionTreeClassifier(ccp_alpha=0.0026666666666666666),\n",
       " DecisionTreeClassifier(ccp_alpha=0.0026666666666666666),\n",
       " DecisionTreeClassifier(ccp_alpha=0.0026666666666666666),\n",
       " DecisionTreeClassifier(ccp_alpha=0.0026666666666666666),\n",
       " DecisionTreeClassifier(ccp_alpha=0.0026666666666666666),\n",
       " DecisionTreeClassifier(ccp_alpha=0.0026666666666666666),\n",
       " DecisionTreeClassifier(ccp_alpha=0.002722222222222221),\n",
       " DecisionTreeClassifier(ccp_alpha=0.0028333333333333335),\n",
       " DecisionTreeClassifier(ccp_alpha=0.003),\n",
       " DecisionTreeClassifier(ccp_alpha=0.003),\n",
       " DecisionTreeClassifier(ccp_alpha=0.003),\n",
       " DecisionTreeClassifier(ccp_alpha=0.003),\n",
       " DecisionTreeClassifier(ccp_alpha=0.0030476190476190477),\n",
       " DecisionTreeClassifier(ccp_alpha=0.0030476190476190477),\n",
       " DecisionTreeClassifier(ccp_alpha=0.0030505050505050518),\n",
       " DecisionTreeClassifier(ccp_alpha=0.0030841799709724164),\n",
       " DecisionTreeClassifier(ccp_alpha=0.0032820512820512827),\n",
       " DecisionTreeClassifier(ccp_alpha=0.0033333333333333335),\n",
       " DecisionTreeClassifier(ccp_alpha=0.0033333333333333335),\n",
       " DecisionTreeClassifier(ccp_alpha=0.0033403214535289993),\n",
       " DecisionTreeClassifier(ccp_alpha=0.0033660578386605737),\n",
       " DecisionTreeClassifier(ccp_alpha=0.0034285714285714297),\n",
       " DecisionTreeClassifier(ccp_alpha=0.003433155080213907),\n",
       " DecisionTreeClassifier(ccp_alpha=0.0035),\n",
       " DecisionTreeClassifier(ccp_alpha=0.0035),\n",
       " DecisionTreeClassifier(ccp_alpha=0.0036000000000000008),\n",
       " DecisionTreeClassifier(ccp_alpha=0.003636363636363637),\n",
       " DecisionTreeClassifier(ccp_alpha=0.0037333333333333337),\n",
       " DecisionTreeClassifier(ccp_alpha=0.0037380946805604365),\n",
       " DecisionTreeClassifier(ccp_alpha=0.003799999999999999),\n",
       " DecisionTreeClassifier(ccp_alpha=0.0038236986452948873),\n",
       " DecisionTreeClassifier(ccp_alpha=0.004),\n",
       " DecisionTreeClassifier(ccp_alpha=0.004044444444444443),\n",
       " DecisionTreeClassifier(ccp_alpha=0.004285714285714286),\n",
       " DecisionTreeClassifier(ccp_alpha=0.004285714285714287),\n",
       " DecisionTreeClassifier(ccp_alpha=0.004376623376623378),\n",
       " DecisionTreeClassifier(ccp_alpha=0.004623376623376621),\n",
       " DecisionTreeClassifier(ccp_alpha=0.004657093161377905),\n",
       " DecisionTreeClassifier(ccp_alpha=0.004666666666666666),\n",
       " DecisionTreeClassifier(ccp_alpha=0.0048),\n",
       " DecisionTreeClassifier(ccp_alpha=0.004871794871794875),\n",
       " DecisionTreeClassifier(ccp_alpha=0.005042424242424239),\n",
       " DecisionTreeClassifier(ccp_alpha=0.005082352941176471),\n",
       " DecisionTreeClassifier(ccp_alpha=0.005090909090909097),\n",
       " DecisionTreeClassifier(ccp_alpha=0.005106060606060606),\n",
       " DecisionTreeClassifier(ccp_alpha=0.005166666666666667),\n",
       " DecisionTreeClassifier(ccp_alpha=0.005684848484848487),\n",
       " DecisionTreeClassifier(ccp_alpha=0.005893939393939396),\n",
       " DecisionTreeClassifier(ccp_alpha=0.0065636363636363635),\n",
       " DecisionTreeClassifier(ccp_alpha=0.0067107930828861),\n",
       " DecisionTreeClassifier(ccp_alpha=0.0067591036414565795),\n",
       " DecisionTreeClassifier(ccp_alpha=0.006883516483516483),\n",
       " DecisionTreeClassifier(ccp_alpha=0.006888888888888889),\n",
       " DecisionTreeClassifier(ccp_alpha=0.007000000000000001),\n",
       " DecisionTreeClassifier(ccp_alpha=0.007012994199018301),\n",
       " DecisionTreeClassifier(ccp_alpha=0.0070623376623376675),\n",
       " DecisionTreeClassifier(ccp_alpha=0.007251712992889445),\n",
       " DecisionTreeClassifier(ccp_alpha=0.00759048284798472),\n",
       " DecisionTreeClassifier(ccp_alpha=0.007711817594170538),\n",
       " DecisionTreeClassifier(ccp_alpha=0.007862348178137649),\n",
       " DecisionTreeClassifier(ccp_alpha=0.008132478632478634),\n",
       " DecisionTreeClassifier(ccp_alpha=0.008586538461538458),\n",
       " DecisionTreeClassifier(ccp_alpha=0.012851672777488471),\n",
       " DecisionTreeClassifier(ccp_alpha=0.013102415587766272),\n",
       " DecisionTreeClassifier(ccp_alpha=0.013354516483034151),\n",
       " DecisionTreeClassifier(ccp_alpha=0.01789286463132611),\n",
       " DecisionTreeClassifier(ccp_alpha=0.024147905954059024),\n",
       " DecisionTreeClassifier(ccp_alpha=0.04600728380781505)]"
      ]
     },
     "execution_count": 68,
     "metadata": {},
     "output_type": "execute_result"
    }
   ],
   "source": [
    "dt_model2"
   ]
  },
  {
   "cell_type": "code",
   "execution_count": 69,
   "metadata": {},
   "outputs": [
    {
     "data": {
      "text/plain": [
       "{'ccp_alphas': array([0.        , 0.00175   , 0.00181818, 0.00184615, 0.00185   ,\n",
       "        0.00188235, 0.00192308, 0.002     , 0.002     , 0.002     ,\n",
       "        0.002     , 0.002     , 0.002     , 0.002     , 0.002     ,\n",
       "        0.002     , 0.00247552, 0.00261111, 0.00262769, 0.00266667,\n",
       "        0.00266667, 0.00266667, 0.00266667, 0.00266667, 0.00266667,\n",
       "        0.00266667, 0.00266667, 0.00266667, 0.00272222, 0.00283333,\n",
       "        0.003     , 0.003     , 0.003     , 0.003     , 0.00304762,\n",
       "        0.00304762, 0.00305051, 0.00308418, 0.00328205, 0.00333333,\n",
       "        0.00333333, 0.00334032, 0.00336606, 0.00342857, 0.00343316,\n",
       "        0.0035    , 0.0035    , 0.0036    , 0.00363636, 0.00373333,\n",
       "        0.00373809, 0.0038    , 0.0038237 , 0.004     , 0.00404444,\n",
       "        0.00428571, 0.00428571, 0.00437662, 0.00462338, 0.00465709,\n",
       "        0.00466667, 0.0048    , 0.00487179, 0.00504242, 0.00508235,\n",
       "        0.00509091, 0.00510606, 0.00516667, 0.00568485, 0.00589394,\n",
       "        0.00656364, 0.00671079, 0.0067591 , 0.00688352, 0.00688889,\n",
       "        0.007     , 0.00701299, 0.00706234, 0.00725171, 0.00759048,\n",
       "        0.00771182, 0.00786235, 0.00813248, 0.00858654, 0.01285167,\n",
       "        0.01310242, 0.01335452, 0.01789286, 0.02414791, 0.04600728]),\n",
       " 'impurities': array([0.        , 0.0035    , 0.00713636, 0.01082867, 0.01822867,\n",
       "        0.02199338, 0.02583953, 0.02783953, 0.02983953, 0.03183953,\n",
       "        0.03383953, 0.03983953, 0.04183953, 0.04383953, 0.04583953,\n",
       "        0.04783953, 0.0552661 , 0.07354388, 0.08668234, 0.08934901,\n",
       "        0.09201568, 0.09468234, 0.09734901, 0.10001568, 0.10268234,\n",
       "        0.10534901, 0.10801568, 0.11068234, 0.11340457, 0.12190457,\n",
       "        0.12490457, 0.12790457, 0.13090457, 0.13390457, 0.13695219,\n",
       "        0.1399998 , 0.14305031, 0.14613449, 0.15269859, 0.15603193,\n",
       "        0.15936526, 0.16270558, 0.16607164, 0.17635735, 0.17979051,\n",
       "        0.18329051, 0.18679051, 0.19039051, 0.19402687, 0.1977602 ,\n",
       "        0.20897449, 0.21277449, 0.22424558, 0.22824558, 0.23229003,\n",
       "        0.23657574, 0.24086146, 0.24523808, 0.24986146, 0.26848983,\n",
       "        0.27782316, 0.28262316, 0.28749496, 0.29253738, 0.29761974,\n",
       "        0.30271064, 0.3078167 , 0.31298337, 0.31866822, 0.32456216,\n",
       "        0.3311258 , 0.33783659, 0.34459569, 0.35147921, 0.3583681 ,\n",
       "        0.3653681 , 0.38640708, 0.40053176, 0.40778347, 0.42296443,\n",
       "        0.44609989, 0.45396224, 0.46209471, 0.47068125, 0.4963846 ,\n",
       "        0.52258943, 0.53594395, 0.55383681, 0.57798472, 0.623992  ])}"
      ]
     },
     "execution_count": 69,
     "metadata": {},
     "output_type": "execute_result"
    }
   ],
   "source": [
    "path"
   ]
  },
  {
   "cell_type": "code",
   "execution_count": 71,
   "metadata": {},
   "outputs": [
    {
     "ename": "SyntaxError",
     "evalue": "invalid syntax (<ipython-input-71-0ec8a64e3736>, line 1)",
     "output_type": "error",
     "traceback": [
      "\u001b[0;36m  File \u001b[0;32m\"<ipython-input-71-0ec8a64e3736>\"\u001b[0;36m, line \u001b[0;32m1\u001b[0m\n\u001b[0;31m    train_score = dt_model1.score(x1,y1) for\u001b[0m\n\u001b[0m                                         ^\u001b[0m\n\u001b[0;31mSyntaxError\u001b[0m\u001b[0;31m:\u001b[0m invalid syntax\n"
     ]
    }
   ],
   "source": [
    "train_score = dt_model1.score(x1,y1) for "
   ]
  },
  {
   "cell_type": "code",
   "execution_count": 72,
   "metadata": {},
   "outputs": [
    {
     "data": {
      "text/plain": [
       "[DecisionTreeClassifier(),\n",
       " DecisionTreeClassifier(ccp_alpha=0.00175),\n",
       " DecisionTreeClassifier(ccp_alpha=0.0018181818181818184),\n",
       " DecisionTreeClassifier(ccp_alpha=0.0018461538461538455),\n",
       " DecisionTreeClassifier(ccp_alpha=0.0018500000000000005),\n",
       " DecisionTreeClassifier(ccp_alpha=0.001882352941176471),\n",
       " DecisionTreeClassifier(ccp_alpha=0.0019230769230769243),\n",
       " DecisionTreeClassifier(ccp_alpha=0.002),\n",
       " DecisionTreeClassifier(ccp_alpha=0.002),\n",
       " DecisionTreeClassifier(ccp_alpha=0.002),\n",
       " DecisionTreeClassifier(ccp_alpha=0.002),\n",
       " DecisionTreeClassifier(ccp_alpha=0.002),\n",
       " DecisionTreeClassifier(ccp_alpha=0.002),\n",
       " DecisionTreeClassifier(ccp_alpha=0.002),\n",
       " DecisionTreeClassifier(ccp_alpha=0.002),\n",
       " DecisionTreeClassifier(ccp_alpha=0.002),\n",
       " DecisionTreeClassifier(ccp_alpha=0.0024755244755244737),\n",
       " DecisionTreeClassifier(ccp_alpha=0.0026111111111111114),\n",
       " DecisionTreeClassifier(ccp_alpha=0.0026276923076923083),\n",
       " DecisionTreeClassifier(ccp_alpha=0.0026666666666666666),\n",
       " DecisionTreeClassifier(ccp_alpha=0.0026666666666666666),\n",
       " DecisionTreeClassifier(ccp_alpha=0.0026666666666666666),\n",
       " DecisionTreeClassifier(ccp_alpha=0.0026666666666666666),\n",
       " DecisionTreeClassifier(ccp_alpha=0.0026666666666666666),\n",
       " DecisionTreeClassifier(ccp_alpha=0.0026666666666666666),\n",
       " DecisionTreeClassifier(ccp_alpha=0.0026666666666666666),\n",
       " DecisionTreeClassifier(ccp_alpha=0.0026666666666666666),\n",
       " DecisionTreeClassifier(ccp_alpha=0.0026666666666666666),\n",
       " DecisionTreeClassifier(ccp_alpha=0.002722222222222221),\n",
       " DecisionTreeClassifier(ccp_alpha=0.0028333333333333335),\n",
       " DecisionTreeClassifier(ccp_alpha=0.003),\n",
       " DecisionTreeClassifier(ccp_alpha=0.003),\n",
       " DecisionTreeClassifier(ccp_alpha=0.003),\n",
       " DecisionTreeClassifier(ccp_alpha=0.003),\n",
       " DecisionTreeClassifier(ccp_alpha=0.0030476190476190477),\n",
       " DecisionTreeClassifier(ccp_alpha=0.0030476190476190477),\n",
       " DecisionTreeClassifier(ccp_alpha=0.0030505050505050518),\n",
       " DecisionTreeClassifier(ccp_alpha=0.0030841799709724164),\n",
       " DecisionTreeClassifier(ccp_alpha=0.0032820512820512827),\n",
       " DecisionTreeClassifier(ccp_alpha=0.0033333333333333335),\n",
       " DecisionTreeClassifier(ccp_alpha=0.0033333333333333335),\n",
       " DecisionTreeClassifier(ccp_alpha=0.0033403214535289993),\n",
       " DecisionTreeClassifier(ccp_alpha=0.0033660578386605737),\n",
       " DecisionTreeClassifier(ccp_alpha=0.0034285714285714297),\n",
       " DecisionTreeClassifier(ccp_alpha=0.003433155080213907),\n",
       " DecisionTreeClassifier(ccp_alpha=0.0035),\n",
       " DecisionTreeClassifier(ccp_alpha=0.0035),\n",
       " DecisionTreeClassifier(ccp_alpha=0.0036000000000000008),\n",
       " DecisionTreeClassifier(ccp_alpha=0.003636363636363637),\n",
       " DecisionTreeClassifier(ccp_alpha=0.0037333333333333337),\n",
       " DecisionTreeClassifier(ccp_alpha=0.0037380946805604365),\n",
       " DecisionTreeClassifier(ccp_alpha=0.003799999999999999),\n",
       " DecisionTreeClassifier(ccp_alpha=0.0038236986452948873),\n",
       " DecisionTreeClassifier(ccp_alpha=0.004),\n",
       " DecisionTreeClassifier(ccp_alpha=0.004044444444444443),\n",
       " DecisionTreeClassifier(ccp_alpha=0.004285714285714286),\n",
       " DecisionTreeClassifier(ccp_alpha=0.004285714285714287),\n",
       " DecisionTreeClassifier(ccp_alpha=0.004376623376623378),\n",
       " DecisionTreeClassifier(ccp_alpha=0.004623376623376621),\n",
       " DecisionTreeClassifier(ccp_alpha=0.004657093161377905),\n",
       " DecisionTreeClassifier(ccp_alpha=0.004666666666666666),\n",
       " DecisionTreeClassifier(ccp_alpha=0.0048),\n",
       " DecisionTreeClassifier(ccp_alpha=0.004871794871794875),\n",
       " DecisionTreeClassifier(ccp_alpha=0.005042424242424239),\n",
       " DecisionTreeClassifier(ccp_alpha=0.005082352941176471),\n",
       " DecisionTreeClassifier(ccp_alpha=0.005090909090909097),\n",
       " DecisionTreeClassifier(ccp_alpha=0.005106060606060606),\n",
       " DecisionTreeClassifier(ccp_alpha=0.005166666666666667),\n",
       " DecisionTreeClassifier(ccp_alpha=0.005684848484848487),\n",
       " DecisionTreeClassifier(ccp_alpha=0.005893939393939396),\n",
       " DecisionTreeClassifier(ccp_alpha=0.0065636363636363635),\n",
       " DecisionTreeClassifier(ccp_alpha=0.0067107930828861),\n",
       " DecisionTreeClassifier(ccp_alpha=0.0067591036414565795),\n",
       " DecisionTreeClassifier(ccp_alpha=0.006883516483516483),\n",
       " DecisionTreeClassifier(ccp_alpha=0.006888888888888889),\n",
       " DecisionTreeClassifier(ccp_alpha=0.007000000000000001),\n",
       " DecisionTreeClassifier(ccp_alpha=0.007012994199018301),\n",
       " DecisionTreeClassifier(ccp_alpha=0.0070623376623376675),\n",
       " DecisionTreeClassifier(ccp_alpha=0.007251712992889445),\n",
       " DecisionTreeClassifier(ccp_alpha=0.00759048284798472),\n",
       " DecisionTreeClassifier(ccp_alpha=0.007711817594170538),\n",
       " DecisionTreeClassifier(ccp_alpha=0.007862348178137649),\n",
       " DecisionTreeClassifier(ccp_alpha=0.008132478632478634),\n",
       " DecisionTreeClassifier(ccp_alpha=0.008586538461538458),\n",
       " DecisionTreeClassifier(ccp_alpha=0.012851672777488471),\n",
       " DecisionTreeClassifier(ccp_alpha=0.013102415587766272),\n",
       " DecisionTreeClassifier(ccp_alpha=0.013354516483034151),\n",
       " DecisionTreeClassifier(ccp_alpha=0.01789286463132611),\n",
       " DecisionTreeClassifier(ccp_alpha=0.024147905954059024),\n",
       " DecisionTreeClassifier(ccp_alpha=0.04600728380781505)]"
      ]
     },
     "execution_count": 72,
     "metadata": {},
     "output_type": "execute_result"
    }
   ],
   "source": [
    "dt_model2"
   ]
  },
  {
   "cell_type": "code",
   "execution_count": 73,
   "metadata": {},
   "outputs": [],
   "source": [
    "train_score = [i.score(x1,y1) for i in dt_model2]"
   ]
  },
  {
   "cell_type": "code",
   "execution_count": 74,
   "metadata": {},
   "outputs": [],
   "source": [
    "test_score = [i.score(x_test,y_test) for i in dt_model2]"
   ]
  },
  {
   "cell_type": "code",
   "execution_count": 75,
   "metadata": {},
   "outputs": [
    {
     "data": {
      "text/plain": [
       "[0.5979166666666667,\n",
       " 0.6145833333333334,\n",
       " 0.5854166666666667,\n",
       " 0.5979166666666667,\n",
       " 0.6083333333333333,\n",
       " 0.6208333333333333,\n",
       " 0.60625,\n",
       " 0.6041666666666666,\n",
       " 0.6145833333333334,\n",
       " 0.59375,\n",
       " 0.5916666666666667,\n",
       " 0.6125,\n",
       " 0.61875,\n",
       " 0.60625,\n",
       " 0.6104166666666667,\n",
       " 0.6,\n",
       " 0.6083333333333333,\n",
       " 0.6041666666666666,\n",
       " 0.6270833333333333,\n",
       " 0.6041666666666666,\n",
       " 0.6083333333333333,\n",
       " 0.6104166666666667,\n",
       " 0.6,\n",
       " 0.6229166666666667,\n",
       " 0.6270833333333333,\n",
       " 0.6145833333333334,\n",
       " 0.6104166666666667,\n",
       " 0.5979166666666667,\n",
       " 0.6229166666666667,\n",
       " 0.6041666666666666,\n",
       " 0.6020833333333333,\n",
       " 0.60625,\n",
       " 0.6083333333333333,\n",
       " 0.5979166666666667,\n",
       " 0.6083333333333333,\n",
       " 0.6083333333333333,\n",
       " 0.6,\n",
       " 0.5958333333333333,\n",
       " 0.6104166666666667,\n",
       " 0.6020833333333333,\n",
       " 0.6104166666666667,\n",
       " 0.6,\n",
       " 0.5979166666666667,\n",
       " 0.6041666666666666,\n",
       " 0.6145833333333334,\n",
       " 0.6,\n",
       " 0.5958333333333333,\n",
       " 0.6083333333333333,\n",
       " 0.5979166666666667,\n",
       " 0.6104166666666667,\n",
       " 0.60625,\n",
       " 0.6083333333333333,\n",
       " 0.6104166666666667,\n",
       " 0.6,\n",
       " 0.6125,\n",
       " 0.6041666666666666,\n",
       " 0.6104166666666667,\n",
       " 0.6041666666666666,\n",
       " 0.6041666666666666,\n",
       " 0.6145833333333334,\n",
       " 0.6083333333333333,\n",
       " 0.6083333333333333,\n",
       " 0.6083333333333333,\n",
       " 0.6083333333333333,\n",
       " 0.6104166666666667,\n",
       " 0.6020833333333333,\n",
       " 0.5979166666666667,\n",
       " 0.5979166666666667,\n",
       " 0.5979166666666667,\n",
       " 0.5895833333333333,\n",
       " 0.5854166666666667,\n",
       " 0.5854166666666667,\n",
       " 0.5895833333333333,\n",
       " 0.5895833333333333,\n",
       " 0.5875,\n",
       " 0.5854166666666667,\n",
       " 0.5895833333333333,\n",
       " 0.58125,\n",
       " 0.5791666666666667,\n",
       " 0.5729166666666666,\n",
       " 0.5708333333333333,\n",
       " 0.5708333333333333,\n",
       " 0.5645833333333333,\n",
       " 0.5645833333333333,\n",
       " 0.5666666666666667,\n",
       " 0.5708333333333333,\n",
       " 0.5708333333333333,\n",
       " 0.5708333333333333,\n",
       " 0.55,\n",
       " 0.44375]"
      ]
     },
     "execution_count": 75,
     "metadata": {},
     "output_type": "execute_result"
    }
   ],
   "source": [
    "test_score"
   ]
  },
  {
   "cell_type": "code",
   "execution_count": 76,
   "metadata": {},
   "outputs": [
    {
     "data": {
      "text/plain": [
       "DecisionTreeClassifier(ccp_alpha=0.014, random_state=0)"
      ]
     },
     "execution_count": 76,
     "metadata": {},
     "output_type": "execute_result"
    }
   ],
   "source": [
    "dt_model_ccp = DecisionTreeClassifier(random_state=0,ccp_alpha=.014)\n",
    "dt_model_ccp.fit(x1,y1)"
   ]
  },
  {
   "cell_type": "code",
   "execution_count": 77,
   "metadata": {},
   "outputs": [
    {
     "data": {
      "text/plain": [
       "DecisionTreeClassifier(ccp_alpha=0.014, random_state=0)"
      ]
     },
     "execution_count": 77,
     "metadata": {},
     "output_type": "execute_result"
    }
   ],
   "source": [
    "dt_model_ccp"
   ]
  },
  {
   "cell_type": "code",
   "execution_count": 78,
   "metadata": {
    "scrolled": true
   },
   "outputs": [
    {
     "data": {
      "text/plain": [
       "[Text(558.0, 906.0, 'X[10] <= 9.85\\ngini = 0.624\\nsamples = 500\\nvalue = [1, 16, 239, 184, 52, 8]'),\n",
       " Text(279.0, 543.6, 'X[6] <= 62.5\\ngini = 0.504\\nsamples = 259\\nvalue = [1, 12, 167, 72, 6, 1]'),\n",
       " Text(139.5, 181.19999999999993, 'gini = 0.576\\nsamples = 169\\nvalue = [1, 9, 91, 61, 6, 1]'),\n",
       " Text(418.5, 181.19999999999993, 'gini = 0.271\\nsamples = 90\\nvalue = [0, 3, 76, 11, 0, 0]'),\n",
       " Text(837.0, 543.6, 'X[9] <= 0.545\\ngini = 0.657\\nsamples = 241\\nvalue = [0, 4, 72, 112, 46, 7]'),\n",
       " Text(697.5, 181.19999999999993, 'gini = 0.408\\nsamples = 32\\nvalue = [0, 2, 24, 5, 1, 0]'),\n",
       " Text(976.5, 181.19999999999993, 'gini = 0.638\\nsamples = 209\\nvalue = [0, 2, 48, 107, 45, 7]')]"
      ]
     },
     "execution_count": 78,
     "metadata": {},
     "output_type": "execute_result"
    },
    {
     "data": {
      "image/png": "[encoded data removed]",
      "text/plain": [
       "<Figure size 1440x1440 with 1 Axes>"
      ]
     },
     "metadata": {
      "needs_background": "light"
     },
     "output_type": "display_data"
    }
   ],
   "source": [
    "plt.figure(figsize=(20,20))\n",
    "tree.plot_tree(dt_model_ccp,filled=True)"
   ]
  },
  {
   "cell_type": "code",
   "execution_count": 79,
   "metadata": {},
   "outputs": [
    {
     "data": {
      "text/plain": [
       "0.596"
      ]
     },
     "execution_count": 79,
     "metadata": {},
     "output_type": "execute_result"
    }
   ],
   "source": [
    "dt_model_ccp.score(x1,y1)"
   ]
  },
  {
   "cell_type": "code",
   "execution_count": 80,
   "metadata": {},
   "outputs": [
    {
     "data": {
      "text/plain": [
       "0.5708333333333333"
      ]
     },
     "execution_count": 80,
     "metadata": {},
     "output_type": "execute_result"
    }
   ],
   "source": [
    "dt_model_ccp.score(x_test,y_test)"
   ]
  },
  {
   "cell_type": "code",
   "execution_count": 81,
   "metadata": {},
   "outputs": [
    {
     "data": {
      "text/plain": [
       "DecisionTreeClassifier()"
      ]
     },
     "execution_count": 81,
     "metadata": {},
     "output_type": "execute_result"
    }
   ],
   "source": [
    "DecisionTreeClassifier()"
   ]
  },
  {
   "cell_type": "code",
   "execution_count": 82,
   "metadata": {},
   "outputs": [],
   "source": [
    "grid_pram = {\"criterion\":['gini','entropy'],\n",
    "    \"splitter\":['best','random'],\n",
    "             \"max_depth\":range(2,40,1),\n",
    "             \"min_samples_split\":range(2,10,1),\n",
    "             \"min_samples_leaf\":range(1,10,1)\n",
    "    \n",
    "\n",
    "}"
   ]
  },
  {
   "cell_type": "code",
   "execution_count": 83,
   "metadata": {},
   "outputs": [],
   "source": [
    "grid_ccp = GridSearchCV(estimator=dt_model_ccp,param_grid=grid_pram,cv=5,n_jobs=-1)"
   ]
  },
  {
   "cell_type": "code",
   "execution_count": 84,
   "metadata": {},
   "outputs": [
    {
     "name": "stderr",
     "output_type": "stream",
     "text": [
      "/Users/ekcs011/opt/anaconda3/lib/python3.8/site-packages/sklearn/model_selection/_split.py:666: UserWarning: The least populated class in y has only 1 members, which is less than n_splits=5.\n",
      "  warnings.warn((\"The least populated class in y has only %d\"\n"
     ]
    },
    {
     "data": {
      "text/plain": [
       "GridSearchCV(cv=5,\n",
       "             estimator=DecisionTreeClassifier(ccp_alpha=0.014, random_state=0),\n",
       "             n_jobs=-1,\n",
       "             param_grid={'criterion': ['gini', 'entropy'],\n",
       "                         'max_depth': range(2, 40),\n",
       "                         'min_samples_leaf': range(1, 10),\n",
       "                         'min_samples_split': range(2, 10),\n",
       "                         'splitter': ['best', 'random']})"
      ]
     },
     "execution_count": 84,
     "metadata": {},
     "output_type": "execute_result"
    }
   ],
   "source": [
    "grid_ccp.fit(x1,y1)"
   ]
  },
  {
   "cell_type": "raw",
   "metadata": {},
   "source": [
    "  "
   ]
  },
  {
   "cell_type": "code",
   "execution_count": 85,
   "metadata": {},
   "outputs": [
    {
     "data": {
      "text/plain": [
       "{'criterion': 'entropy',\n",
       " 'max_depth': 15,\n",
       " 'min_samples_leaf': 2,\n",
       " 'min_samples_split': 2,\n",
       " 'splitter': 'random'}"
      ]
     },
     "execution_count": 85,
     "metadata": {},
     "output_type": "execute_result"
    }
   ],
   "source": [
    "grid_ccp.best_params_"
   ]
  },
  {
   "cell_type": "code",
   "execution_count": 86,
   "metadata": {},
   "outputs": [],
   "source": [
    "dt_cpp_new = DecisionTreeClassifier(criterion='entropy',max_depth=17,min_samples_leaf= 1,min_samples_split= 3,splitter= 'random')"
   ]
  },
  {
   "cell_type": "code",
   "execution_count": 87,
   "metadata": {},
   "outputs": [
    {
     "data": {
      "text/plain": [
       "DecisionTreeClassifier(criterion='entropy', max_depth=17, min_samples_split=3,\n",
       "                       splitter='random')"
      ]
     },
     "execution_count": 87,
     "metadata": {},
     "output_type": "execute_result"
    }
   ],
   "source": [
    "dt_cpp_new.fit(x1,y1)"
   ]
  },
  {
   "cell_type": "code",
   "execution_count": 88,
   "metadata": {},
   "outputs": [
    {
     "data": {
      "text/plain": [
       "0.5710455764075067"
      ]
     },
     "execution_count": 88,
     "metadata": {},
     "output_type": "execute_result"
    }
   ],
   "source": [
    "dt_cpp_new.score(x_train,y_train)"
   ]
  },
  {
   "cell_type": "code",
   "execution_count": 89,
   "metadata": {},
   "outputs": [
    {
     "data": {
      "text/plain": [
       "0.6479166666666667"
      ]
     },
     "execution_count": 89,
     "metadata": {},
     "output_type": "execute_result"
    }
   ],
   "source": [
    "dt_cpp_new.score(x_test,y_test)"
   ]
  },
  {
   "cell_type": "code",
   "execution_count": 90,
   "metadata": {},
   "outputs": [],
   "source": [
    "pred = dt_cpp_new.predict(x_train)"
   ]
  },
  {
   "cell_type": "code",
   "execution_count": 91,
   "metadata": {},
   "outputs": [
    {
     "data": {
      "text/plain": [
       "array([[  2,   1,   4,   1,   0,   0],\n",
       "       [  1,  10,   9,   8,   7,   1],\n",
       "       [  4,  13, 306, 129,  15,   1],\n",
       "       [  3,  11, 114, 253,  50,  15],\n",
       "       [  0,   6,  27,  33,  60,  19],\n",
       "       [  0,   0,   5,   2,   1,   8]])"
      ]
     },
     "execution_count": 91,
     "metadata": {},
     "output_type": "execute_result"
    }
   ],
   "source": [
    "confusion_matrix(y_train,pred)"
   ]
  },
  {
   "cell_type": "code",
   "execution_count": null,
   "metadata": {},
   "outputs": [],
   "source": []
  },
  {
   "cell_type": "code",
   "execution_count": null,
   "metadata": {},
   "outputs": [],
   "source": []
  },
  {
   "cell_type": "code",
   "execution_count": null,
   "metadata": {},
   "outputs": [],
   "source": []
  },
  {
   "cell_type": "code",
   "execution_count": 93,
   "metadata": {},
   "outputs": [],
   "source": [
    "x = df.drop(columns=['quality'])"
   ]
  },
  {
   "cell_type": "code",
   "execution_count": 94,
   "metadata": {},
   "outputs": [],
   "source": [
    "y = df.quality"
   ]
  },
  {
   "cell_type": "code",
   "execution_count": null,
   "metadata": {},
   "outputs": [],
   "source": []
  },
  {
   "cell_type": "code",
   "execution_count": null,
   "metadata": {},
   "outputs": [],
   "source": []
  },
  {
   "cell_type": "code",
   "execution_count": null,
   "metadata": {},
   "outputs": [],
   "source": []
  },
  {
   "cell_type": "code",
   "execution_count": null,
   "metadata": {},
   "outputs": [],
   "source": []
  },
  {
   "cell_type": "code",
   "execution_count": null,
   "metadata": {},
   "outputs": [],
   "source": []
  },
  {
   "cell_type": "code",
   "execution_count": null,
   "metadata": {},
   "outputs": [],
   "source": []
  }
 ],
 "metadata": {
  "kernelspec": {
   "display_name": "Python 3",
   "language": "python",
   "name": "python3"
  },
  "language_info": {
   "codemirror_mode": {
    "name": "ipython",
    "version": 3
   },
   "file_extension": ".py",
   "mimetype": "text/x-python",
   "name": "python",
   "nbconvert_exporter": "python",
   "pygments_lexer": "ipython3",
   "version": "3.8.5"
  }
 },
 "nbformat": 4,
 "nbformat_minor": 4
}
