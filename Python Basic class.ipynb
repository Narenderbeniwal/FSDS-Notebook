{
 "cells": [
  {
   "cell_type": "markdown",
   "id": "6fe47fe7",
   "metadata": {},
   "source": [
    "## Define Python\n"
   ]
  },
  {
   "cell_type": "raw",
   "id": "7b0b0e27",
   "metadata": {},
   "source": [
    "Python is an interpreted, object-oriented programming language similar to PERL, that has gained popularity because of its clear syntax and readability. Python is said to be relatively easy to learn and portable, meaning its statements can be interpreted in a number of operating systems, including UNIX-based systems, Mac OS, MS-DOS, OS/2, and various versions of Microsoft Windows 98. Python was created by Guido van Rossum, a former resident of the Netherlands, whose favorite comedy group at the time was Monty Python's Flying Circus. The source code is freely available and open for modification and reuse. Python has a significant number of users.\n",
    "\n",
    "A notable feature of Python is its indenting of source statements to make the code easier to read. Python offers dynamic data type, ready-made class, and interfaces to many system calls and libraries. It can be extended, using the C or C++ language.\n",
    "\n",
    "Python can be used as the script in Microsoft's Active Server Page (ASP) technology. The scoreboard system for the Melbourne (Australia) Cricket Ground is written in Python. Z Object Publishing Environment, a popular Web application server, is also written in the Python language.\n",
    "\n",
    "Python is a programming language that lets you work quickly and integrate systems more\n",
    "efficiently.\n",
    "There are two major Python versions- Python 2 and Python 3.\n",
    "• On 16 October 2000, Python 2.0 was released with many new features.\n",
    "• On 3rd December 2008, Python 3.0 was released with more testing and includes new\n",
    "features"
   ]
  },
  {
   "cell_type": "markdown",
   "id": "63ab662a",
   "metadata": {},
   "source": [
    "## Various Featrues of Python: "
   ]
  },
  {
   "cell_type": "raw",
   "id": "f552916b",
   "metadata": {},
   "source": [
    "1. Quality of software: Python was meant for readability. Its reusable and maintainable as compared to other languages. Its easier to understand. It supports all the modern features like OOPs and functional programming.\n",
    "Productivity of Developers: The same program which is written in other high-level languages like c++ or java can be written in one-third or one-fifth line of codes. That means debugging can be easy and it will be less prone to error which in turn increases the productivity of the developers.\n",
    "2. Portability: Mostly it’s platform-independent. It can run on any platform or OS with minor or no change at all which makes it a highly portable language. Now you can use MircoPython to interact with hardware as well. It can be used on most of the edge devices.\n",
    "3. Supporting Libraries: Python already has a lot of inbuilt libraries that come with the standard python package which you download from its official site. With these libraries, you can build lots of basic applications or day to day automation tasks like copying data in bulk from one place to another. Apart from this, there’s a huge list of third-party libraries like Numpy, Matplotlib, Scikit Learn, etc.\n",
    "4. Fun to use: Its simplicity and availability of lots of supporting libraries plus huge open source community support make development in python a breeze. That’s why its widely preferred by hobbyists as well."
   ]
  },
  {
   "cell_type": "markdown",
   "id": "cecb693f",
   "metadata": {},
   "source": [
    "## Application of Python?"
   ]
  },
  {
   "cell_type": "raw",
   "id": "8b56ca23",
   "metadata": {},
   "source": [
    "1. System Programming: System Programming consists of a variety of programs that support the operations of a\n",
    "computer. This software makes it possible for the user to focus on an application or the\n",
    "other problem to be solved.\n",
    "2. Graphical User Interface: Graphical user interfaces would become the standard of user-centered design in software application programming, providing users the capability to intuitively operate computers and other electronic devices through the direct manipulation of graphical icons such as buttons, scroll bars, windows, tabs, menus, cursors, and the mouse pointing device. Many modern graphical user interfaces feature touchscreen and voice-command interaction capabilities.\n",
    "3.Web Scrapping: Suppose you want some information from a website? Let’s say a paragraph on Donald Trump! What do you do? Well, you can copy and paste the information from Wikipedia to your own file. But what if you want to obtain large amounts of information from a website as quickly as possible? Such as large amounts of data from a website to train a Machine Learning algorithm? In such a situation, copy and paste is not going to work! And that’s when you’ll need to use Web Scraping. \n",
    "\n",
    "\n",
    "4.Managing Database: Database management involves the monitoring, administration, and maintenance of the databases and database groups in your enterprise.\n",
    "5. Fast Prototyping: What they mean is that a data analyst who knows how to program e.g. Python will often quickly write code which gives the correct answer for small to medium data sets. Then, once the idea is validated, for various reasons the code has to be rewritten, sometimes in an entirely different language like C++ (second language problem).\n",
    "\n",
    "\n",
    "6. Numeric / Scientific Programming: In computer programming, a scientific programming language can refer to two degrees of the same concept.\n",
    "\n",
    "In a wide sense, a scientific programming language is a programming language that is used widely for computational science and computational mathematics. In this sense, C/C++ and Python[1] can be considered scientific programming languages.\n",
    "\n",
    "In a stronger sense, a scientific programming language is one that is designed and optimized for the use of mathematical formula and matrices. Such languages are characterized not only by the availability of libraries performing mathematical or scientific functions, but by the syntax of the language itself. For example, neither C++ nor Python have built-in matrix types or functions for matrix arithmetic (addition, multiplication etc); instead, this functionality is made available through standard libraries. Scientific programming languages in the stronger sense include ALGOL, APL, Fortran, J, Julia, Maple, MATLAB and R.\n",
    "7.Game development: Although it's not as popular as C++ with DirectX and OpenGL, Python does support game development. ... PyGame is a library that is developer-friendly and easy to use for building games. Python is an easy language to start with, so building games in Python is not a hard thing to do either.\n",
    "8.Image Processing: \n",
    "Image processing allows us to transform and manipulate thousands of images at a time and extract useful insights from them. It has a wide range of applications in almost every field. Python is one of the widely used programming languages for this purpose.\n",
    "9. Robotics: PyroBot is a Python library with some C++ code for processing camera images. It has connections to Player, Stage, and Gazebo. It also contains its own simulator written completely in Python. It can directly control a variety of real robots, including the Pioneer, Khepera, AIBO, and Hemisson.\n",
    "\n",
    "The ideas from PyroBot continue to evolve as Myro, short for My Robot, in the Institute for Personal Robots in Education software, although it is no longer for Python only. Myro can be used by many other computer languages as well.\n",
    "10. Automation: The skillsets of humans and computers overlap in a lot of key areas. We’re both thinking creatures, in that the main thing we do is take in information and mull it over. We’re also both language-oriented creatures, in that our worlds tend to revolve around sets of symbols we use to communicate and be communicated to. The similarities more or less end there, though surgically embedded microchips are becoming increasingly common.\n",
    "\n",
    "As silly fleshy creatures, we can do a lot of things that computers aren’t terribly good at yet. Like exercise critical and contextual judgement in a rigorous way, or practice empathy. On the other hand, the consistency, accuracy, and rapid-fire speed of computers makes them excellent at doing things that we either can’t do, or would rather not do. Like the performance of repetitive, tedious tasks.\n",
    "11. Data science: \n",
    "\n",
    "\n",
    "12. Data Mining: Data mining is a process of extracting and discovering patterns in large data sets involving methods at the intersection of machine learning, statistics, and database systems. Data mining is an interdisciplinary subfield of computer science and statistics with an overall goal to extract information (with intelligent methods) from a data set and transform the information into a comprehensible structure for further use. Data mining is the analysis step of the \"knowledge discovery in databases\" process, or KDD.Aside from the raw analysis step, it also involves database and data management aspects, data pre-processing, model and inference considerations, interestingness metrics, complexity considerations, post-processing of discovered structures, visualization, and online updating.\n",
    "14. Machine Learning: Machine learning (ML) is the study of computer algorithms that improve automatically through experience and by the use of data. It is seen as a part of artificial intelligence. Machine learning algorithms build a model based on sample data, known as \"training data\", in order to make predictions or decisions without being explicitly programmed to do so. Machine learning algorithms are used in a wide variety of applications, such as in medicine, email filtering, speech recognition, and computer vision, where it is difficult or unfeasible to develop conventional algorithms to perform the needed tasks.\n",
    "\n",
    "\n",
    "15. Deep Learning: Deep learning (also known as deep structured learning) is part of a broader family of machine learning methods based on artificial neural networks with representation learning. Learning can be supervised, semi-supervised or unsupervised.\n",
    "\n",
    "\n",
    "16. Artificial Intelligence: Artificial intelligence (AI) is intelligence demonstrated by machines, as opposed to the natural intelligence displayed by humans or animals. Leading AI textbooks define the field as the study of \"intelligent agents\": any system that perceives its environment and takes actions that maximize its chance of achieving its goals.[a] Some popular accounts use the term \"artificial intelligence\" to describe machines that mimic \"cognitive\" functions that humans associate with the human mind, such as \"learning\" and \"problem solving\"\n"
   ]
  },
  {
   "cell_type": "code",
   "execution_count": null,
   "id": "87a810e9",
   "metadata": {},
   "outputs": [],
   "source": []
  },
  {
   "cell_type": "markdown",
   "id": "72929f37",
   "metadata": {},
   "source": [
    "## Beginning with Python programming:\n"
   ]
  },
  {
   "cell_type": "raw",
   "id": "fea064ea",
   "metadata": {},
   "source": [
    "1) Finding an Interpreter:\n",
    "Before we start Python programming, we need to have an interpreter to interpret and run our\n",
    "programs. There are certain online interpreters like https://ide.geeksforgeeks.org/,\n",
    "http://ideone.com/ or http://codepad.org/ that can be used to start Python without installing\n",
    "an interpreter.\n",
    "Windows: There are many interpreters available freely to run Python scripts like IDLE\n",
    "(Integrated Development Environment) which is installed when you install the python\n",
    "software from http://python.org/downloads/"
   ]
  },
  {
   "cell_type": "markdown",
   "id": "ed1a6b01",
   "metadata": {},
   "source": [
    "## Writing first program:\n"
   ]
  },
  {
   "cell_type": "raw",
   "id": "54293ba5",
   "metadata": {},
   "source": [
    "# Script Begins\n",
    "Statement1\n",
    "2\n",
    "Statement2\n",
    "Statement3\n",
    "# Script Ends"
   ]
  },
  {
   "cell_type": "markdown",
   "id": "4699ecee",
   "metadata": {},
   "source": [
    "## Differences between scripting language and programming language:\n"
   ]
  },
  {
   "cell_type": "markdown",
   "id": "4d3fc2e5",
   "metadata": {},
   "source": [
    "## Why to use Python:"
   ]
  },
  {
   "cell_type": "raw",
   "id": "8e0a0038",
   "metadata": {},
   "source": [
    "The following are the primary factors to use python in day-to-day life:\n",
    "1. Python is object-oriented: Object Oriented programming (OOP) is a programming paradigm that relies on the concept of classes and objects. It is used to structure a software program into simple, reusable pieces of code blueprints (usually called classes), which are used to create individual instances of objects.\n",
    "Structure supports such concepts as polymorphism, operation overloading and\n",
    "multiple inheritance.\n",
    "2. Indentation\n",
    "Indentation is one of the greatest feature in python\n",
    "3\n",
    "3. It’s free (open source)\n",
    "Downloading python and installing python is free and easy\n",
    "4. It’s Powerful\n",
    " Dynamic typing\n",
    " Built-in types and tools\n",
    " Library utilities\n",
    " Third party utilities (e.g. Numeric, NumPy, sciPy)\n",
    " Automatic memory management\n",
    "5. It’s Portable\n",
    " Python runs virtually every major platform used today\n",
    " As long as you have a compaitable python interpreter installed, python\n",
    "programs will run in exactly the same manner, irrespective of platform.\n",
    "6. It’s easy to use and learn\n",
    " No intermediate compile\n",
    " Python Programs are compiled automatically to an intermediate form called\n",
    "byte code, which the interpreter then reads.\n",
    " This gives python the development speed of an interpreter without the\n",
    "performance loss inherent in purely interpreted languages.\n",
    " Structure and syntax are pretty intuitive and easy to grasp.\n",
    "7. Interpreted Language\n",
    "Python is processed at runtime by python Interpreter\n",
    "8. Interactive Programming Language\n",
    "Users can interact with the python interpreter directly for writing the programs\n",
    "9. Straight forward syntax\n",
    "The formation of python syntax is simple and straight forward "
   ]
  },
  {
   "cell_type": "code",
   "execution_count": 1,
   "id": "2ab1640b",
   "metadata": {},
   "outputs": [
    {
     "name": "stdout",
     "output_type": "stream",
     "text": [
      "The Zen of Python, by Tim Peters\n",
      "\n",
      "Beautiful is better than ugly.\n",
      "Explicit is better than implicit.\n",
      "Simple is better than complex.\n",
      "Complex is better than complicated.\n",
      "Flat is better than nested.\n",
      "Sparse is better than dense.\n",
      "Readability counts.\n",
      "Special cases aren't special enough to break the rules.\n",
      "Although practicality beats purity.\n",
      "Errors should never pass silently.\n",
      "Unless explicitly silenced.\n",
      "In the face of ambiguity, refuse the temptation to guess.\n",
      "There should be one-- and preferably only one --obvious way to do it.\n",
      "Although that way may not be obvious at first unless you're Dutch.\n",
      "Now is better than never.\n",
      "Although never is often better than *right* now.\n",
      "If the implementation is hard to explain, it's a bad idea.\n",
      "If the implementation is easy to explain, it may be a good idea.\n",
      "Namespaces are one honking great idea -- let's do more of those!\n"
     ]
    }
   ],
   "source": [
    "import this"
   ]
  },
  {
   "cell_type": "code",
   "execution_count": 10,
   "id": "ca1ed4d1",
   "metadata": {},
   "outputs": [
    {
     "name": "stdout",
     "output_type": "stream",
     "text": [
      "hello\n"
     ]
    }
   ],
   "source": [
    "print(\"hello\")"
   ]
  },
  {
   "cell_type": "code",
   "execution_count": 11,
   "id": "4e4f4db5",
   "metadata": {},
   "outputs": [
    {
     "data": {
      "text/plain": [
       "15"
      ]
     },
     "execution_count": 11,
     "metadata": {},
     "output_type": "execute_result"
    }
   ],
   "source": []
  },
  {
   "cell_type": "code",
   "execution_count": null,
   "id": "9de0fddc",
   "metadata": {},
   "outputs": [],
   "source": []
  }
 ],
 "metadata": {
  "kernelspec": {
   "display_name": "Python 3",
   "language": "python",
   "name": "python3"
  },
  "language_info": {
   "codemirror_mode": {
    "name": "ipython",
    "version": 3
   },
   "file_extension": ".py",
   "mimetype": "text/x-python",
   "name": "python",
   "nbconvert_exporter": "python",
   "pygments_lexer": "ipython3",
   "version": "3.8.8"
  }
 },
 "nbformat": 4,
 "nbformat_minor": 5
}
