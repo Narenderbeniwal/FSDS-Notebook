{
 "cells": [
  {
   "cell_type": "code",
   "execution_count": 1,
   "id": "78a791e5",
   "metadata": {},
   "outputs": [
    {
     "name": "stdout",
     "output_type": "stream",
     "text": [
      "this is my first program\n"
     ]
    }
   ],
   "source": [
    "print( \"this is my first program\")"
   ]
  },
  {
   "cell_type": "code",
   "execution_count": 4,
   "id": "50ad2fd7",
   "metadata": {},
   "outputs": [
    {
     "name": "stdout",
     "output_type": "stream",
     "text": [
      " my college name is mait scec34\n"
     ]
    }
   ],
   "source": [
    "print(\" my college name is mait scec34\")"
   ]
  },
  {
   "cell_type": "code",
   "execution_count": 5,
   "id": "ed938e0c",
   "metadata": {},
   "outputs": [],
   "source": [
    "n = \"my name \""
   ]
  },
  {
   "cell_type": "code",
   "execution_count": 6,
   "id": "334345fb",
   "metadata": {},
   "outputs": [
    {
     "data": {
      "text/plain": [
       "'my name '"
      ]
     },
     "execution_count": 6,
     "metadata": {},
     "output_type": "execute_result"
    }
   ],
   "source": [
    "n"
   ]
  },
  {
   "cell_type": "code",
   "execution_count": 10,
   "id": "f1ec6693",
   "metadata": {},
   "outputs": [
    {
     "name": "stdout",
     "output_type": "stream",
     "text": [
      "hello\n"
     ]
    }
   ],
   "source": [
    "print('hello')"
   ]
  },
  {
   "cell_type": "code",
   "execution_count": 13,
   "id": "ffd7df17",
   "metadata": {},
   "outputs": [
    {
     "ename": "SyntaxError",
     "evalue": "EOL while scanning string literal (<ipython-input-13-d75fa0ac2a26>, line 1)",
     "output_type": "error",
     "traceback": [
      "\u001b[1;36m  File \u001b[1;32m\"<ipython-input-13-d75fa0ac2a26>\"\u001b[1;36m, line \u001b[1;32m1\u001b[0m\n\u001b[1;33m    print('this is my first program)\u001b[0m\n\u001b[1;37m                                    ^\u001b[0m\n\u001b[1;31mSyntaxError\u001b[0m\u001b[1;31m:\u001b[0m EOL while scanning string literal\n"
     ]
    }
   ],
   "source": [
    "print('this is my first program)"
   ]
  },
  {
   "cell_type": "markdown",
   "id": "ce23a22a",
   "metadata": {},
   "source": [
    "## today is our 2nd day of class\n"
   ]
  },
  {
   "cell_type": "code",
   "execution_count": 17,
   "id": "310e53af",
   "metadata": {},
   "outputs": [
    {
     "data": {
      "text/plain": [
       "'SDAS\\nDASD\\nCDGf\\nfhf\\nfbfgh\\nfdhf\\nhfh\\nfgh'"
      ]
     },
     "execution_count": 17,
     "metadata": {},
     "output_type": "execute_result"
    }
   ],
   "source": [
    "## THIS IS PYTHIN CLASS\n",
    "'''SDAS\n",
    "DASD \n",
    "CDGf\n",
    "fhf\n",
    "fbfgh\n",
    "fdhf\n",
    "hfh\n",
    "fgh'''"
   ]
  },
  {
   "cell_type": "code",
   "execution_count": 22,
   "id": "63df2074",
   "metadata": {},
   "outputs": [],
   "source": [
    "##print(\"my name is narender beniwal\""
   ]
  },
  {
   "cell_type": "code",
   "execution_count": 21,
   "id": "72ad201e",
   "metadata": {},
   "outputs": [
    {
     "ename": "SyntaxError",
     "evalue": "unexpected EOF while parsing (<ipython-input-21-b607385513f6>, line 1)",
     "output_type": "error",
     "traceback": [
      "\u001b[1;36m  File \u001b[1;32m\"<ipython-input-21-b607385513f6>\"\u001b[1;36m, line \u001b[1;32m1\u001b[0m\n\u001b[1;33m    print(\"my name is narender beniwal\"\u001b[0m\n\u001b[1;37m                                       ^\u001b[0m\n\u001b[1;31mSyntaxError\u001b[0m\u001b[1;31m:\u001b[0m unexpected EOF while parsing\n"
     ]
    }
   ],
   "source": [
    "print(\"my name is narender beniwal\""
   ]
  },
  {
   "cell_type": "code",
   "execution_count": 23,
   "id": "3c3072b5",
   "metadata": {},
   "outputs": [],
   "source": [
    "india =23456"
   ]
  },
  {
   "cell_type": "code",
   "execution_count": 24,
   "id": "5b740c28",
   "metadata": {},
   "outputs": [
    {
     "data": {
      "text/plain": [
       "10"
      ]
     },
     "execution_count": 24,
     "metadata": {},
     "output_type": "execute_result"
    }
   ],
   "source": [
    "a"
   ]
  },
  {
   "cell_type": "raw",
   "id": "96d8d2cc",
   "metadata": {},
   "source": [
    "Rules for variables \n",
    "1.  A variable name must start with a letter or the underscore  character \n",
    "2. A variable name cannot start with a number \n",
    "3.  A variable name can only contain alpha-numeric characters and underscores (A-z, 0-9, and _ ) \n",
    "4.  Variable names are case-sensitive (age, Age and AGE are three different variables) \n"
   ]
  },
  {
   "cell_type": "code",
   "execution_count": 26,
   "id": "abe116d0",
   "metadata": {},
   "outputs": [],
   "source": [
    "laater = 42142"
   ]
  },
  {
   "cell_type": "code",
   "execution_count": 27,
   "id": "29201153",
   "metadata": {},
   "outputs": [],
   "source": [
    "_name = \"narender\""
   ]
  },
  {
   "cell_type": "code",
   "execution_count": 28,
   "id": "1543f0b0",
   "metadata": {},
   "outputs": [
    {
     "data": {
      "text/plain": [
       "'narender'"
      ]
     },
     "execution_count": 28,
     "metadata": {},
     "output_type": "execute_result"
    }
   ],
   "source": [
    "_name"
   ]
  },
  {
   "cell_type": "code",
   "execution_count": 29,
   "id": "383f392b",
   "metadata": {},
   "outputs": [
    {
     "ename": "SyntaxError",
     "evalue": "invalid syntax (<ipython-input-29-c4f89f3d0e66>, line 1)",
     "output_type": "error",
     "traceback": [
      "\u001b[1;36m  File \u001b[1;32m\"<ipython-input-29-c4f89f3d0e66>\"\u001b[1;36m, line \u001b[1;32m1\u001b[0m\n\u001b[1;33m    212name= \"narender\"\u001b[0m\n\u001b[1;37m       ^\u001b[0m\n\u001b[1;31mSyntaxError\u001b[0m\u001b[1;31m:\u001b[0m invalid syntax\n"
     ]
    }
   ],
   "source": [
    "212name= \"narender\""
   ]
  },
  {
   "cell_type": "code",
   "execution_count": 30,
   "id": "408a6838",
   "metadata": {},
   "outputs": [],
   "source": [
    "name1234= \"narender\""
   ]
  },
  {
   "cell_type": "code",
   "execution_count": 31,
   "id": "b21da824",
   "metadata": {},
   "outputs": [
    {
     "data": {
      "text/plain": [
       "'narender'"
      ]
     },
     "execution_count": 31,
     "metadata": {},
     "output_type": "execute_result"
    }
   ],
   "source": [
    "name1234"
   ]
  },
  {
   "cell_type": "code",
   "execution_count": 32,
   "id": "afa263cc",
   "metadata": {},
   "outputs": [
    {
     "ename": "SyntaxError",
     "evalue": "invalid syntax (<ipython-input-32-3a42ef5961f3>, line 1)",
     "output_type": "error",
     "traceback": [
      "\u001b[1;36m  File \u001b[1;32m\"<ipython-input-32-3a42ef5961f3>\"\u001b[1;36m, line \u001b[1;32m1\u001b[0m\n\u001b[1;33m    namew@ = 312312\u001b[0m\n\u001b[1;37m           ^\u001b[0m\n\u001b[1;31mSyntaxError\u001b[0m\u001b[1;31m:\u001b[0m invalid syntax\n"
     ]
    }
   ],
   "source": [
    "namew@ = 312312"
   ]
  },
  {
   "cell_type": "code",
   "execution_count": 33,
   "id": "7aa53185",
   "metadata": {},
   "outputs": [
    {
     "ename": "SyntaxError",
     "evalue": "invalid syntax (<ipython-input-33-62dcb220271e>, line 1)",
     "output_type": "error",
     "traceback": [
      "\u001b[1;36m  File \u001b[1;32m\"<ipython-input-33-62dcb220271e>\"\u001b[1;36m, line \u001b[1;32m1\u001b[0m\n\u001b[1;33m    name& = \"beniwal\"\u001b[0m\n\u001b[1;37m          ^\u001b[0m\n\u001b[1;31mSyntaxError\u001b[0m\u001b[1;31m:\u001b[0m invalid syntax\n"
     ]
    }
   ],
   "source": [
    "name& = \"beniwal\""
   ]
  },
  {
   "cell_type": "code",
   "execution_count": 34,
   "id": "f097dfdb",
   "metadata": {},
   "outputs": [
    {
     "ename": "SyntaxError",
     "evalue": "invalid syntax (<ipython-input-34-9eca29f6d008>, line 1)",
     "output_type": "error",
     "traceback": [
      "\u001b[1;36m  File \u001b[1;32m\"<ipython-input-34-9eca29f6d008>\"\u001b[1;36m, line \u001b[1;32m1\u001b[0m\n\u001b[1;33m    name! = \"narender\"\u001b[0m\n\u001b[1;37m        ^\u001b[0m\n\u001b[1;31mSyntaxError\u001b[0m\u001b[1;31m:\u001b[0m invalid syntax\n"
     ]
    }
   ],
   "source": [
    "name! = \"narender\""
   ]
  },
  {
   "cell_type": "code",
   "execution_count": 35,
   "id": "8ee1db58",
   "metadata": {},
   "outputs": [],
   "source": [
    "age = 23"
   ]
  },
  {
   "cell_type": "code",
   "execution_count": 36,
   "id": "0a38d065",
   "metadata": {},
   "outputs": [],
   "source": [
    "Age = 24"
   ]
  },
  {
   "cell_type": "code",
   "execution_count": 37,
   "id": "7ddb5c3d",
   "metadata": {},
   "outputs": [],
   "source": [
    "AGE = 28"
   ]
  },
  {
   "cell_type": "code",
   "execution_count": 38,
   "id": "38ca6051",
   "metadata": {},
   "outputs": [
    {
     "data": {
      "text/plain": [
       "23"
      ]
     },
     "execution_count": 38,
     "metadata": {},
     "output_type": "execute_result"
    }
   ],
   "source": [
    "age"
   ]
  },
  {
   "cell_type": "code",
   "execution_count": 39,
   "id": "4fbb7280",
   "metadata": {},
   "outputs": [
    {
     "data": {
      "text/plain": [
       "24"
      ]
     },
     "execution_count": 39,
     "metadata": {},
     "output_type": "execute_result"
    }
   ],
   "source": [
    "Age"
   ]
  },
  {
   "cell_type": "code",
   "execution_count": 40,
   "id": "cd7fee77",
   "metadata": {},
   "outputs": [
    {
     "data": {
      "text/plain": [
       "28"
      ]
     },
     "execution_count": 40,
     "metadata": {},
     "output_type": "execute_result"
    }
   ],
   "source": [
    "AGE"
   ]
  },
  {
   "cell_type": "code",
   "execution_count": 41,
   "id": "43b1d451",
   "metadata": {},
   "outputs": [],
   "source": [
    "## Assigning the value to the variables"
   ]
  },
  {
   "cell_type": "code",
   "execution_count": 42,
   "id": "5cbf2a99",
   "metadata": {},
   "outputs": [],
   "source": [
    "a =10"
   ]
  },
  {
   "cell_type": "code",
   "execution_count": 66,
   "id": "4d0d64b3",
   "metadata": {},
   "outputs": [],
   "source": [
    "a = (1212,3,32,43445,\"name\", \"college\") ##  Multiple assignment in the variable "
   ]
  },
  {
   "cell_type": "code",
   "execution_count": 67,
   "id": "0b9757b3",
   "metadata": {},
   "outputs": [
    {
     "data": {
      "text/plain": [
       "(1212, 3, 32, 43445, 'name', 'college')"
      ]
     },
     "execution_count": 67,
     "metadata": {},
     "output_type": "execute_result"
    }
   ],
   "source": [
    "a"
   ]
  },
  {
   "cell_type": "code",
   "execution_count": 65,
   "id": "1bc352e6",
   "metadata": {},
   "outputs": [],
   "source": [
    "a=b=c=d=999"
   ]
  },
  {
   "cell_type": "code",
   "execution_count": 48,
   "id": "bedc49a8",
   "metadata": {},
   "outputs": [
    {
     "data": {
      "text/plain": [
       "999"
      ]
     },
     "execution_count": 48,
     "metadata": {},
     "output_type": "execute_result"
    }
   ],
   "source": [
    "a"
   ]
  },
  {
   "cell_type": "code",
   "execution_count": 49,
   "id": "a3bd87eb",
   "metadata": {},
   "outputs": [
    {
     "data": {
      "text/plain": [
       "999"
      ]
     },
     "execution_count": 49,
     "metadata": {},
     "output_type": "execute_result"
    }
   ],
   "source": [
    "b"
   ]
  },
  {
   "cell_type": "code",
   "execution_count": 50,
   "id": "c24f9eb1",
   "metadata": {},
   "outputs": [
    {
     "data": {
      "text/plain": [
       "999"
      ]
     },
     "execution_count": 50,
     "metadata": {},
     "output_type": "execute_result"
    }
   ],
   "source": [
    "c"
   ]
  },
  {
   "cell_type": "code",
   "execution_count": 51,
   "id": "4939c4ef",
   "metadata": {},
   "outputs": [
    {
     "data": {
      "text/plain": [
       "999"
      ]
     },
     "execution_count": 51,
     "metadata": {},
     "output_type": "execute_result"
    }
   ],
   "source": [
    "d"
   ]
  },
  {
   "cell_type": "code",
   "execution_count": 52,
   "id": "dfff5878",
   "metadata": {},
   "outputs": [],
   "source": [
    "a=c=b=1321454"
   ]
  },
  {
   "cell_type": "code",
   "execution_count": 53,
   "id": "bbdf3b3b",
   "metadata": {},
   "outputs": [
    {
     "data": {
      "text/plain": [
       "1321454"
      ]
     },
     "execution_count": 53,
     "metadata": {},
     "output_type": "execute_result"
    }
   ],
   "source": [
    "a"
   ]
  },
  {
   "cell_type": "code",
   "execution_count": 54,
   "id": "6b562de9",
   "metadata": {},
   "outputs": [
    {
     "data": {
      "text/plain": [
       "1321454"
      ]
     },
     "execution_count": 54,
     "metadata": {},
     "output_type": "execute_result"
    }
   ],
   "source": [
    "c"
   ]
  },
  {
   "cell_type": "code",
   "execution_count": 55,
   "id": "2f4ae891",
   "metadata": {},
   "outputs": [
    {
     "data": {
      "text/plain": [
       "1321454"
      ]
     },
     "execution_count": 55,
     "metadata": {},
     "output_type": "execute_result"
    }
   ],
   "source": [
    "b"
   ]
  },
  {
   "cell_type": "code",
   "execution_count": 56,
   "id": "afd41f10",
   "metadata": {},
   "outputs": [],
   "source": [
    "a,b,c= 12,65,\"narender\""
   ]
  },
  {
   "cell_type": "code",
   "execution_count": 57,
   "id": "efc9db16",
   "metadata": {},
   "outputs": [
    {
     "data": {
      "text/plain": [
       "12"
      ]
     },
     "execution_count": 57,
     "metadata": {},
     "output_type": "execute_result"
    }
   ],
   "source": [
    "a"
   ]
  },
  {
   "cell_type": "code",
   "execution_count": 58,
   "id": "378435b3",
   "metadata": {},
   "outputs": [
    {
     "data": {
      "text/plain": [
       "65"
      ]
     },
     "execution_count": 58,
     "metadata": {},
     "output_type": "execute_result"
    }
   ],
   "source": [
    "b"
   ]
  },
  {
   "cell_type": "code",
   "execution_count": 59,
   "id": "48670bbc",
   "metadata": {},
   "outputs": [
    {
     "data": {
      "text/plain": [
       "'narender'"
      ]
     },
     "execution_count": 59,
     "metadata": {},
     "output_type": "execute_result"
    }
   ],
   "source": [
    "c"
   ]
  },
  {
   "cell_type": "code",
   "execution_count": 60,
   "id": "0eba136a",
   "metadata": {},
   "outputs": [
    {
     "name": "stdout",
     "output_type": "stream",
     "text": [
      "narender\n"
     ]
    }
   ],
   "source": [
    "print(c)"
   ]
  },
  {
   "cell_type": "code",
   "execution_count": 61,
   "id": "9294d634",
   "metadata": {},
   "outputs": [
    {
     "name": "stdout",
     "output_type": "stream",
     "text": [
      "c\n"
     ]
    }
   ],
   "source": [
    "print(\"c\")"
   ]
  },
  {
   "cell_type": "code",
   "execution_count": 62,
   "id": "7695da19",
   "metadata": {},
   "outputs": [
    {
     "name": "stdout",
     "output_type": "stream",
     "text": [
      "65\n"
     ]
    }
   ],
   "source": [
    "print(b)"
   ]
  },
  {
   "cell_type": "code",
   "execution_count": 63,
   "id": "84da442e",
   "metadata": {},
   "outputs": [
    {
     "name": "stdout",
     "output_type": "stream",
     "text": [
      "12\n"
     ]
    }
   ],
   "source": [
    "print(a)"
   ]
  },
  {
   "cell_type": "markdown",
   "id": "f6e98603",
   "metadata": {},
   "source": [
    "##  Data Types in Python"
   ]
  },
  {
   "cell_type": "code",
   "execution_count": 68,
   "id": "74abb25a",
   "metadata": {},
   "outputs": [],
   "source": [
    "student = 12"
   ]
  },
  {
   "cell_type": "code",
   "execution_count": 69,
   "id": "121846fb",
   "metadata": {},
   "outputs": [],
   "source": [
    "student= \"narender\""
   ]
  },
  {
   "cell_type": "code",
   "execution_count": 70,
   "id": "0e7b626f",
   "metadata": {},
   "outputs": [],
   "source": [
    "## Integer"
   ]
  },
  {
   "cell_type": "code",
   "execution_count": 71,
   "id": "cd8f437e",
   "metadata": {},
   "outputs": [],
   "source": [
    "studnet=15"
   ]
  },
  {
   "cell_type": "code",
   "execution_count": 73,
   "id": "94a92ec7",
   "metadata": {},
   "outputs": [
    {
     "data": {
      "text/plain": [
       "15"
      ]
     },
     "execution_count": 73,
     "metadata": {},
     "output_type": "execute_result"
    }
   ],
   "source": [
    "studnet"
   ]
  },
  {
   "cell_type": "code",
   "execution_count": 74,
   "id": "c47cbed2",
   "metadata": {},
   "outputs": [
    {
     "data": {
      "text/plain": [
       "int"
      ]
     },
     "execution_count": 74,
     "metadata": {},
     "output_type": "execute_result"
    }
   ],
   "source": [
    "type(studnet)"
   ]
  },
  {
   "cell_type": "code",
   "execution_count": 75,
   "id": "971fb44a",
   "metadata": {},
   "outputs": [],
   "source": [
    "a = 89213123"
   ]
  },
  {
   "cell_type": "code",
   "execution_count": 76,
   "id": "20bdecbd",
   "metadata": {},
   "outputs": [
    {
     "data": {
      "text/plain": [
       "int"
      ]
     },
     "execution_count": 76,
     "metadata": {},
     "output_type": "execute_result"
    }
   ],
   "source": [
    "type(a)"
   ]
  },
  {
   "cell_type": "code",
   "execution_count": 77,
   "id": "2a66bb59",
   "metadata": {},
   "outputs": [],
   "source": [
    "a = 3435436365767587887988"
   ]
  },
  {
   "cell_type": "code",
   "execution_count": 78,
   "id": "e43badb3",
   "metadata": {},
   "outputs": [
    {
     "data": {
      "text/plain": [
       "int"
      ]
     },
     "execution_count": 78,
     "metadata": {},
     "output_type": "execute_result"
    }
   ],
   "source": [
    "type(a)"
   ]
  },
  {
   "cell_type": "code",
   "execution_count": 83,
   "id": "e2d5c525",
   "metadata": {},
   "outputs": [],
   "source": [
    "b = \"narender1234\""
   ]
  },
  {
   "cell_type": "code",
   "execution_count": 84,
   "id": "065f03db",
   "metadata": {},
   "outputs": [
    {
     "data": {
      "text/plain": [
       "'narender1234'"
      ]
     },
     "execution_count": 84,
     "metadata": {},
     "output_type": "execute_result"
    }
   ],
   "source": [
    "b"
   ]
  },
  {
   "cell_type": "code",
   "execution_count": 80,
   "id": "38c30a49",
   "metadata": {},
   "outputs": [],
   "source": [
    "b = 'narender'"
   ]
  },
  {
   "cell_type": "code",
   "execution_count": 82,
   "id": "f2e4f4b9",
   "metadata": {},
   "outputs": [
    {
     "data": {
      "text/plain": [
       "'narender'"
      ]
     },
     "execution_count": 82,
     "metadata": {},
     "output_type": "execute_result"
    }
   ],
   "source": [
    "b"
   ]
  },
  {
   "cell_type": "code",
   "execution_count": 85,
   "id": "a6080ced",
   "metadata": {},
   "outputs": [
    {
     "data": {
      "text/plain": [
       "str"
      ]
     },
     "execution_count": 85,
     "metadata": {},
     "output_type": "execute_result"
    }
   ],
   "source": [
    "type(b)"
   ]
  },
  {
   "cell_type": "code",
   "execution_count": 86,
   "id": "7c334f1e",
   "metadata": {},
   "outputs": [],
   "source": [
    "data = \"my name is narender (,)\""
   ]
  },
  {
   "cell_type": "code",
   "execution_count": 87,
   "id": "b25a68b0",
   "metadata": {},
   "outputs": [
    {
     "data": {
      "text/plain": [
       "'my name is narender (,)'"
      ]
     },
     "execution_count": 87,
     "metadata": {},
     "output_type": "execute_result"
    }
   ],
   "source": [
    "data"
   ]
  },
  {
   "cell_type": "code",
   "execution_count": 89,
   "id": "5e0752c4",
   "metadata": {},
   "outputs": [
    {
     "data": {
      "text/plain": [
       "str"
      ]
     },
     "execution_count": 89,
     "metadata": {},
     "output_type": "execute_result"
    }
   ],
   "source": [
    "type(data)"
   ]
  },
  {
   "cell_type": "code",
   "execution_count": 91,
   "id": "b5579bf4",
   "metadata": {},
   "outputs": [
    {
     "name": "stdout",
     "output_type": "stream",
     "text": [
      "mait is an autonomous (') college\n"
     ]
    }
   ],
   "source": [
    "print(\"mait is an autonomous (') college\")"
   ]
  },
  {
   "cell_type": "code",
   "execution_count": 97,
   "id": "fe97b52e",
   "metadata": {},
   "outputs": [],
   "source": [
    "a= \"mait is an autonomous (\"\") college\""
   ]
  },
  {
   "cell_type": "code",
   "execution_count": 98,
   "id": "c6fcf454",
   "metadata": {},
   "outputs": [
    {
     "data": {
      "text/plain": [
       "str"
      ]
     },
     "execution_count": 98,
     "metadata": {},
     "output_type": "execute_result"
    }
   ],
   "source": [
    "type(a)"
   ]
  },
  {
   "cell_type": "code",
   "execution_count": 101,
   "id": "88eac558",
   "metadata": {},
   "outputs": [],
   "source": [
    "b = \"qdwsdsa\""
   ]
  },
  {
   "cell_type": "code",
   "execution_count": 102,
   "id": "1857450c",
   "metadata": {},
   "outputs": [
    {
     "data": {
      "text/plain": [
       "str"
      ]
     },
     "execution_count": 102,
     "metadata": {},
     "output_type": "execute_result"
    }
   ],
   "source": [
    "type(b)"
   ]
  },
  {
   "cell_type": "code",
   "execution_count": 109,
   "id": "3be5f16d",
   "metadata": {},
   "outputs": [],
   "source": [
    "b = \"narendr\""
   ]
  },
  {
   "cell_type": "code",
   "execution_count": 104,
   "id": "39b0b9d7",
   "metadata": {},
   "outputs": [
    {
     "data": {
      "text/plain": [
       "'narendr'"
      ]
     },
     "execution_count": 104,
     "metadata": {},
     "output_type": "execute_result"
    }
   ],
   "source": [
    "b"
   ]
  },
  {
   "cell_type": "code",
   "execution_count": 105,
   "id": "12b5d2ef",
   "metadata": {},
   "outputs": [],
   "source": [
    "b = \"321313\""
   ]
  },
  {
   "cell_type": "code",
   "execution_count": 106,
   "id": "c8502632",
   "metadata": {},
   "outputs": [
    {
     "data": {
      "text/plain": [
       "'321313'"
      ]
     },
     "execution_count": 106,
     "metadata": {},
     "output_type": "execute_result"
    }
   ],
   "source": [
    "b"
   ]
  },
  {
   "cell_type": "code",
   "execution_count": 107,
   "id": "da8c901b",
   "metadata": {},
   "outputs": [
    {
     "name": "stdout",
     "output_type": "stream",
     "text": [
      "Hello\n"
     ]
    }
   ],
   "source": [
    "print(\"Hello\")"
   ]
  },
  {
   "cell_type": "code",
   "execution_count": 110,
   "id": "808b73da",
   "metadata": {},
   "outputs": [
    {
     "name": "stdout",
     "output_type": "stream",
     "text": [
      "narendr\n"
     ]
    }
   ],
   "source": [
    "print(b)"
   ]
  },
  {
   "cell_type": "code",
   "execution_count": 111,
   "id": "f6d2ebd4",
   "metadata": {},
   "outputs": [],
   "source": [
    "name = \"narender\"\n",
    "rollRnumber = 121321\n",
    "colege_name = \"MAIT\"\n",
    "mail_id= \"Narenderbeniwal1234@gamil.com\""
   ]
  },
  {
   "cell_type": "markdown",
   "id": "9641525f",
   "metadata": {},
   "source": [
    "## Float"
   ]
  },
  {
   "cell_type": "code",
   "execution_count": 112,
   "id": "8fca978f",
   "metadata": {},
   "outputs": [],
   "source": [
    "a = 1321.3423432432"
   ]
  },
  {
   "cell_type": "code",
   "execution_count": 113,
   "id": "be78defb",
   "metadata": {},
   "outputs": [
    {
     "data": {
      "text/plain": [
       "1321.3423432432"
      ]
     },
     "execution_count": 113,
     "metadata": {},
     "output_type": "execute_result"
    }
   ],
   "source": [
    "a"
   ]
  },
  {
   "cell_type": "code",
   "execution_count": 114,
   "id": "f85041b3",
   "metadata": {},
   "outputs": [
    {
     "data": {
      "text/plain": [
       "float"
      ]
     },
     "execution_count": 114,
     "metadata": {},
     "output_type": "execute_result"
    }
   ],
   "source": [
    "type(a)"
   ]
  },
  {
   "cell_type": "code",
   "execution_count": 115,
   "id": "17eb6f3f",
   "metadata": {},
   "outputs": [],
   "source": [
    "b = 2312313.322323423"
   ]
  },
  {
   "cell_type": "code",
   "execution_count": 116,
   "id": "6ed7f149",
   "metadata": {},
   "outputs": [
    {
     "data": {
      "text/plain": [
       "2312313.322323423"
      ]
     },
     "execution_count": 116,
     "metadata": {},
     "output_type": "execute_result"
    }
   ],
   "source": [
    "b"
   ]
  },
  {
   "cell_type": "code",
   "execution_count": 117,
   "id": "70a36f01",
   "metadata": {},
   "outputs": [],
   "source": [
    "a = 122321"
   ]
  },
  {
   "cell_type": "code",
   "execution_count": 118,
   "id": "e6cc4b9f",
   "metadata": {},
   "outputs": [
    {
     "data": {
      "text/plain": [
       "122321"
      ]
     },
     "execution_count": 118,
     "metadata": {},
     "output_type": "execute_result"
    }
   ],
   "source": [
    "a"
   ]
  },
  {
   "cell_type": "code",
   "execution_count": 119,
   "id": "86a17136",
   "metadata": {},
   "outputs": [
    {
     "data": {
      "text/plain": [
       "int"
      ]
     },
     "execution_count": 119,
     "metadata": {},
     "output_type": "execute_result"
    }
   ],
   "source": [
    "type(a)"
   ]
  },
  {
   "cell_type": "code",
   "execution_count": 120,
   "id": "d8e1f51a",
   "metadata": {},
   "outputs": [],
   "source": [
    "## Boolean"
   ]
  },
  {
   "cell_type": "code",
   "execution_count": 121,
   "id": "c948446d",
   "metadata": {},
   "outputs": [],
   "source": [
    "b = True\n",
    "c= False "
   ]
  },
  {
   "cell_type": "code",
   "execution_count": 122,
   "id": "f2ef433e",
   "metadata": {},
   "outputs": [
    {
     "data": {
      "text/plain": [
       "bool"
      ]
     },
     "execution_count": 122,
     "metadata": {},
     "output_type": "execute_result"
    }
   ],
   "source": [
    "type(b)"
   ]
  },
  {
   "cell_type": "code",
   "execution_count": 123,
   "id": "518e86c2",
   "metadata": {},
   "outputs": [
    {
     "data": {
      "text/plain": [
       "bool"
      ]
     },
     "execution_count": 123,
     "metadata": {},
     "output_type": "execute_result"
    }
   ],
   "source": [
    "type(c)"
   ]
  },
  {
   "cell_type": "code",
   "execution_count": 124,
   "id": "40184cac",
   "metadata": {},
   "outputs": [
    {
     "data": {
      "text/plain": [
       "3"
      ]
     },
     "execution_count": 124,
     "metadata": {},
     "output_type": "execute_result"
    }
   ],
   "source": [
    "True+True+False+ True- False"
   ]
  },
  {
   "cell_type": "code",
   "execution_count": 125,
   "id": "14c0b400",
   "metadata": {},
   "outputs": [
    {
     "data": {
      "text/plain": [
       "2"
      ]
     },
     "execution_count": 125,
     "metadata": {},
     "output_type": "execute_result"
    }
   ],
   "source": [
    "True+False+True+ False"
   ]
  },
  {
   "cell_type": "code",
   "execution_count": 126,
   "id": "e0a01f9b",
   "metadata": {},
   "outputs": [
    {
     "ename": "ZeroDivisionError",
     "evalue": "division by zero",
     "output_type": "error",
     "traceback": [
      "\u001b[1;31m---------------------------------------------------------------------------\u001b[0m",
      "\u001b[1;31mZeroDivisionError\u001b[0m                         Traceback (most recent call last)",
      "\u001b[1;32m<ipython-input-126-f64d1295bbce>\u001b[0m in \u001b[0;36m<module>\u001b[1;34m\u001b[0m\n\u001b[1;32m----> 1\u001b[1;33m \u001b[1;32mTrue\u001b[0m\u001b[1;33m/\u001b[0m\u001b[1;32mFalse\u001b[0m\u001b[1;33m\u001b[0m\u001b[1;33m\u001b[0m\u001b[0m\n\u001b[0m",
      "\u001b[1;31mZeroDivisionError\u001b[0m: division by zero"
     ]
    }
   ],
   "source": [
    "True/False"
   ]
  },
  {
   "cell_type": "code",
   "execution_count": 127,
   "id": "1d0fd109",
   "metadata": {},
   "outputs": [
    {
     "data": {
      "text/plain": [
       "0.0"
      ]
     },
     "execution_count": 127,
     "metadata": {},
     "output_type": "execute_result"
    }
   ],
   "source": [
    "False/True"
   ]
  },
  {
   "cell_type": "code",
   "execution_count": 128,
   "id": "2aff430b",
   "metadata": {},
   "outputs": [
    {
     "data": {
      "text/plain": [
       "1"
      ]
     },
     "execution_count": 128,
     "metadata": {},
     "output_type": "execute_result"
    }
   ],
   "source": [
    "True*False + True+False"
   ]
  },
  {
   "cell_type": "code",
   "execution_count": 129,
   "id": "1bde2720",
   "metadata": {},
   "outputs": [],
   "source": [
    "## Coplex Numbers"
   ]
  },
  {
   "cell_type": "code",
   "execution_count": 132,
   "id": "66d75abf",
   "metadata": {},
   "outputs": [],
   "source": [
    "a = 12-33j"
   ]
  },
  {
   "cell_type": "code",
   "execution_count": 133,
   "id": "0c59de68",
   "metadata": {},
   "outputs": [
    {
     "data": {
      "text/plain": [
       "complex"
      ]
     },
     "execution_count": 133,
     "metadata": {},
     "output_type": "execute_result"
    }
   ],
   "source": [
    "type(a)"
   ]
  },
  {
   "cell_type": "code",
   "execution_count": 134,
   "id": "2e7085fd",
   "metadata": {},
   "outputs": [],
   "source": [
    "b = 12-32j"
   ]
  },
  {
   "cell_type": "code",
   "execution_count": 135,
   "id": "79bbeaef",
   "metadata": {},
   "outputs": [
    {
     "data": {
      "text/plain": [
       "(24-65j)"
      ]
     },
     "execution_count": 135,
     "metadata": {},
     "output_type": "execute_result"
    }
   ],
   "source": [
    "a+b"
   ]
  },
  {
   "cell_type": "code",
   "execution_count": 136,
   "id": "16a5ef38",
   "metadata": {},
   "outputs": [
    {
     "data": {
      "text/plain": [
       "(-912-780j)"
      ]
     },
     "execution_count": 136,
     "metadata": {},
     "output_type": "execute_result"
    }
   ],
   "source": [
    "a*b"
   ]
  },
  {
   "cell_type": "code",
   "execution_count": 137,
   "id": "8f3d8f23",
   "metadata": {},
   "outputs": [
    {
     "data": {
      "text/plain": [
       "(1.0273972602739727-0.010273972602739725j)"
      ]
     },
     "execution_count": 137,
     "metadata": {},
     "output_type": "execute_result"
    }
   ],
   "source": [
    "a/b"
   ]
  },
  {
   "cell_type": "code",
   "execution_count": 138,
   "id": "d9892480",
   "metadata": {},
   "outputs": [],
   "source": [
    "a= 2343"
   ]
  },
  {
   "cell_type": "code",
   "execution_count": 139,
   "id": "5311d9c1",
   "metadata": {},
   "outputs": [],
   "source": [
    "n  = 45 + 6j\n",
    "m = 56 + 8j"
   ]
  },
  {
   "cell_type": "code",
   "execution_count": 140,
   "id": "63469eb4",
   "metadata": {},
   "outputs": [
    {
     "data": {
      "text/plain": [
       "45.0"
      ]
     },
     "execution_count": 140,
     "metadata": {},
     "output_type": "execute_result"
    }
   ],
   "source": [
    "n.real"
   ]
  },
  {
   "cell_type": "code",
   "execution_count": 141,
   "id": "2f4359eb",
   "metadata": {},
   "outputs": [
    {
     "data": {
      "text/plain": [
       "8.0"
      ]
     },
     "execution_count": 141,
     "metadata": {},
     "output_type": "execute_result"
    }
   ],
   "source": [
    "m.imag"
   ]
  },
  {
   "cell_type": "code",
   "execution_count": 142,
   "id": "c64ecaa5",
   "metadata": {},
   "outputs": [
    {
     "data": {
      "text/plain": [
       "56.0"
      ]
     },
     "execution_count": 142,
     "metadata": {},
     "output_type": "execute_result"
    }
   ],
   "source": [
    "m.real"
   ]
  },
  {
   "cell_type": "code",
   "execution_count": 143,
   "id": "fbda547d",
   "metadata": {},
   "outputs": [
    {
     "data": {
      "text/plain": [
       "6.0"
      ]
     },
     "execution_count": 143,
     "metadata": {},
     "output_type": "execute_result"
    }
   ],
   "source": [
    "n.imag"
   ]
  },
  {
   "cell_type": "code",
   "execution_count": 144,
   "id": "9ee68c40",
   "metadata": {},
   "outputs": [
    {
     "ename": "TypeError",
     "evalue": "unsupported operand type(s) for +: 'int' and 'str'",
     "output_type": "error",
     "traceback": [
      "\u001b[1;31m---------------------------------------------------------------------------\u001b[0m",
      "\u001b[1;31mTypeError\u001b[0m                                 Traceback (most recent call last)",
      "\u001b[1;32m<ipython-input-144-b49f6114f723>\u001b[0m in \u001b[0;36m<module>\u001b[1;34m\u001b[0m\n\u001b[1;32m----> 1\u001b[1;33m \u001b[1;36m1\u001b[0m \u001b[1;33m+\u001b[0m \u001b[1;34m\"narendeer\"\u001b[0m\u001b[1;33m\u001b[0m\u001b[1;33m\u001b[0m\u001b[0m\n\u001b[0m",
      "\u001b[1;31mTypeError\u001b[0m: unsupported operand type(s) for +: 'int' and 'str'"
     ]
    }
   ],
   "source": [
    "1 + \"narendeer\""
   ]
  },
  {
   "cell_type": "code",
   "execution_count": 145,
   "id": "af67266d",
   "metadata": {},
   "outputs": [
    {
     "data": {
      "text/plain": [
       "'1Naerenswe'"
      ]
     },
     "execution_count": 145,
     "metadata": {},
     "output_type": "execute_result"
    }
   ],
   "source": [
    "\"1\" + \"Naerenswe\""
   ]
  },
  {
   "cell_type": "code",
   "execution_count": 146,
   "id": "7cd8a8ca",
   "metadata": {},
   "outputs": [
    {
     "data": {
      "text/plain": [
       "2.01"
      ]
     },
     "execution_count": 146,
     "metadata": {},
     "output_type": "execute_result"
    }
   ],
   "source": [
    "1+1.01"
   ]
  },
  {
   "cell_type": "code",
   "execution_count": 151,
   "id": "b4c43d7e",
   "metadata": {},
   "outputs": [
    {
     "data": {
      "text/plain": [
       "346445.3231223432"
      ]
     },
     "execution_count": 151,
     "metadata": {},
     "output_type": "execute_result"
    }
   ],
   "source": [
    "a"
   ]
  },
  {
   "cell_type": "code",
   "execution_count": 150,
   "id": "3e9c682d",
   "metadata": {},
   "outputs": [
    {
     "data": {
      "text/plain": [
       "float"
      ]
     },
     "execution_count": 150,
     "metadata": {},
     "output_type": "execute_result"
    }
   ],
   "source": [
    "type(a)"
   ]
  },
  {
   "cell_type": "code",
   "execution_count": null,
   "id": "041113f0",
   "metadata": {},
   "outputs": [],
   "source": []
  },
  {
   "cell_type": "code",
   "execution_count": 152,
   "id": "c601c696",
   "metadata": {},
   "outputs": [],
   "source": [
    "a = 323213+23232.32312234324321412343124"
   ]
  },
  {
   "cell_type": "code",
   "execution_count": 153,
   "id": "5f98004d",
   "metadata": {},
   "outputs": [
    {
     "data": {
      "text/plain": [
       "'NarenderNarenderNarender'"
      ]
     },
     "execution_count": 153,
     "metadata": {},
     "output_type": "execute_result"
    }
   ],
   "source": [
    "\"Narender\"+\"Narender\"+\"Narender\""
   ]
  },
  {
   "cell_type": "code",
   "execution_count": 154,
   "id": "195cb334",
   "metadata": {},
   "outputs": [
    {
     "data": {
      "text/plain": [
       "'NarenderNarenderNarenderNarender'"
      ]
     },
     "execution_count": 154,
     "metadata": {},
     "output_type": "execute_result"
    }
   ],
   "source": [
    "\"Narender\"*4"
   ]
  },
  {
   "cell_type": "code",
   "execution_count": 156,
   "id": "813ba66c",
   "metadata": {},
   "outputs": [
    {
     "data": {
      "text/plain": [
       "21"
      ]
     },
     "execution_count": 156,
     "metadata": {},
     "output_type": "execute_result"
    }
   ],
   "source": [
    "int(21.31)"
   ]
  },
  {
   "cell_type": "code",
   "execution_count": 163,
   "id": "44c145b5",
   "metadata": {},
   "outputs": [],
   "source": [
    "a = 342.54354"
   ]
  },
  {
   "cell_type": "code",
   "execution_count": 164,
   "id": "5f8d4eab",
   "metadata": {},
   "outputs": [
    {
     "data": {
      "text/plain": [
       "342"
      ]
     },
     "execution_count": 164,
     "metadata": {},
     "output_type": "execute_result"
    }
   ],
   "source": [
    "int(a)"
   ]
  },
  {
   "cell_type": "code",
   "execution_count": 165,
   "id": "c0939a2f",
   "metadata": {},
   "outputs": [
    {
     "data": {
      "text/plain": [
       "float"
      ]
     },
     "execution_count": 165,
     "metadata": {},
     "output_type": "execute_result"
    }
   ],
   "source": [
    "type(a)"
   ]
  },
  {
   "cell_type": "code",
   "execution_count": 159,
   "id": "d1041ea3",
   "metadata": {},
   "outputs": [
    {
     "data": {
      "text/plain": [
       "342.54354"
      ]
     },
     "execution_count": 159,
     "metadata": {},
     "output_type": "execute_result"
    }
   ],
   "source": [
    "float(a)"
   ]
  },
  {
   "cell_type": "code",
   "execution_count": 160,
   "id": "018ac70d",
   "metadata": {},
   "outputs": [],
   "source": [
    "a = \"narewnswrew\" + \"121312\""
   ]
  },
  {
   "cell_type": "code",
   "execution_count": 161,
   "id": "e2cfcd46",
   "metadata": {},
   "outputs": [
    {
     "data": {
      "text/plain": [
       "'narewnswrew121312'"
      ]
     },
     "execution_count": 161,
     "metadata": {},
     "output_type": "execute_result"
    }
   ],
   "source": [
    "str(a)"
   ]
  },
  {
   "cell_type": "code",
   "execution_count": 166,
   "id": "e6317c23",
   "metadata": {},
   "outputs": [],
   "source": [
    "a = 10"
   ]
  },
  {
   "cell_type": "code",
   "execution_count": 168,
   "id": "ab4ce87c",
   "metadata": {},
   "outputs": [
    {
     "name": "stdout",
     "output_type": "stream",
     "text": [
      "Enter the ineteger Values122321\n"
     ]
    }
   ],
   "source": [
    "a = inputinput(\"Enter the ineteger Values\")"
   ]
  },
  {
   "cell_type": "code",
   "execution_count": 169,
   "id": "67baccc2",
   "metadata": {},
   "outputs": [
    {
     "name": "stdout",
     "output_type": "stream",
     "text": [
      "Enter the 1st number:2321\n",
      "Enter the 2nd number: 13213\n"
     ]
    }
   ],
   "source": [
    "a= input(\"Enter the 1st number:\")\n",
    "b = input(\"Enter the 2nd number: \")"
   ]
  },
  {
   "cell_type": "code",
   "execution_count": 178,
   "id": "efd8f25a",
   "metadata": {},
   "outputs": [
    {
     "name": "stdout",
     "output_type": "stream",
     "text": [
      "Enter the 1st number:56\n",
      "Enter the 2nd number:56\n"
     ]
    },
    {
     "data": {
      "text/plain": [
       "112"
      ]
     },
     "execution_count": 178,
     "metadata": {},
     "output_type": "execute_result"
    }
   ],
   "source": [
    "a= int(input(\"Enter the 1st number:\"))\n",
    "b = int(input(\"Enter the 2nd number:\"))\n",
    "a+b"
   ]
  },
  {
   "cell_type": "code",
   "execution_count": 179,
   "id": "3f739018",
   "metadata": {},
   "outputs": [
    {
     "data": {
      "text/plain": [
       "1.0"
      ]
     },
     "execution_count": 179,
     "metadata": {},
     "output_type": "execute_result"
    }
   ],
   "source": [
    "a/b"
   ]
  },
  {
   "cell_type": "code",
   "execution_count": 180,
   "id": "e0bf00f2",
   "metadata": {},
   "outputs": [
    {
     "name": "stdout",
     "output_type": "stream",
     "text": [
      "a/....b\n"
     ]
    }
   ],
   "source": [
    "print('a/....b')"
   ]
  },
  {
   "cell_type": "code",
   "execution_count": 181,
   "id": "52075d1f",
   "metadata": {},
   "outputs": [
    {
     "name": "stdout",
     "output_type": "stream",
     "text": [
      "a/....b\n"
     ]
    }
   ],
   "source": [
    "print(\"a/....b\")"
   ]
  },
  {
   "cell_type": "code",
   "execution_count": 182,
   "id": "df5ed69d",
   "metadata": {},
   "outputs": [
    {
     "name": "stdout",
     "output_type": "stream",
     "text": [
      "a bc\n"
     ]
    }
   ],
   "source": [
    "print('a\\\n",
    " b\\\n",
    "c')"
   ]
  },
  {
   "cell_type": "code",
   "execution_count": 183,
   "id": "79381b9c",
   "metadata": {},
   "outputs": [
    {
     "name": "stdout",
     "output_type": "stream",
     "text": [
      "abcd\n"
     ]
    }
   ],
   "source": [
    "print('a\\\n",
    "b\\\n",
    "c\\\n",
    "d')"
   ]
  },
  {
   "cell_type": "code",
   "execution_count": 184,
   "id": "11c0b059",
   "metadata": {},
   "outputs": [
    {
     "name": "stdout",
     "output_type": "stream",
     "text": [
      "a\n",
      "b\n"
     ]
    }
   ],
   "source": [
    "print('a\\nb')"
   ]
  },
  {
   "cell_type": "code",
   "execution_count": 189,
   "id": "0b5db73f",
   "metadata": {},
   "outputs": [
    {
     "name": "stdout",
     "output_type": "stream",
     "text": [
      "i am a machine learning Engineer \n",
      "     I am from Delhi\n"
     ]
    }
   ],
   "source": [
    "print(\"i am a machine learning Engineer \\n     I am from Delhi\")"
   ]
  },
  {
   "cell_type": "code",
   "execution_count": 192,
   "id": "f2939c58",
   "metadata": {},
   "outputs": [
    {
     "name": "stdout",
     "output_type": "stream",
     "text": [
      "My name is narender \\ and i am from delhi\n"
     ]
    }
   ],
   "source": [
    "print(\"My name is narender \\\\ and i am from delhi\")"
   ]
  },
  {
   "cell_type": "code",
   "execution_count": 193,
   "id": "4c9b38a3",
   "metadata": {},
   "outputs": [
    {
     "name": "stdout",
     "output_type": "stream",
     "text": [
      "a//b\n"
     ]
    }
   ],
   "source": [
    "print(\"a//b\")"
   ]
  },
  {
   "cell_type": "code",
   "execution_count": 194,
   "id": "5aebf74d",
   "metadata": {},
   "outputs": [
    {
     "name": "stdout",
     "output_type": "stream",
     "text": [
      "a\tb\n"
     ]
    }
   ],
   "source": [
    "print(\"a\\tb\")"
   ]
  },
  {
   "cell_type": "code",
   "execution_count": 197,
   "id": "6d7d1cd2",
   "metadata": {},
   "outputs": [
    {
     "name": "stdout",
     "output_type": "stream",
     "text": [
      "narender \t      beniwal\n"
     ]
    }
   ],
   "source": [
    "print(\"narender \\t      beniwal\")"
   ]
  },
  {
   "cell_type": "code",
   "execution_count": null,
   "id": "c14a3281",
   "metadata": {},
   "outputs": [],
   "source": []
  },
  {
   "cell_type": "code",
   "execution_count": 198,
   "id": "f02340a2",
   "metadata": {},
   "outputs": [],
   "source": [
    "##Condtinal Statements"
   ]
  },
  {
   "cell_type": "code",
   "execution_count": 199,
   "id": "90071bfb",
   "metadata": {},
   "outputs": [],
   "source": [
    "## Find out the gratest number between these three number 2,34,56"
   ]
  },
  {
   "cell_type": "code",
   "execution_count": 200,
   "id": "7ce98856",
   "metadata": {},
   "outputs": [
    {
     "ename": "SyntaxError",
     "evalue": "invalid syntax (<ipython-input-200-20c19f30a63c>, line 2)",
     "output_type": "error",
     "traceback": [
      "\u001b[1;36m  File \u001b[1;32m\"<ipython-input-200-20c19f30a63c>\"\u001b[1;36m, line \u001b[1;32m2\u001b[0m\n\u001b[1;33m    == 12`\u001b[0m\n\u001b[1;37m    ^\u001b[0m\n\u001b[1;31mSyntaxError\u001b[0m\u001b[1;31m:\u001b[0m invalid syntax\n"
     ]
    }
   ],
   "source": [
    "! not equal to\n",
    "== 12`"
   ]
  },
  {
   "cell_type": "code",
   "execution_count": 201,
   "id": "355d0f8e",
   "metadata": {},
   "outputs": [
    {
     "data": {
      "text/plain": [
       "True"
      ]
     },
     "execution_count": 201,
     "metadata": {},
     "output_type": "execute_result"
    }
   ],
   "source": [
    "2==2"
   ]
  },
  {
   "cell_type": "code",
   "execution_count": 202,
   "id": "036aa1a2",
   "metadata": {},
   "outputs": [
    {
     "data": {
      "text/plain": [
       "False"
      ]
     },
     "execution_count": 202,
     "metadata": {},
     "output_type": "execute_result"
    }
   ],
   "source": [
    "2==56"
   ]
  },
  {
   "cell_type": "code",
   "execution_count": 203,
   "id": "82bfedfb",
   "metadata": {},
   "outputs": [
    {
     "data": {
      "text/plain": [
       "True"
      ]
     },
     "execution_count": 203,
     "metadata": {},
     "output_type": "execute_result"
    }
   ],
   "source": [
    "a ==b"
   ]
  },
  {
   "cell_type": "code",
   "execution_count": 204,
   "id": "1e12e6a7",
   "metadata": {},
   "outputs": [],
   "source": [
    "a = 45"
   ]
  },
  {
   "cell_type": "code",
   "execution_count": 205,
   "id": "c9c09bb8",
   "metadata": {},
   "outputs": [],
   "source": [
    "b= 48"
   ]
  },
  {
   "cell_type": "code",
   "execution_count": 206,
   "id": "c1064792",
   "metadata": {},
   "outputs": [
    {
     "data": {
      "text/plain": [
       "False"
      ]
     },
     "execution_count": 206,
     "metadata": {},
     "output_type": "execute_result"
    }
   ],
   "source": [
    "a==b"
   ]
  },
  {
   "cell_type": "code",
   "execution_count": 207,
   "id": "3f24116d",
   "metadata": {},
   "outputs": [
    {
     "data": {
      "text/plain": [
       "True"
      ]
     },
     "execution_count": 207,
     "metadata": {},
     "output_type": "execute_result"
    }
   ],
   "source": [
    "a!=b"
   ]
  },
  {
   "cell_type": "code",
   "execution_count": 215,
   "id": "4daf437a",
   "metadata": {},
   "outputs": [
    {
     "name": "stdout",
     "output_type": "stream",
     "text": [
      "Enter the Number which you want to check: -21213\n",
      "The number less then 34 and i am file with it\n"
     ]
    }
   ],
   "source": [
    "a = int(input(\"Enter the Number which you want to check: \"))\n",
    "if a<34:\n",
    "    print(\"The number less then 34 and i am file with it\")\n",
    "elif a<100:\n",
    "        print(\"This number is grater then 34 and less then 100\")\n",
    "else:\n",
    "    print(\"Please enter the number between 1 to 100\")"
   ]
  },
  {
   "cell_type": "code",
   "execution_count": 3,
   "id": "afc5e370",
   "metadata": {},
   "outputs": [
    {
     "name": "stdout",
     "output_type": "stream",
     "text": [
      "input a number45\n",
      " my data is lesser then 100\n"
     ]
    }
   ],
   "source": [
    "a = int(input(\"input a number\"))\n",
    "if a <34:\n",
    "    print(\"data input is lesser then 34 and i am fine with it \")\n",
    "elif a < 100: ## we can write myltiple condition , if 1st is true then look for the 2nd one other wise go to last one\n",
    "    print(\" my data is lesser then 100\")\n",
    "    \n",
    "else:\n",
    "    print ( \"user input is not lesser then 34\")\n",
    "## WE are trying to write the condition based on this it will check each and everything "
   ]
  },
  {
   "cell_type": "code",
   "execution_count": null,
   "id": "e5863567",
   "metadata": {},
   "outputs": [],
   "source": [
    "salary = int(input(\"enter your salary\"))\n",
    "if( salary > 1000):\n",
    "    print(\"you salary is good\")\n",
    "    if salary > 5000:\n",
    "        print(\"i will go with a card nano\")\n",
    "        if True:\n",
    "            print(\"false code\")\n",
    "    elif salary >10000:\n",
    "        print(\"i will go with maruti\")\n",
    "    elif salary > 50000:\n",
    "        print(\"i wil go with toyota\")\n",
    "    else :\n",
    "        print(\"i will rent a car \")\n",
    "elif salary > 500:\n",
    "    print(\" i will go for bike \")\n",
    "elif salary> 100:\n",
    "    print(\"i will not buy anyting\")\n",
    "else :\n",
    "    print(\"i will go for savinig \")"
   ]
  }
 ],
 "metadata": {
  "kernelspec": {
   "display_name": "Python 3",
   "language": "python",
   "name": "python3"
  },
  "language_info": {
   "codemirror_mode": {
    "name": "ipython",
    "version": 3
   },
   "file_extension": ".py",
   "mimetype": "text/x-python",
   "name": "python",
   "nbconvert_exporter": "python",
   "pygments_lexer": "ipython3",
   "version": "3.8.8"
  }
 },
 "nbformat": 4,
 "nbformat_minor": 5
}
