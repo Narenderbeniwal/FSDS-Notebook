{
 "cells": [
  {
   "cell_type": "code",
   "execution_count": 13,
   "metadata": {},
   "outputs": [],
   "source": [
    "import logging as lg"
   ]
  },
  {
   "cell_type": "code",
   "execution_count": 14,
   "metadata": {},
   "outputs": [
    {
     "name": "stdout",
     "output_type": "stream",
     "text": [
      "Requirement already satisfied: python-docx in ./opt/anaconda3/lib/python3.8/site-packages (0.8.10)\n",
      "Requirement already satisfied: lxml>=2.3.2 in ./opt/anaconda3/lib/python3.8/site-packages (from python-docx) (4.6.1)\n",
      "Note: you may need to restart the kernel to use updated packages.\n"
     ]
    }
   ],
   "source": [
    "pip install python-docx"
   ]
  },
  {
   "cell_type": "code",
   "execution_count": 15,
   "metadata": {},
   "outputs": [
    {
     "data": {
      "text/plain": [
       "'/Users/ekcs011'"
      ]
     },
     "execution_count": 15,
     "metadata": {},
     "output_type": "execute_result"
    }
   ],
   "source": [
    "pwd()"
   ]
  },
  {
   "cell_type": "code",
   "execution_count": 17,
   "metadata": {},
   "outputs": [],
   "source": [
    "lg.basicConfig(filename='/Users/ekcs011/Desktop/File/test.log' , level = lg.ERROR , format  = '%(asctime)s %(message)s')"
   ]
  },
  {
   "cell_type": "code",
   "execution_count": 18,
   "metadata": {},
   "outputs": [
    {
     "data": {
      "text/plain": [
       "'/Users/ekcs011'"
      ]
     },
     "execution_count": 18,
     "metadata": {},
     "output_type": "execute_result"
    }
   ],
   "source": [
    "pwd()"
   ]
  },
  {
   "cell_type": "code",
   "execution_count": 19,
   "metadata": {},
   "outputs": [],
   "source": [
    "def len_bef_num(string):\n",
    "    lenght=len()\n",
    "    for i in string:\n",
    "        if i.isnumeric():\n",
    "            lenght = string.find(i)\n",
    "            break\n",
    "    return string[:length:].replace('_','')\n",
    "def rename_file(name):\n",
    "    new_name = name.replace('(',\").replace(')',\")\n",
    "    os.rename(name,new_name)\n",
    "    return new_name\n",
    "# pip install python-docx\n",
    "import os\n",
    "import shutil\n",
    "from docx import Document\n",
    "\n",
    "# create an instance of a word document \n",
    "newdoc = Document()\n",
    "\n",
    "for i in os.listdir():\n",
    "    if i.find('.docx')>=0:\n",
    "        ## rename the file by removing '('and')'\n",
    "        new_name = rename_file(i)\n",
    "        folder = len_bef_num(new_name)\n",
    "        if not os.path.isdir(folder):\n",
    "            os.mkdir(folder)\n",
    "    ## Add heading of the level 2\n",
    "        newdoc.add_heading(new_name,2)\n",
    "    \n",
    "    ## Word document we want to open\n",
    "        doc = Dociment(new_name)\n",
    "    \n",
    "    ## add a paragrapgh and store the object in the variable\n",
    "        newdoc.add_page_break()\n",
    "    \n",
    "        shutil.move(os.getcwd()+'\\\\'+new_name,os.getcwd()+'\\\\'+folder)\n",
    "    \n",
    "## Now save the document to the location\n",
    "        "
   ]
  },
  {
   "cell_type": "code",
   "execution_count": null,
   "metadata": {},
   "outputs": [],
   "source": []
  },
  {
   "cell_type": "code",
   "execution_count": null,
   "metadata": {},
   "outputs": [],
   "source": []
  }
 ],
 "metadata": {
  "kernelspec": {
   "display_name": "Python 3",
   "language": "python",
   "name": "python3"
  },
  "language_info": {
   "codemirror_mode": {
    "name": "ipython",
    "version": 3
   },
   "file_extension": ".py",
   "mimetype": "text/x-python",
   "name": "python",
   "nbconvert_exporter": "python",
   "pygments_lexer": "ipython3",
   "version": "3.8.5"
  }
 },
 "nbformat": 4,
 "nbformat_minor": 4
}
