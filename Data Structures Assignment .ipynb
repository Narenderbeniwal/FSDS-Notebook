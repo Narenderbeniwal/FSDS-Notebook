{
 "cells": [
  {
   "cell_type": "raw",
   "id": "3f5ccaec",
   "metadata": {},
   "source": [
    "1. What is the distinction between a list and an array?\n",
    "2. What are the qualities of a binary tree?\n",
    "3. What is the best way to combine two balanced binary search trees?\n",
    "4. How would you describe Heap in detail?\n",
    "5. In terms of data structure, what is a HashMap?\n",
    "6. How do you explain the complexities of time and space?\n",
    "7. How do you recursively sort a stack?"
   ]
  },
  {
   "cell_type": "raw",
   "id": "f8ca946e",
   "metadata": {},
   "source": [
    "\n",
    "Q. 1 What is the distinction between a list and an array?\n",
    "\n",
    "Ans:List: A list in Python is a collection of items which can contain elements of multiple data types, which may be either numeric, character logical values, etc. ... \n",
    "\n",
    "Array: An array is a vector containing homogeneous elements i.e. belonging to the same data type."
   ]
  },
  {
   "cell_type": "raw",
   "id": "022aba2b",
   "metadata": {},
   "source": [
    "Q. 2. What are the qualities of a binary tree?\n",
    "\n",
    "\n",
    "Sol: A binary tree consists of a number of nodes that contain the data to be stored (or pointers to the data), and the following structural characteristics : Each node has up to two direct child nodes. There is exactly one node, called the root of the tree, that has no parent node. All other nodes have exactly one parent."
   ]
  },
  {
   "cell_type": "raw",
   "id": "b63d0891",
   "metadata": {},
   "source": [
    "Q. 3. What is the best way to combine two balanced binary search trees?\n",
    "Sol: \n",
    "   1. Perform inorder traversal of tree1 and store each node's value in arr1.\n",
    "2. Perform inorder traversal of tree2 and store each node's value in arr2.\n",
    "3. Combine arr1 and arr2 using merge function of merge sort to create result array.\n",
    "4. Return result array."
   ]
  },
  {
   "cell_type": "raw",
   "id": "5be959d0",
   "metadata": {},
   "source": [
    "Q.  4. How would you describe Heap in detail?\n",
    "Sol : A heap is a useful data structure when it is necessary to repeatedly remove the object with the highest (or lowest) priority, or when insertions need to be interspersed with removals of the root node. A common implementation of a heap is the binary heap, in which the tree is a binary tree "
   ]
  },
  {
   "cell_type": "raw",
   "id": "af03bce3",
   "metadata": {},
   "source": [
    "Q. 5. In terms of data structure, what is a HashMap?\n",
    "\n",
    "\n",
    "Sol: A HashMap is a data structure that is able to map certain keys to certain values. The keys and values could be anything. For example, if I were making a game, I might link every username to a friends list, represented by a List of Strings."
   ]
  },
  {
   "cell_type": "raw",
   "id": "e67be526",
   "metadata": {},
   "source": [
    "Q. 6. How do you explain the complexities of time and space?\n",
    "Sol:\n",
    "    Time complexity of an algorithm quantifies the amount of time taken by an algorithm to run as a function of the length of the input. Similarly, Space complexity of an algorithm quantifies the amount of space or memory taken by an algorithm to run as a function of the length of the input"
   ]
  },
  {
   "cell_type": "raw",
   "id": "e25dc3d8",
   "metadata": {},
   "source": [
    "Q. 7. How do you recursively sort a stack?\n",
    "\n",
    "Sol: \n",
    "    This problem is mainly a variant of Reverse stack using recursion. The idea of the solution is to hold all values in Function Call Stack until the stack becomes empty. When the stack becomes empty, insert all held items one by one in sorted order. Here sorted order is important"
   ]
  }
 ],
 "metadata": {
  "kernelspec": {
   "display_name": "Python 3",
   "language": "python",
   "name": "python3"
  },
  "language_info": {
   "codemirror_mode": {
    "name": "ipython",
    "version": 3
   },
   "file_extension": ".py",
   "mimetype": "text/x-python",
   "name": "python",
   "nbconvert_exporter": "python",
   "pygments_lexer": "ipython3",
   "version": "3.8.8"
  }
 },
 "nbformat": 4,
 "nbformat_minor": 5
}
